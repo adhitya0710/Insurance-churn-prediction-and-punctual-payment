{
  "cells": [
    {
      "cell_type": "code",
      "source": [
        "import pandas as pd\n",
        "from imblearn.over_sampling import SMOTE\n",
        "from sklearn.ensemble import AdaBoostClassifier\n",
        "from xgboost import XGBClassifier\n",
        "from sklearn.neural_network import MLPClassifier"
      ],
      "metadata": {
        "id": "I5orCBxqvCAV"
      },
      "id": "I5orCBxqvCAV",
      "execution_count": null,
      "outputs": []
    },
    {
      "cell_type": "code",
      "source": [
        "df=pd.read_csv(\"/content/drive/MyDrive/project_x/d4.csv\")"
      ],
      "metadata": {
        "id": "YTBOvXJjvB9D"
      },
      "id": "YTBOvXJjvB9D",
      "execution_count": null,
      "outputs": []
    },
    {
      "cell_type": "code",
      "source": [
        "x= df.filter([\"branch\",\"pol_name\",\"Frequency\",\"Payment_Method\",\"Premium\"], axis=1)"
      ],
      "metadata": {
        "id": "VUPQ_v3UvBoR"
      },
      "id": "VUPQ_v3UvBoR",
      "execution_count": null,
      "outputs": []
    },
    {
      "cell_type": "code",
      "source": [
        "df"
      ],
      "metadata": {
        "colab": {
          "base_uri": "https://localhost:8080/",
          "height": 800
        },
        "id": "nfRdQGtBwacz",
        "outputId": "17503680-a18a-4b0c-ba34-d462ded20763"
      },
      "id": "nfRdQGtBwacz",
      "execution_count": null,
      "outputs": [
        {
          "output_type": "execute_result",
          "data": {
            "text/plain": [
              "      Unnamed: 0  pol_id                   owner_name  owner_DOB     LA  \\\n",
              "0              0       1  MR. DEVIDAS UDHARAM RAJWANI   90Jun072  Major   \n",
              "1              1       2  MR. DEVIDAS UDHARAM RAJWANI   90Jun072  Major   \n",
              "2              2       3         MR. VASUDEVAMURTHY R  200May074  Major   \n",
              "3              3       4                MR. MANIYAN S   50Sep086  Major   \n",
              "4              4       5         MR. RAMCHARAN RATHIA  100Jan083  Major   \n",
              "...          ...     ...                          ...        ...    ...   \n",
              "2995        2995    2996          MR. LAV KUMAR PATEL   1/2/1971  Minor   \n",
              "2996        2996    2997         MRS VIDYA PRABHU PAI  6/15/1983  Minor   \n",
              "2997        2997    2998  MRS. LAKSHMI SUJATHA AKASAM  7/12/1989  Minor   \n",
              "2998        2998    2999             MRS. MANJU YADAV  8/13/1981  Minor   \n",
              "2999        2999    3000              MR. RAVIKUMAR P  7/14/1980  Minor   \n",
              "\n",
              "       o_gen     Owner_Occupation Organization_Type  Premium  ann_inc  ...  \\\n",
              "0       Male          Agriculture            Others   600000  7200000  ...   \n",
              "1       Male          Agriculture            Others   600000  7200000  ...   \n",
              "2       Male          Agriculture            Others   521475  6257700  ...   \n",
              "3       Male          Agriculture            Others   501378  6016534  ...   \n",
              "4       Male          Agriculture            Others   500000  6000000  ...   \n",
              "...      ...                  ...               ...      ...      ...  ...   \n",
              "2995    Male              Service          Pvt. Ltd    51125   766875  ...   \n",
              "2996  Female              Service          Pvt. Ltd    24933   373998  ...   \n",
              "2997  Female  Teacher / Professor       Public Ltd.   150000  1875000  ...   \n",
              "2998  Female  Teacher / Professor       Public Ltd.   150000  1875000  ...   \n",
              "2999    Male  Teacher / Professor       Public Ltd.   137205  1715064  ...   \n",
              "\n",
              "     pol_term  Frequency Payment_Method         DOC sum_assured  \\\n",
              "0          20     Annual    Direct Bill   2/28/2019     6000000   \n",
              "1          10     Annual    Direct Bill   2/28/2019     6000000   \n",
              "2           5     Annual    Direct Bill   6/20/2019     7822125   \n",
              "3          20     Annual            ECS   3/31/2018    10000000   \n",
              "4           8     Annual            ECS  11/29/2019     5000000   \n",
              "...       ...        ...            ...         ...         ...   \n",
              "2995        5  Quarterly            ECS   3/31/2017     2045000   \n",
              "2996        5    Monthly            ECS   11/2/2015     2991984   \n",
              "2997       10     Annual    Direct Bill   3/31/2017     1500000   \n",
              "2998       10     Annual    Direct Bill   3/23/2018     1500000   \n",
              "2999        5     Annual    Direct Bill   3/31/2018     2058077   \n",
              "\n",
              "                           pol_sts  13 Month Persistency  \\\n",
              "0                   Premium Paying            25th Month   \n",
              "1                   Premium Paying            25th Month   \n",
              "2                           Lapsed            13th Month   \n",
              "3                   Premium Paying            37th Month   \n",
              "4     Discountinued Payout Pending            13th Month   \n",
              "...                            ...                   ...   \n",
              "2995                Premium Paying            49th Month   \n",
              "2996                Premium Paying            61st Month   \n",
              "2997                Premium Paying            49th Month   \n",
              "2998                Premium Paying            37th Month   \n",
              "2999                Premium Paying            37th Month   \n",
              "\n",
              "             Year 1 to Year 4  FPL final_status  \n",
              "0                  Third Year   No       Unpaid  \n",
              "1                  Third Year  Yes       Unpaid  \n",
              "2                 Second Year  Yes       Unpaid  \n",
              "3                 Fourth Year   No       Unpaid  \n",
              "4                 Second Year   No       Unpaid  \n",
              "...                       ...  ...          ...  \n",
              "2995               Fifth Year  Yes       Unpaid  \n",
              "2996  Greater than Fifth Year  Yes       Unpaid  \n",
              "2997               Fifth Year  Yes       Unpaid  \n",
              "2998              Fourth Year  Yes         Paid  \n",
              "2999              Fourth Year  Yes       Unpaid  \n",
              "\n",
              "[3000 rows x 26 columns]"
            ],
            "text/html": [
              "\n",
              "  <div id=\"df-4a01060a-f372-4490-9da9-beaee541f489\">\n",
              "    <div class=\"colab-df-container\">\n",
              "      <div>\n",
              "<style scoped>\n",
              "    .dataframe tbody tr th:only-of-type {\n",
              "        vertical-align: middle;\n",
              "    }\n",
              "\n",
              "    .dataframe tbody tr th {\n",
              "        vertical-align: top;\n",
              "    }\n",
              "\n",
              "    .dataframe thead th {\n",
              "        text-align: right;\n",
              "    }\n",
              "</style>\n",
              "<table border=\"1\" class=\"dataframe\">\n",
              "  <thead>\n",
              "    <tr style=\"text-align: right;\">\n",
              "      <th></th>\n",
              "      <th>Unnamed: 0</th>\n",
              "      <th>pol_id</th>\n",
              "      <th>owner_name</th>\n",
              "      <th>owner_DOB</th>\n",
              "      <th>LA</th>\n",
              "      <th>o_gen</th>\n",
              "      <th>Owner_Occupation</th>\n",
              "      <th>Organization_Type</th>\n",
              "      <th>Premium</th>\n",
              "      <th>ann_inc</th>\n",
              "      <th>...</th>\n",
              "      <th>pol_term</th>\n",
              "      <th>Frequency</th>\n",
              "      <th>Payment_Method</th>\n",
              "      <th>DOC</th>\n",
              "      <th>sum_assured</th>\n",
              "      <th>pol_sts</th>\n",
              "      <th>13 Month Persistency</th>\n",
              "      <th>Year 1 to Year 4</th>\n",
              "      <th>FPL</th>\n",
              "      <th>final_status</th>\n",
              "    </tr>\n",
              "  </thead>\n",
              "  <tbody>\n",
              "    <tr>\n",
              "      <th>0</th>\n",
              "      <td>0</td>\n",
              "      <td>1</td>\n",
              "      <td>MR. DEVIDAS UDHARAM RAJWANI</td>\n",
              "      <td>90Jun072</td>\n",
              "      <td>Major</td>\n",
              "      <td>Male</td>\n",
              "      <td>Agriculture</td>\n",
              "      <td>Others</td>\n",
              "      <td>600000</td>\n",
              "      <td>7200000</td>\n",
              "      <td>...</td>\n",
              "      <td>20</td>\n",
              "      <td>Annual</td>\n",
              "      <td>Direct Bill</td>\n",
              "      <td>2/28/2019</td>\n",
              "      <td>6000000</td>\n",
              "      <td>Premium Paying</td>\n",
              "      <td>25th Month</td>\n",
              "      <td>Third Year</td>\n",
              "      <td>No</td>\n",
              "      <td>Unpaid</td>\n",
              "    </tr>\n",
              "    <tr>\n",
              "      <th>1</th>\n",
              "      <td>1</td>\n",
              "      <td>2</td>\n",
              "      <td>MR. DEVIDAS UDHARAM RAJWANI</td>\n",
              "      <td>90Jun072</td>\n",
              "      <td>Major</td>\n",
              "      <td>Male</td>\n",
              "      <td>Agriculture</td>\n",
              "      <td>Others</td>\n",
              "      <td>600000</td>\n",
              "      <td>7200000</td>\n",
              "      <td>...</td>\n",
              "      <td>10</td>\n",
              "      <td>Annual</td>\n",
              "      <td>Direct Bill</td>\n",
              "      <td>2/28/2019</td>\n",
              "      <td>6000000</td>\n",
              "      <td>Premium Paying</td>\n",
              "      <td>25th Month</td>\n",
              "      <td>Third Year</td>\n",
              "      <td>Yes</td>\n",
              "      <td>Unpaid</td>\n",
              "    </tr>\n",
              "    <tr>\n",
              "      <th>2</th>\n",
              "      <td>2</td>\n",
              "      <td>3</td>\n",
              "      <td>MR. VASUDEVAMURTHY R</td>\n",
              "      <td>200May074</td>\n",
              "      <td>Major</td>\n",
              "      <td>Male</td>\n",
              "      <td>Agriculture</td>\n",
              "      <td>Others</td>\n",
              "      <td>521475</td>\n",
              "      <td>6257700</td>\n",
              "      <td>...</td>\n",
              "      <td>5</td>\n",
              "      <td>Annual</td>\n",
              "      <td>Direct Bill</td>\n",
              "      <td>6/20/2019</td>\n",
              "      <td>7822125</td>\n",
              "      <td>Lapsed</td>\n",
              "      <td>13th Month</td>\n",
              "      <td>Second Year</td>\n",
              "      <td>Yes</td>\n",
              "      <td>Unpaid</td>\n",
              "    </tr>\n",
              "    <tr>\n",
              "      <th>3</th>\n",
              "      <td>3</td>\n",
              "      <td>4</td>\n",
              "      <td>MR. MANIYAN S</td>\n",
              "      <td>50Sep086</td>\n",
              "      <td>Major</td>\n",
              "      <td>Male</td>\n",
              "      <td>Agriculture</td>\n",
              "      <td>Others</td>\n",
              "      <td>501378</td>\n",
              "      <td>6016534</td>\n",
              "      <td>...</td>\n",
              "      <td>20</td>\n",
              "      <td>Annual</td>\n",
              "      <td>ECS</td>\n",
              "      <td>3/31/2018</td>\n",
              "      <td>10000000</td>\n",
              "      <td>Premium Paying</td>\n",
              "      <td>37th Month</td>\n",
              "      <td>Fourth Year</td>\n",
              "      <td>No</td>\n",
              "      <td>Unpaid</td>\n",
              "    </tr>\n",
              "    <tr>\n",
              "      <th>4</th>\n",
              "      <td>4</td>\n",
              "      <td>5</td>\n",
              "      <td>MR. RAMCHARAN RATHIA</td>\n",
              "      <td>100Jan083</td>\n",
              "      <td>Major</td>\n",
              "      <td>Male</td>\n",
              "      <td>Agriculture</td>\n",
              "      <td>Others</td>\n",
              "      <td>500000</td>\n",
              "      <td>6000000</td>\n",
              "      <td>...</td>\n",
              "      <td>8</td>\n",
              "      <td>Annual</td>\n",
              "      <td>ECS</td>\n",
              "      <td>11/29/2019</td>\n",
              "      <td>5000000</td>\n",
              "      <td>Discountinued Payout Pending</td>\n",
              "      <td>13th Month</td>\n",
              "      <td>Second Year</td>\n",
              "      <td>No</td>\n",
              "      <td>Unpaid</td>\n",
              "    </tr>\n",
              "    <tr>\n",
              "      <th>...</th>\n",
              "      <td>...</td>\n",
              "      <td>...</td>\n",
              "      <td>...</td>\n",
              "      <td>...</td>\n",
              "      <td>...</td>\n",
              "      <td>...</td>\n",
              "      <td>...</td>\n",
              "      <td>...</td>\n",
              "      <td>...</td>\n",
              "      <td>...</td>\n",
              "      <td>...</td>\n",
              "      <td>...</td>\n",
              "      <td>...</td>\n",
              "      <td>...</td>\n",
              "      <td>...</td>\n",
              "      <td>...</td>\n",
              "      <td>...</td>\n",
              "      <td>...</td>\n",
              "      <td>...</td>\n",
              "      <td>...</td>\n",
              "      <td>...</td>\n",
              "    </tr>\n",
              "    <tr>\n",
              "      <th>2995</th>\n",
              "      <td>2995</td>\n",
              "      <td>2996</td>\n",
              "      <td>MR. LAV KUMAR PATEL</td>\n",
              "      <td>1/2/1971</td>\n",
              "      <td>Minor</td>\n",
              "      <td>Male</td>\n",
              "      <td>Service</td>\n",
              "      <td>Pvt. Ltd</td>\n",
              "      <td>51125</td>\n",
              "      <td>766875</td>\n",
              "      <td>...</td>\n",
              "      <td>5</td>\n",
              "      <td>Quarterly</td>\n",
              "      <td>ECS</td>\n",
              "      <td>3/31/2017</td>\n",
              "      <td>2045000</td>\n",
              "      <td>Premium Paying</td>\n",
              "      <td>49th Month</td>\n",
              "      <td>Fifth Year</td>\n",
              "      <td>Yes</td>\n",
              "      <td>Unpaid</td>\n",
              "    </tr>\n",
              "    <tr>\n",
              "      <th>2996</th>\n",
              "      <td>2996</td>\n",
              "      <td>2997</td>\n",
              "      <td>MRS VIDYA PRABHU PAI</td>\n",
              "      <td>6/15/1983</td>\n",
              "      <td>Minor</td>\n",
              "      <td>Female</td>\n",
              "      <td>Service</td>\n",
              "      <td>Pvt. Ltd</td>\n",
              "      <td>24933</td>\n",
              "      <td>373998</td>\n",
              "      <td>...</td>\n",
              "      <td>5</td>\n",
              "      <td>Monthly</td>\n",
              "      <td>ECS</td>\n",
              "      <td>11/2/2015</td>\n",
              "      <td>2991984</td>\n",
              "      <td>Premium Paying</td>\n",
              "      <td>61st Month</td>\n",
              "      <td>Greater than Fifth Year</td>\n",
              "      <td>Yes</td>\n",
              "      <td>Unpaid</td>\n",
              "    </tr>\n",
              "    <tr>\n",
              "      <th>2997</th>\n",
              "      <td>2997</td>\n",
              "      <td>2998</td>\n",
              "      <td>MRS. LAKSHMI SUJATHA AKASAM</td>\n",
              "      <td>7/12/1989</td>\n",
              "      <td>Minor</td>\n",
              "      <td>Female</td>\n",
              "      <td>Teacher / Professor</td>\n",
              "      <td>Public Ltd.</td>\n",
              "      <td>150000</td>\n",
              "      <td>1875000</td>\n",
              "      <td>...</td>\n",
              "      <td>10</td>\n",
              "      <td>Annual</td>\n",
              "      <td>Direct Bill</td>\n",
              "      <td>3/31/2017</td>\n",
              "      <td>1500000</td>\n",
              "      <td>Premium Paying</td>\n",
              "      <td>49th Month</td>\n",
              "      <td>Fifth Year</td>\n",
              "      <td>Yes</td>\n",
              "      <td>Unpaid</td>\n",
              "    </tr>\n",
              "    <tr>\n",
              "      <th>2998</th>\n",
              "      <td>2998</td>\n",
              "      <td>2999</td>\n",
              "      <td>MRS. MANJU YADAV</td>\n",
              "      <td>8/13/1981</td>\n",
              "      <td>Minor</td>\n",
              "      <td>Female</td>\n",
              "      <td>Teacher / Professor</td>\n",
              "      <td>Public Ltd.</td>\n",
              "      <td>150000</td>\n",
              "      <td>1875000</td>\n",
              "      <td>...</td>\n",
              "      <td>10</td>\n",
              "      <td>Annual</td>\n",
              "      <td>Direct Bill</td>\n",
              "      <td>3/23/2018</td>\n",
              "      <td>1500000</td>\n",
              "      <td>Premium Paying</td>\n",
              "      <td>37th Month</td>\n",
              "      <td>Fourth Year</td>\n",
              "      <td>Yes</td>\n",
              "      <td>Paid</td>\n",
              "    </tr>\n",
              "    <tr>\n",
              "      <th>2999</th>\n",
              "      <td>2999</td>\n",
              "      <td>3000</td>\n",
              "      <td>MR. RAVIKUMAR P</td>\n",
              "      <td>7/14/1980</td>\n",
              "      <td>Minor</td>\n",
              "      <td>Male</td>\n",
              "      <td>Teacher / Professor</td>\n",
              "      <td>Public Ltd.</td>\n",
              "      <td>137205</td>\n",
              "      <td>1715064</td>\n",
              "      <td>...</td>\n",
              "      <td>5</td>\n",
              "      <td>Annual</td>\n",
              "      <td>Direct Bill</td>\n",
              "      <td>3/31/2018</td>\n",
              "      <td>2058077</td>\n",
              "      <td>Premium Paying</td>\n",
              "      <td>37th Month</td>\n",
              "      <td>Fourth Year</td>\n",
              "      <td>Yes</td>\n",
              "      <td>Unpaid</td>\n",
              "    </tr>\n",
              "  </tbody>\n",
              "</table>\n",
              "<p>3000 rows × 26 columns</p>\n",
              "</div>\n",
              "      <button class=\"colab-df-convert\" onclick=\"convertToInteractive('df-4a01060a-f372-4490-9da9-beaee541f489')\"\n",
              "              title=\"Convert this dataframe to an interactive table.\"\n",
              "              style=\"display:none;\">\n",
              "        \n",
              "  <svg xmlns=\"http://www.w3.org/2000/svg\" height=\"24px\"viewBox=\"0 0 24 24\"\n",
              "       width=\"24px\">\n",
              "    <path d=\"M0 0h24v24H0V0z\" fill=\"none\"/>\n",
              "    <path d=\"M18.56 5.44l.94 2.06.94-2.06 2.06-.94-2.06-.94-.94-2.06-.94 2.06-2.06.94zm-11 1L8.5 8.5l.94-2.06 2.06-.94-2.06-.94L8.5 2.5l-.94 2.06-2.06.94zm10 10l.94 2.06.94-2.06 2.06-.94-2.06-.94-.94-2.06-.94 2.06-2.06.94z\"/><path d=\"M17.41 7.96l-1.37-1.37c-.4-.4-.92-.59-1.43-.59-.52 0-1.04.2-1.43.59L10.3 9.45l-7.72 7.72c-.78.78-.78 2.05 0 2.83L4 21.41c.39.39.9.59 1.41.59.51 0 1.02-.2 1.41-.59l7.78-7.78 2.81-2.81c.8-.78.8-2.07 0-2.86zM5.41 20L4 18.59l7.72-7.72 1.47 1.35L5.41 20z\"/>\n",
              "  </svg>\n",
              "      </button>\n",
              "      \n",
              "  <style>\n",
              "    .colab-df-container {\n",
              "      display:flex;\n",
              "      flex-wrap:wrap;\n",
              "      gap: 12px;\n",
              "    }\n",
              "\n",
              "    .colab-df-convert {\n",
              "      background-color: #E8F0FE;\n",
              "      border: none;\n",
              "      border-radius: 50%;\n",
              "      cursor: pointer;\n",
              "      display: none;\n",
              "      fill: #1967D2;\n",
              "      height: 32px;\n",
              "      padding: 0 0 0 0;\n",
              "      width: 32px;\n",
              "    }\n",
              "\n",
              "    .colab-df-convert:hover {\n",
              "      background-color: #E2EBFA;\n",
              "      box-shadow: 0px 1px 2px rgba(60, 64, 67, 0.3), 0px 1px 3px 1px rgba(60, 64, 67, 0.15);\n",
              "      fill: #174EA6;\n",
              "    }\n",
              "\n",
              "    [theme=dark] .colab-df-convert {\n",
              "      background-color: #3B4455;\n",
              "      fill: #D2E3FC;\n",
              "    }\n",
              "\n",
              "    [theme=dark] .colab-df-convert:hover {\n",
              "      background-color: #434B5C;\n",
              "      box-shadow: 0px 1px 3px 1px rgba(0, 0, 0, 0.15);\n",
              "      filter: drop-shadow(0px 1px 2px rgba(0, 0, 0, 0.3));\n",
              "      fill: #FFFFFF;\n",
              "    }\n",
              "  </style>\n",
              "\n",
              "      <script>\n",
              "        const buttonEl =\n",
              "          document.querySelector('#df-4a01060a-f372-4490-9da9-beaee541f489 button.colab-df-convert');\n",
              "        buttonEl.style.display =\n",
              "          google.colab.kernel.accessAllowed ? 'block' : 'none';\n",
              "\n",
              "        async function convertToInteractive(key) {\n",
              "          const element = document.querySelector('#df-4a01060a-f372-4490-9da9-beaee541f489');\n",
              "          const dataTable =\n",
              "            await google.colab.kernel.invokeFunction('convertToInteractive',\n",
              "                                                     [key], {});\n",
              "          if (!dataTable) return;\n",
              "\n",
              "          const docLinkHtml = 'Like what you see? Visit the ' +\n",
              "            '<a target=\"_blank\" href=https://colab.research.google.com/notebooks/data_table.ipynb>data table notebook</a>'\n",
              "            + ' to learn more about interactive tables.';\n",
              "          element.innerHTML = '';\n",
              "          dataTable['output_type'] = 'display_data';\n",
              "          await google.colab.output.renderOutput(dataTable, element);\n",
              "          const docLink = document.createElement('div');\n",
              "          docLink.innerHTML = docLinkHtml;\n",
              "          element.appendChild(docLink);\n",
              "        }\n",
              "      </script>\n",
              "    </div>\n",
              "  </div>\n",
              "  "
            ]
          },
          "metadata": {},
          "execution_count": 185
        }
      ]
    },
    {
      "cell_type": "code",
      "source": [
        "from sklearn import preprocessing\n",
        "number = preprocessing.LabelEncoder()\n",
        "x['branch'] = number.fit_transform(x.branch)\n",
        "x['Payment_Method'] = number.fit_transform(x.Payment_Method)\n",
        "x['Frequency'] = number.fit_transform(x.Frequency)\n",
        "x['pol_name'] = number.fit_transform(x.pol_name)\n"
      ],
      "metadata": {
        "id": "ZzOFZ9IhvBfQ"
      },
      "id": "ZzOFZ9IhvBfQ",
      "execution_count": null,
      "outputs": []
    },
    {
      "cell_type": "code",
      "source": [
        "x"
      ],
      "metadata": {
        "colab": {
          "base_uri": "https://localhost:8080/",
          "height": 424
        },
        "id": "NshzP0gyvBZX",
        "outputId": "17ecc9a1-3d09-43b1-ecdc-46894ed16095"
      },
      "id": "NshzP0gyvBZX",
      "execution_count": null,
      "outputs": [
        {
          "output_type": "execute_result",
          "data": {
            "text/plain": [
              "      branch  pol_name  Frequency  Payment_Method  Premium\n",
              "0         73       347          0               0   600000\n",
              "1         58        66          0               0   600000\n",
              "2          4       312          0               0   521475\n",
              "3          4        68          0               1   501378\n",
              "4         46       248          0               1   500000\n",
              "...      ...       ...        ...             ...      ...\n",
              "2995      72       312          3               1    51125\n",
              "2996      29       312          2               1    24933\n",
              "2997      12       314          0               0   150000\n",
              "2998      71       314          0               0   150000\n",
              "2999      42       312          0               0   137205\n",
              "\n",
              "[3000 rows x 5 columns]"
            ],
            "text/html": [
              "\n",
              "  <div id=\"df-b8c6a4e7-b0d6-4c05-b3a7-8038971c24bc\">\n",
              "    <div class=\"colab-df-container\">\n",
              "      <div>\n",
              "<style scoped>\n",
              "    .dataframe tbody tr th:only-of-type {\n",
              "        vertical-align: middle;\n",
              "    }\n",
              "\n",
              "    .dataframe tbody tr th {\n",
              "        vertical-align: top;\n",
              "    }\n",
              "\n",
              "    .dataframe thead th {\n",
              "        text-align: right;\n",
              "    }\n",
              "</style>\n",
              "<table border=\"1\" class=\"dataframe\">\n",
              "  <thead>\n",
              "    <tr style=\"text-align: right;\">\n",
              "      <th></th>\n",
              "      <th>branch</th>\n",
              "      <th>pol_name</th>\n",
              "      <th>Frequency</th>\n",
              "      <th>Payment_Method</th>\n",
              "      <th>Premium</th>\n",
              "    </tr>\n",
              "  </thead>\n",
              "  <tbody>\n",
              "    <tr>\n",
              "      <th>0</th>\n",
              "      <td>73</td>\n",
              "      <td>347</td>\n",
              "      <td>0</td>\n",
              "      <td>0</td>\n",
              "      <td>600000</td>\n",
              "    </tr>\n",
              "    <tr>\n",
              "      <th>1</th>\n",
              "      <td>58</td>\n",
              "      <td>66</td>\n",
              "      <td>0</td>\n",
              "      <td>0</td>\n",
              "      <td>600000</td>\n",
              "    </tr>\n",
              "    <tr>\n",
              "      <th>2</th>\n",
              "      <td>4</td>\n",
              "      <td>312</td>\n",
              "      <td>0</td>\n",
              "      <td>0</td>\n",
              "      <td>521475</td>\n",
              "    </tr>\n",
              "    <tr>\n",
              "      <th>3</th>\n",
              "      <td>4</td>\n",
              "      <td>68</td>\n",
              "      <td>0</td>\n",
              "      <td>1</td>\n",
              "      <td>501378</td>\n",
              "    </tr>\n",
              "    <tr>\n",
              "      <th>4</th>\n",
              "      <td>46</td>\n",
              "      <td>248</td>\n",
              "      <td>0</td>\n",
              "      <td>1</td>\n",
              "      <td>500000</td>\n",
              "    </tr>\n",
              "    <tr>\n",
              "      <th>...</th>\n",
              "      <td>...</td>\n",
              "      <td>...</td>\n",
              "      <td>...</td>\n",
              "      <td>...</td>\n",
              "      <td>...</td>\n",
              "    </tr>\n",
              "    <tr>\n",
              "      <th>2995</th>\n",
              "      <td>72</td>\n",
              "      <td>312</td>\n",
              "      <td>3</td>\n",
              "      <td>1</td>\n",
              "      <td>51125</td>\n",
              "    </tr>\n",
              "    <tr>\n",
              "      <th>2996</th>\n",
              "      <td>29</td>\n",
              "      <td>312</td>\n",
              "      <td>2</td>\n",
              "      <td>1</td>\n",
              "      <td>24933</td>\n",
              "    </tr>\n",
              "    <tr>\n",
              "      <th>2997</th>\n",
              "      <td>12</td>\n",
              "      <td>314</td>\n",
              "      <td>0</td>\n",
              "      <td>0</td>\n",
              "      <td>150000</td>\n",
              "    </tr>\n",
              "    <tr>\n",
              "      <th>2998</th>\n",
              "      <td>71</td>\n",
              "      <td>314</td>\n",
              "      <td>0</td>\n",
              "      <td>0</td>\n",
              "      <td>150000</td>\n",
              "    </tr>\n",
              "    <tr>\n",
              "      <th>2999</th>\n",
              "      <td>42</td>\n",
              "      <td>312</td>\n",
              "      <td>0</td>\n",
              "      <td>0</td>\n",
              "      <td>137205</td>\n",
              "    </tr>\n",
              "  </tbody>\n",
              "</table>\n",
              "<p>3000 rows × 5 columns</p>\n",
              "</div>\n",
              "      <button class=\"colab-df-convert\" onclick=\"convertToInteractive('df-b8c6a4e7-b0d6-4c05-b3a7-8038971c24bc')\"\n",
              "              title=\"Convert this dataframe to an interactive table.\"\n",
              "              style=\"display:none;\">\n",
              "        \n",
              "  <svg xmlns=\"http://www.w3.org/2000/svg\" height=\"24px\"viewBox=\"0 0 24 24\"\n",
              "       width=\"24px\">\n",
              "    <path d=\"M0 0h24v24H0V0z\" fill=\"none\"/>\n",
              "    <path d=\"M18.56 5.44l.94 2.06.94-2.06 2.06-.94-2.06-.94-.94-2.06-.94 2.06-2.06.94zm-11 1L8.5 8.5l.94-2.06 2.06-.94-2.06-.94L8.5 2.5l-.94 2.06-2.06.94zm10 10l.94 2.06.94-2.06 2.06-.94-2.06-.94-.94-2.06-.94 2.06-2.06.94z\"/><path d=\"M17.41 7.96l-1.37-1.37c-.4-.4-.92-.59-1.43-.59-.52 0-1.04.2-1.43.59L10.3 9.45l-7.72 7.72c-.78.78-.78 2.05 0 2.83L4 21.41c.39.39.9.59 1.41.59.51 0 1.02-.2 1.41-.59l7.78-7.78 2.81-2.81c.8-.78.8-2.07 0-2.86zM5.41 20L4 18.59l7.72-7.72 1.47 1.35L5.41 20z\"/>\n",
              "  </svg>\n",
              "      </button>\n",
              "      \n",
              "  <style>\n",
              "    .colab-df-container {\n",
              "      display:flex;\n",
              "      flex-wrap:wrap;\n",
              "      gap: 12px;\n",
              "    }\n",
              "\n",
              "    .colab-df-convert {\n",
              "      background-color: #E8F0FE;\n",
              "      border: none;\n",
              "      border-radius: 50%;\n",
              "      cursor: pointer;\n",
              "      display: none;\n",
              "      fill: #1967D2;\n",
              "      height: 32px;\n",
              "      padding: 0 0 0 0;\n",
              "      width: 32px;\n",
              "    }\n",
              "\n",
              "    .colab-df-convert:hover {\n",
              "      background-color: #E2EBFA;\n",
              "      box-shadow: 0px 1px 2px rgba(60, 64, 67, 0.3), 0px 1px 3px 1px rgba(60, 64, 67, 0.15);\n",
              "      fill: #174EA6;\n",
              "    }\n",
              "\n",
              "    [theme=dark] .colab-df-convert {\n",
              "      background-color: #3B4455;\n",
              "      fill: #D2E3FC;\n",
              "    }\n",
              "\n",
              "    [theme=dark] .colab-df-convert:hover {\n",
              "      background-color: #434B5C;\n",
              "      box-shadow: 0px 1px 3px 1px rgba(0, 0, 0, 0.15);\n",
              "      filter: drop-shadow(0px 1px 2px rgba(0, 0, 0, 0.3));\n",
              "      fill: #FFFFFF;\n",
              "    }\n",
              "  </style>\n",
              "\n",
              "      <script>\n",
              "        const buttonEl =\n",
              "          document.querySelector('#df-b8c6a4e7-b0d6-4c05-b3a7-8038971c24bc button.colab-df-convert');\n",
              "        buttonEl.style.display =\n",
              "          google.colab.kernel.accessAllowed ? 'block' : 'none';\n",
              "\n",
              "        async function convertToInteractive(key) {\n",
              "          const element = document.querySelector('#df-b8c6a4e7-b0d6-4c05-b3a7-8038971c24bc');\n",
              "          const dataTable =\n",
              "            await google.colab.kernel.invokeFunction('convertToInteractive',\n",
              "                                                     [key], {});\n",
              "          if (!dataTable) return;\n",
              "\n",
              "          const docLinkHtml = 'Like what you see? Visit the ' +\n",
              "            '<a target=\"_blank\" href=https://colab.research.google.com/notebooks/data_table.ipynb>data table notebook</a>'\n",
              "            + ' to learn more about interactive tables.';\n",
              "          element.innerHTML = '';\n",
              "          dataTable['output_type'] = 'display_data';\n",
              "          await google.colab.output.renderOutput(dataTable, element);\n",
              "          const docLink = document.createElement('div');\n",
              "          docLink.innerHTML = docLinkHtml;\n",
              "          element.appendChild(docLink);\n",
              "        }\n",
              "      </script>\n",
              "    </div>\n",
              "  </div>\n",
              "  "
            ]
          },
          "metadata": {},
          "execution_count": 187
        }
      ]
    },
    {
      "cell_type": "code",
      "source": [
        "b=\"branch\"\n",
        "p=\"pol_name\"\n",
        "f=\"Frequency\"\n",
        "pm=\"Payment_Method\"\n",
        "X=\"Premium\""
      ],
      "metadata": {
        "id": "G9-dc_LGwPp1"
      },
      "id": "G9-dc_LGwPp1",
      "execution_count": null,
      "outputs": []
    },
    {
      "cell_type": "code",
      "source": [
        "x[X] = x[X] /x[X].abs().max()"
      ],
      "metadata": {
        "id": "iQ15a9dywPmD"
      },
      "id": "iQ15a9dywPmD",
      "execution_count": null,
      "outputs": []
    },
    {
      "cell_type": "markdown",
      "source": [
        "#Spliting the data according to clustered data using  K-Means"
      ],
      "metadata": {
        "id": "TlCLB22LwugZ"
      },
      "id": "TlCLB22LwugZ"
    },
    {
      "cell_type": "code",
      "source": [
        "from sklearn.cluster import KMeans\n",
        "import matplotlib.pyplot as plt"
      ],
      "metadata": {
        "id": "QUW2wnBTwPi1"
      },
      "id": "QUW2wnBTwPi1",
      "execution_count": null,
      "outputs": []
    },
    {
      "cell_type": "markdown",
      "source": [
        "Using Elbow method to find optimal number of clusters"
      ],
      "metadata": {
        "id": "Lm_Fr5sYxSDS"
      },
      "id": "Lm_Fr5sYxSDS"
    },
    {
      "cell_type": "code",
      "source": [
        "sse = {}\n",
        "for k in range(1, 10):\n",
        "    kmeans = KMeans(n_clusters=k, max_iter=1000).fit(x)\n",
        "    x[\"clusters\"] = kmeans.labels_\n",
        "    sse[k] = kmeans.inertia_ \n",
        "plt.figure()\n",
        "plt.plot(list(sse.keys()), list(sse.values()))\n",
        "plt.xlabel(\"Number of cluster\")\n",
        "plt.ylabel(\"SSE\")\n",
        "plt.show()"
      ],
      "metadata": {
        "colab": {
          "base_uri": "https://localhost:8080/",
          "height": 290
        },
        "id": "TVK1hHEYwPTL",
        "outputId": "8d92125f-08a6-4cc8-d7d3-cde08fd1cb9a"
      },
      "id": "TVK1hHEYwPTL",
      "execution_count": null,
      "outputs": [
        {
          "output_type": "display_data",
          "data": {
            "text/plain": [
              "<Figure size 432x288 with 1 Axes>"
            ],
            "image/png": "[encoded data removed]"
          },
          "metadata": {
            "needs_background": "light"
          }
        }
      ]
    },
    {
      "cell_type": "code",
      "source": [
        "km = KMeans(n_clusters = 3)"
      ],
      "metadata": {
        "id": "QdeCHooPwPQW"
      },
      "id": "QdeCHooPwPQW",
      "execution_count": null,
      "outputs": []
    },
    {
      "cell_type": "code",
      "source": [
        "y_predicted = km.fit_predict(x)"
      ],
      "metadata": {
        "id": "FKyQ1iMQwPNG"
      },
      "id": "FKyQ1iMQwPNG",
      "execution_count": null,
      "outputs": []
    },
    {
      "cell_type": "code",
      "source": [
        "x['cluster'] = y_predicted"
      ],
      "metadata": {
        "id": "tM9EZB9swPJq"
      },
      "id": "tM9EZB9swPJq",
      "execution_count": null,
      "outputs": []
    },
    {
      "cell_type": "code",
      "source": [
        "from sklearn.datasets import make_blobs\n",
        "X, y_true = make_blobs(n_samples=300, centers=4,\n",
        "                       cluster_std=0.60, random_state=0)"
      ],
      "metadata": {
        "id": "m4m6rbK9wPGK"
      },
      "id": "m4m6rbK9wPGK",
      "execution_count": null,
      "outputs": []
    },
    {
      "cell_type": "markdown",
      "source": [
        "Using PCA to to reduce dimensions"
      ],
      "metadata": {
        "id": "4GFOzZg4xoLF"
      },
      "id": "4GFOzZg4xoLF"
    },
    {
      "cell_type": "code",
      "source": [
        "from sklearn.decomposition import PCA\n",
        "import seaborn as sns"
      ],
      "metadata": {
        "id": "wUgXmhj7x21w"
      },
      "id": "wUgXmhj7x21w",
      "execution_count": null,
      "outputs": []
    },
    {
      "cell_type": "code",
      "source": [
        "pca_num_components = 2\n",
        "\n",
        "reduced_data = PCA(n_components=pca_num_components).fit_transform(x)\n",
        "results = pd.DataFrame(reduced_data,columns=['pca1','pca2'])\n",
        "\n",
        "sns.scatterplot(x=\"pca1\", y=\"pca2\", hue=x['cluster'], data=results)\n",
        "plt.title('K-means Clustering with 2 dimensions')\n",
        "plt.show()"
      ],
      "metadata": {
        "colab": {
          "base_uri": "https://localhost:8080/",
          "height": 295
        },
        "id": "LFaic1Pfx2hs",
        "outputId": "f1d8cc34-64bd-4099-ed4f-8dbb4601b3a6"
      },
      "id": "LFaic1Pfx2hs",
      "execution_count": null,
      "outputs": [
        {
          "output_type": "display_data",
          "data": {
            "text/plain": [
              "<Figure size 432x288 with 1 Axes>"
            ],
            "image/png": "[encoded data removed]"
          },
          "metadata": {
            "needs_background": "light"
          }
        }
      ]
    },
    {
      "cell_type": "code",
      "source": [
        "x[\"fin_sts\"]=df.final_status"
      ],
      "metadata": {
        "id": "s0Q9EKLCx2cm"
      },
      "id": "s0Q9EKLCx2cm",
      "execution_count": null,
      "outputs": []
    },
    {
      "cell_type": "code",
      "source": [
        "x[b] = x[b] /x[b].abs().max()\n",
        "x[p] = x[p] /x[p].abs().max()\n",
        "x[f] = x[f] /x[f].abs().max()\n",
        "x[pm] = x[pm] /x[pm].abs().max()"
      ],
      "metadata": {
        "id": "bvJiBbT4x2ZP"
      },
      "id": "bvJiBbT4x2ZP",
      "execution_count": null,
      "outputs": []
    },
    {
      "cell_type": "markdown",
      "source": [
        "Spliting the data according to the cluster"
      ],
      "metadata": {
        "id": "P8ZOTfnPyOXp"
      },
      "id": "P8ZOTfnPyOXp"
    },
    {
      "cell_type": "code",
      "source": [
        "branch0=[]\n",
        "plname0=[]\n",
        "freq0=[]\n",
        "pay_meth0=[]\n",
        "pr0=[]\n",
        "sts0=[]\n",
        "for i in range(3000):\n",
        "    if x.cluster[i]==0:\n",
        "        branch0.append(x.branch[i])\n",
        "        plname0.append(x.pol_name[i])\n",
        "        freq0.append(x.Frequency[i])\n",
        "        pay_meth0.append(x.Payment_Method[i])\n",
        "        pr0.append(x.Premium[i])\n",
        "        sts0.append(x.fin_sts[i])"
      ],
      "metadata": {
        "id": "9Gwvu1hnx2TR"
      },
      "id": "9Gwvu1hnx2TR",
      "execution_count": null,
      "outputs": []
    },
    {
      "cell_type": "code",
      "source": [
        "df0=pd.DataFrame(branch0,columns=[\"Branch\"])\n",
        "df0[\"pl_name\"]=plname0\n",
        "df0[\"freq\"]=freq0\n",
        "df0[\"pay_meth\"]=pay_meth0\n",
        "df0[\"pr\"]=pr0\n",
        "df0[\"fin_sts\"]=sts0"
      ],
      "metadata": {
        "id": "HxIgm4Q2wPBN"
      },
      "id": "HxIgm4Q2wPBN",
      "execution_count": null,
      "outputs": []
    },
    {
      "cell_type": "code",
      "source": [
        "df0"
      ],
      "metadata": {
        "colab": {
          "base_uri": "https://localhost:8080/",
          "height": 424
        },
        "id": "9rcjWrjXwO33",
        "outputId": "2123ae1b-277b-4212-bd1c-5804de0bcf4e"
      },
      "id": "9rcjWrjXwO33",
      "execution_count": null,
      "outputs": [
        {
          "output_type": "execute_result",
          "data": {
            "text/plain": [
              "     Branch   pl_name      freq  pay_meth        pr fin_sts\n",
              "0    0.7250  0.162162  0.000000       0.0  0.606061  Unpaid\n",
              "1    0.0500  0.167076  0.000000       1.0  0.506442  Unpaid\n",
              "2    0.0625  0.154791  0.000000       1.0  0.505051  Unpaid\n",
              "3    0.2000  0.029484  0.000000       1.0  0.505051    Paid\n",
              "4    0.6000  0.027027  0.000000       1.0  0.505051    Paid\n",
              "..      ...       ...       ...       ...       ...     ...\n",
              "893  0.2625  0.039312  0.000000       1.0  0.101010  Unpaid\n",
              "894  0.5750  0.039312  0.333333       0.0  0.100511  Unpaid\n",
              "895  0.1125  0.147420  1.000000       1.0  0.099670    Paid\n",
              "896  0.7250  0.039312  1.000000       1.0  0.099551    Paid\n",
              "897  0.1125  0.147420  1.000000       1.0  0.079842    Paid\n",
              "\n",
              "[898 rows x 6 columns]"
            ],
            "text/html": [
              "\n",
              "  <div id=\"df-91e70d74-be4d-4b00-9812-9151e1bda0a1\">\n",
              "    <div class=\"colab-df-container\">\n",
              "      <div>\n",
              "<style scoped>\n",
              "    .dataframe tbody tr th:only-of-type {\n",
              "        vertical-align: middle;\n",
              "    }\n",
              "\n",
              "    .dataframe tbody tr th {\n",
              "        vertical-align: top;\n",
              "    }\n",
              "\n",
              "    .dataframe thead th {\n",
              "        text-align: right;\n",
              "    }\n",
              "</style>\n",
              "<table border=\"1\" class=\"dataframe\">\n",
              "  <thead>\n",
              "    <tr style=\"text-align: right;\">\n",
              "      <th></th>\n",
              "      <th>Branch</th>\n",
              "      <th>pl_name</th>\n",
              "      <th>freq</th>\n",
              "      <th>pay_meth</th>\n",
              "      <th>pr</th>\n",
              "      <th>fin_sts</th>\n",
              "    </tr>\n",
              "  </thead>\n",
              "  <tbody>\n",
              "    <tr>\n",
              "      <th>0</th>\n",
              "      <td>0.7250</td>\n",
              "      <td>0.162162</td>\n",
              "      <td>0.000000</td>\n",
              "      <td>0.0</td>\n",
              "      <td>0.606061</td>\n",
              "      <td>Unpaid</td>\n",
              "    </tr>\n",
              "    <tr>\n",
              "      <th>1</th>\n",
              "      <td>0.0500</td>\n",
              "      <td>0.167076</td>\n",
              "      <td>0.000000</td>\n",
              "      <td>1.0</td>\n",
              "      <td>0.506442</td>\n",
              "      <td>Unpaid</td>\n",
              "    </tr>\n",
              "    <tr>\n",
              "      <th>2</th>\n",
              "      <td>0.0625</td>\n",
              "      <td>0.154791</td>\n",
              "      <td>0.000000</td>\n",
              "      <td>1.0</td>\n",
              "      <td>0.505051</td>\n",
              "      <td>Unpaid</td>\n",
              "    </tr>\n",
              "    <tr>\n",
              "      <th>3</th>\n",
              "      <td>0.2000</td>\n",
              "      <td>0.029484</td>\n",
              "      <td>0.000000</td>\n",
              "      <td>1.0</td>\n",
              "      <td>0.505051</td>\n",
              "      <td>Paid</td>\n",
              "    </tr>\n",
              "    <tr>\n",
              "      <th>4</th>\n",
              "      <td>0.6000</td>\n",
              "      <td>0.027027</td>\n",
              "      <td>0.000000</td>\n",
              "      <td>1.0</td>\n",
              "      <td>0.505051</td>\n",
              "      <td>Paid</td>\n",
              "    </tr>\n",
              "    <tr>\n",
              "      <th>...</th>\n",
              "      <td>...</td>\n",
              "      <td>...</td>\n",
              "      <td>...</td>\n",
              "      <td>...</td>\n",
              "      <td>...</td>\n",
              "      <td>...</td>\n",
              "    </tr>\n",
              "    <tr>\n",
              "      <th>893</th>\n",
              "      <td>0.2625</td>\n",
              "      <td>0.039312</td>\n",
              "      <td>0.000000</td>\n",
              "      <td>1.0</td>\n",
              "      <td>0.101010</td>\n",
              "      <td>Unpaid</td>\n",
              "    </tr>\n",
              "    <tr>\n",
              "      <th>894</th>\n",
              "      <td>0.5750</td>\n",
              "      <td>0.039312</td>\n",
              "      <td>0.333333</td>\n",
              "      <td>0.0</td>\n",
              "      <td>0.100511</td>\n",
              "      <td>Unpaid</td>\n",
              "    </tr>\n",
              "    <tr>\n",
              "      <th>895</th>\n",
              "      <td>0.1125</td>\n",
              "      <td>0.147420</td>\n",
              "      <td>1.000000</td>\n",
              "      <td>1.0</td>\n",
              "      <td>0.099670</td>\n",
              "      <td>Paid</td>\n",
              "    </tr>\n",
              "    <tr>\n",
              "      <th>896</th>\n",
              "      <td>0.7250</td>\n",
              "      <td>0.039312</td>\n",
              "      <td>1.000000</td>\n",
              "      <td>1.0</td>\n",
              "      <td>0.099551</td>\n",
              "      <td>Paid</td>\n",
              "    </tr>\n",
              "    <tr>\n",
              "      <th>897</th>\n",
              "      <td>0.1125</td>\n",
              "      <td>0.147420</td>\n",
              "      <td>1.000000</td>\n",
              "      <td>1.0</td>\n",
              "      <td>0.079842</td>\n",
              "      <td>Paid</td>\n",
              "    </tr>\n",
              "  </tbody>\n",
              "</table>\n",
              "<p>898 rows × 6 columns</p>\n",
              "</div>\n",
              "      <button class=\"colab-df-convert\" onclick=\"convertToInteractive('df-91e70d74-be4d-4b00-9812-9151e1bda0a1')\"\n",
              "              title=\"Convert this dataframe to an interactive table.\"\n",
              "              style=\"display:none;\">\n",
              "        \n",
              "  <svg xmlns=\"http://www.w3.org/2000/svg\" height=\"24px\"viewBox=\"0 0 24 24\"\n",
              "       width=\"24px\">\n",
              "    <path d=\"M0 0h24v24H0V0z\" fill=\"none\"/>\n",
              "    <path d=\"M18.56 5.44l.94 2.06.94-2.06 2.06-.94-2.06-.94-.94-2.06-.94 2.06-2.06.94zm-11 1L8.5 8.5l.94-2.06 2.06-.94-2.06-.94L8.5 2.5l-.94 2.06-2.06.94zm10 10l.94 2.06.94-2.06 2.06-.94-2.06-.94-.94-2.06-.94 2.06-2.06.94z\"/><path d=\"M17.41 7.96l-1.37-1.37c-.4-.4-.92-.59-1.43-.59-.52 0-1.04.2-1.43.59L10.3 9.45l-7.72 7.72c-.78.78-.78 2.05 0 2.83L4 21.41c.39.39.9.59 1.41.59.51 0 1.02-.2 1.41-.59l7.78-7.78 2.81-2.81c.8-.78.8-2.07 0-2.86zM5.41 20L4 18.59l7.72-7.72 1.47 1.35L5.41 20z\"/>\n",
              "  </svg>\n",
              "      </button>\n",
              "      \n",
              "  <style>\n",
              "    .colab-df-container {\n",
              "      display:flex;\n",
              "      flex-wrap:wrap;\n",
              "      gap: 12px;\n",
              "    }\n",
              "\n",
              "    .colab-df-convert {\n",
              "      background-color: #E8F0FE;\n",
              "      border: none;\n",
              "      border-radius: 50%;\n",
              "      cursor: pointer;\n",
              "      display: none;\n",
              "      fill: #1967D2;\n",
              "      height: 32px;\n",
              "      padding: 0 0 0 0;\n",
              "      width: 32px;\n",
              "    }\n",
              "\n",
              "    .colab-df-convert:hover {\n",
              "      background-color: #E2EBFA;\n",
              "      box-shadow: 0px 1px 2px rgba(60, 64, 67, 0.3), 0px 1px 3px 1px rgba(60, 64, 67, 0.15);\n",
              "      fill: #174EA6;\n",
              "    }\n",
              "\n",
              "    [theme=dark] .colab-df-convert {\n",
              "      background-color: #3B4455;\n",
              "      fill: #D2E3FC;\n",
              "    }\n",
              "\n",
              "    [theme=dark] .colab-df-convert:hover {\n",
              "      background-color: #434B5C;\n",
              "      box-shadow: 0px 1px 3px 1px rgba(0, 0, 0, 0.15);\n",
              "      filter: drop-shadow(0px 1px 2px rgba(0, 0, 0, 0.3));\n",
              "      fill: #FFFFFF;\n",
              "    }\n",
              "  </style>\n",
              "\n",
              "      <script>\n",
              "        const buttonEl =\n",
              "          document.querySelector('#df-91e70d74-be4d-4b00-9812-9151e1bda0a1 button.colab-df-convert');\n",
              "        buttonEl.style.display =\n",
              "          google.colab.kernel.accessAllowed ? 'block' : 'none';\n",
              "\n",
              "        async function convertToInteractive(key) {\n",
              "          const element = document.querySelector('#df-91e70d74-be4d-4b00-9812-9151e1bda0a1');\n",
              "          const dataTable =\n",
              "            await google.colab.kernel.invokeFunction('convertToInteractive',\n",
              "                                                     [key], {});\n",
              "          if (!dataTable) return;\n",
              "\n",
              "          const docLinkHtml = 'Like what you see? Visit the ' +\n",
              "            '<a target=\"_blank\" href=https://colab.research.google.com/notebooks/data_table.ipynb>data table notebook</a>'\n",
              "            + ' to learn more about interactive tables.';\n",
              "          element.innerHTML = '';\n",
              "          dataTable['output_type'] = 'display_data';\n",
              "          await google.colab.output.renderOutput(dataTable, element);\n",
              "          const docLink = document.createElement('div');\n",
              "          docLink.innerHTML = docLinkHtml;\n",
              "          element.appendChild(docLink);\n",
              "        }\n",
              "      </script>\n",
              "    </div>\n",
              "  </div>\n",
              "  "
            ]
          },
          "metadata": {},
          "execution_count": 202
        }
      ]
    },
    {
      "cell_type": "code",
      "source": [
        "branch1=[]\n",
        "plname1=[]\n",
        "freq1=[]\n",
        "pay_meth1=[]\n",
        "pr1=[]\n",
        "sts1=[]\n",
        "\n",
        "for i in range(3000):\n",
        "    if x.cluster[i]==1:\n",
        "        branch1.append(x.branch[i])\n",
        "        plname1.append(x.pol_name[i])\n",
        "        freq1.append(x.Frequency[i])\n",
        "        pay_meth1.append(x.Payment_Method[i])\n",
        "        pr1.append(x.Premium[i])\n",
        "        sts1.append(x.fin_sts[i])\n"
      ],
      "metadata": {
        "id": "-8JyWFoPyiX7"
      },
      "id": "-8JyWFoPyiX7",
      "execution_count": null,
      "outputs": []
    },
    {
      "cell_type": "code",
      "source": [
        "df1=pd.DataFrame(branch1,columns=[\"Branch\"])"
      ],
      "metadata": {
        "id": "yJv2224tyiNw"
      },
      "id": "yJv2224tyiNw",
      "execution_count": null,
      "outputs": []
    },
    {
      "cell_type": "code",
      "source": [
        "df1"
      ],
      "metadata": {
        "colab": {
          "base_uri": "https://localhost:8080/",
          "height": 424
        },
        "id": "l69bvkkCyhg3",
        "outputId": "c496d4c3-7e10-4956-b7d7-6219713d153c"
      },
      "id": "l69bvkkCyhg3",
      "execution_count": null,
      "outputs": [
        {
          "output_type": "execute_result",
          "data": {
            "text/plain": [
              "      Branch\n",
              "0     0.5750\n",
              "1     0.0375\n",
              "2     0.2000\n",
              "3     0.0500\n",
              "4     0.9750\n",
              "...      ...\n",
              "1168  0.4625\n",
              "1169  0.0750\n",
              "1170  0.0625\n",
              "1171  0.8875\n",
              "1172  0.9375\n",
              "\n",
              "[1173 rows x 1 columns]"
            ],
            "text/html": [
              "\n",
              "  <div id=\"df-c7668f24-2206-468b-a066-e0d05a4d8da7\">\n",
              "    <div class=\"colab-df-container\">\n",
              "      <div>\n",
              "<style scoped>\n",
              "    .dataframe tbody tr th:only-of-type {\n",
              "        vertical-align: middle;\n",
              "    }\n",
              "\n",
              "    .dataframe tbody tr th {\n",
              "        vertical-align: top;\n",
              "    }\n",
              "\n",
              "    .dataframe thead th {\n",
              "        text-align: right;\n",
              "    }\n",
              "</style>\n",
              "<table border=\"1\" class=\"dataframe\">\n",
              "  <thead>\n",
              "    <tr style=\"text-align: right;\">\n",
              "      <th></th>\n",
              "      <th>Branch</th>\n",
              "    </tr>\n",
              "  </thead>\n",
              "  <tbody>\n",
              "    <tr>\n",
              "      <th>0</th>\n",
              "      <td>0.5750</td>\n",
              "    </tr>\n",
              "    <tr>\n",
              "      <th>1</th>\n",
              "      <td>0.0375</td>\n",
              "    </tr>\n",
              "    <tr>\n",
              "      <th>2</th>\n",
              "      <td>0.2000</td>\n",
              "    </tr>\n",
              "    <tr>\n",
              "      <th>3</th>\n",
              "      <td>0.0500</td>\n",
              "    </tr>\n",
              "    <tr>\n",
              "      <th>4</th>\n",
              "      <td>0.9750</td>\n",
              "    </tr>\n",
              "    <tr>\n",
              "      <th>...</th>\n",
              "      <td>...</td>\n",
              "    </tr>\n",
              "    <tr>\n",
              "      <th>1168</th>\n",
              "      <td>0.4625</td>\n",
              "    </tr>\n",
              "    <tr>\n",
              "      <th>1169</th>\n",
              "      <td>0.0750</td>\n",
              "    </tr>\n",
              "    <tr>\n",
              "      <th>1170</th>\n",
              "      <td>0.0625</td>\n",
              "    </tr>\n",
              "    <tr>\n",
              "      <th>1171</th>\n",
              "      <td>0.8875</td>\n",
              "    </tr>\n",
              "    <tr>\n",
              "      <th>1172</th>\n",
              "      <td>0.9375</td>\n",
              "    </tr>\n",
              "  </tbody>\n",
              "</table>\n",
              "<p>1173 rows × 1 columns</p>\n",
              "</div>\n",
              "      <button class=\"colab-df-convert\" onclick=\"convertToInteractive('df-c7668f24-2206-468b-a066-e0d05a4d8da7')\"\n",
              "              title=\"Convert this dataframe to an interactive table.\"\n",
              "              style=\"display:none;\">\n",
              "        \n",
              "  <svg xmlns=\"http://www.w3.org/2000/svg\" height=\"24px\"viewBox=\"0 0 24 24\"\n",
              "       width=\"24px\">\n",
              "    <path d=\"M0 0h24v24H0V0z\" fill=\"none\"/>\n",
              "    <path d=\"M18.56 5.44l.94 2.06.94-2.06 2.06-.94-2.06-.94-.94-2.06-.94 2.06-2.06.94zm-11 1L8.5 8.5l.94-2.06 2.06-.94-2.06-.94L8.5 2.5l-.94 2.06-2.06.94zm10 10l.94 2.06.94-2.06 2.06-.94-2.06-.94-.94-2.06-.94 2.06-2.06.94z\"/><path d=\"M17.41 7.96l-1.37-1.37c-.4-.4-.92-.59-1.43-.59-.52 0-1.04.2-1.43.59L10.3 9.45l-7.72 7.72c-.78.78-.78 2.05 0 2.83L4 21.41c.39.39.9.59 1.41.59.51 0 1.02-.2 1.41-.59l7.78-7.78 2.81-2.81c.8-.78.8-2.07 0-2.86zM5.41 20L4 18.59l7.72-7.72 1.47 1.35L5.41 20z\"/>\n",
              "  </svg>\n",
              "      </button>\n",
              "      \n",
              "  <style>\n",
              "    .colab-df-container {\n",
              "      display:flex;\n",
              "      flex-wrap:wrap;\n",
              "      gap: 12px;\n",
              "    }\n",
              "\n",
              "    .colab-df-convert {\n",
              "      background-color: #E8F0FE;\n",
              "      border: none;\n",
              "      border-radius: 50%;\n",
              "      cursor: pointer;\n",
              "      display: none;\n",
              "      fill: #1967D2;\n",
              "      height: 32px;\n",
              "      padding: 0 0 0 0;\n",
              "      width: 32px;\n",
              "    }\n",
              "\n",
              "    .colab-df-convert:hover {\n",
              "      background-color: #E2EBFA;\n",
              "      box-shadow: 0px 1px 2px rgba(60, 64, 67, 0.3), 0px 1px 3px 1px rgba(60, 64, 67, 0.15);\n",
              "      fill: #174EA6;\n",
              "    }\n",
              "\n",
              "    [theme=dark] .colab-df-convert {\n",
              "      background-color: #3B4455;\n",
              "      fill: #D2E3FC;\n",
              "    }\n",
              "\n",
              "    [theme=dark] .colab-df-convert:hover {\n",
              "      background-color: #434B5C;\n",
              "      box-shadow: 0px 1px 3px 1px rgba(0, 0, 0, 0.15);\n",
              "      filter: drop-shadow(0px 1px 2px rgba(0, 0, 0, 0.3));\n",
              "      fill: #FFFFFF;\n",
              "    }\n",
              "  </style>\n",
              "\n",
              "      <script>\n",
              "        const buttonEl =\n",
              "          document.querySelector('#df-c7668f24-2206-468b-a066-e0d05a4d8da7 button.colab-df-convert');\n",
              "        buttonEl.style.display =\n",
              "          google.colab.kernel.accessAllowed ? 'block' : 'none';\n",
              "\n",
              "        async function convertToInteractive(key) {\n",
              "          const element = document.querySelector('#df-c7668f24-2206-468b-a066-e0d05a4d8da7');\n",
              "          const dataTable =\n",
              "            await google.colab.kernel.invokeFunction('convertToInteractive',\n",
              "                                                     [key], {});\n",
              "          if (!dataTable) return;\n",
              "\n",
              "          const docLinkHtml = 'Like what you see? Visit the ' +\n",
              "            '<a target=\"_blank\" href=https://colab.research.google.com/notebooks/data_table.ipynb>data table notebook</a>'\n",
              "            + ' to learn more about interactive tables.';\n",
              "          element.innerHTML = '';\n",
              "          dataTable['output_type'] = 'display_data';\n",
              "          await google.colab.output.renderOutput(dataTable, element);\n",
              "          const docLink = document.createElement('div');\n",
              "          docLink.innerHTML = docLinkHtml;\n",
              "          element.appendChild(docLink);\n",
              "        }\n",
              "      </script>\n",
              "    </div>\n",
              "  </div>\n",
              "  "
            ]
          },
          "metadata": {},
          "execution_count": 205
        }
      ]
    },
    {
      "cell_type": "code",
      "source": [
        "df1[\"pl_name\"]=plname1\n",
        "df1[\"freq\"]=freq1\n",
        "df1[\"pay_meth\"]=pay_meth1\n",
        "df1[\"pr\"]=pr1\n",
        "df1[\"fin_sts\"]=sts1\n"
      ],
      "metadata": {
        "id": "NE6JiY4Zyhdt"
      },
      "id": "NE6JiY4Zyhdt",
      "execution_count": null,
      "outputs": []
    },
    {
      "cell_type": "code",
      "source": [
        "df1"
      ],
      "metadata": {
        "colab": {
          "base_uri": "https://localhost:8080/",
          "height": 424
        },
        "id": "2t1miDB-yham",
        "outputId": "2f74b3f4-e7f6-4a78-ed72-b8d42fda9c33"
      },
      "id": "2t1miDB-yham",
      "execution_count": null,
      "outputs": [
        {
          "output_type": "execute_result",
          "data": {
            "text/plain": [
              "      Branch   pl_name      freq  pay_meth        pr fin_sts\n",
              "0     0.5750  0.609337  0.000000       1.0  0.505051  Unpaid\n",
              "1     0.0375  0.371007  0.000000       1.0  0.505051  Unpaid\n",
              "2     0.2000  0.515971  0.333333       0.0  0.043771  Unpaid\n",
              "3     0.0500  0.511057  0.333333       0.0  0.042929  Unpaid\n",
              "4     0.9750  0.565111  0.666667       1.0  0.042055    Paid\n",
              "...      ...       ...       ...       ...       ...     ...\n",
              "1168  0.4625  0.528256  0.666667       1.0  0.041479  Unpaid\n",
              "1169  0.0750  0.547912  0.333333       0.0  0.040284  Unpaid\n",
              "1170  0.0625  0.714988  0.333333       0.0  0.040093  Unpaid\n",
              "1171  0.8875  0.680590  0.000000       0.0  0.151515  Unpaid\n",
              "1172  0.9375  0.692875  0.000000       1.0  0.025821    Paid\n",
              "\n",
              "[1173 rows x 6 columns]"
            ],
            "text/html": [
              "\n",
              "  <div id=\"df-2289d12a-21ea-44cb-b3f6-9acc76cf7329\">\n",
              "    <div class=\"colab-df-container\">\n",
              "      <div>\n",
              "<style scoped>\n",
              "    .dataframe tbody tr th:only-of-type {\n",
              "        vertical-align: middle;\n",
              "    }\n",
              "\n",
              "    .dataframe tbody tr th {\n",
              "        vertical-align: top;\n",
              "    }\n",
              "\n",
              "    .dataframe thead th {\n",
              "        text-align: right;\n",
              "    }\n",
              "</style>\n",
              "<table border=\"1\" class=\"dataframe\">\n",
              "  <thead>\n",
              "    <tr style=\"text-align: right;\">\n",
              "      <th></th>\n",
              "      <th>Branch</th>\n",
              "      <th>pl_name</th>\n",
              "      <th>freq</th>\n",
              "      <th>pay_meth</th>\n",
              "      <th>pr</th>\n",
              "      <th>fin_sts</th>\n",
              "    </tr>\n",
              "  </thead>\n",
              "  <tbody>\n",
              "    <tr>\n",
              "      <th>0</th>\n",
              "      <td>0.5750</td>\n",
              "      <td>0.609337</td>\n",
              "      <td>0.000000</td>\n",
              "      <td>1.0</td>\n",
              "      <td>0.505051</td>\n",
              "      <td>Unpaid</td>\n",
              "    </tr>\n",
              "    <tr>\n",
              "      <th>1</th>\n",
              "      <td>0.0375</td>\n",
              "      <td>0.371007</td>\n",
              "      <td>0.000000</td>\n",
              "      <td>1.0</td>\n",
              "      <td>0.505051</td>\n",
              "      <td>Unpaid</td>\n",
              "    </tr>\n",
              "    <tr>\n",
              "      <th>2</th>\n",
              "      <td>0.2000</td>\n",
              "      <td>0.515971</td>\n",
              "      <td>0.333333</td>\n",
              "      <td>0.0</td>\n",
              "      <td>0.043771</td>\n",
              "      <td>Unpaid</td>\n",
              "    </tr>\n",
              "    <tr>\n",
              "      <th>3</th>\n",
              "      <td>0.0500</td>\n",
              "      <td>0.511057</td>\n",
              "      <td>0.333333</td>\n",
              "      <td>0.0</td>\n",
              "      <td>0.042929</td>\n",
              "      <td>Unpaid</td>\n",
              "    </tr>\n",
              "    <tr>\n",
              "      <th>4</th>\n",
              "      <td>0.9750</td>\n",
              "      <td>0.565111</td>\n",
              "      <td>0.666667</td>\n",
              "      <td>1.0</td>\n",
              "      <td>0.042055</td>\n",
              "      <td>Paid</td>\n",
              "    </tr>\n",
              "    <tr>\n",
              "      <th>...</th>\n",
              "      <td>...</td>\n",
              "      <td>...</td>\n",
              "      <td>...</td>\n",
              "      <td>...</td>\n",
              "      <td>...</td>\n",
              "      <td>...</td>\n",
              "    </tr>\n",
              "    <tr>\n",
              "      <th>1168</th>\n",
              "      <td>0.4625</td>\n",
              "      <td>0.528256</td>\n",
              "      <td>0.666667</td>\n",
              "      <td>1.0</td>\n",
              "      <td>0.041479</td>\n",
              "      <td>Unpaid</td>\n",
              "    </tr>\n",
              "    <tr>\n",
              "      <th>1169</th>\n",
              "      <td>0.0750</td>\n",
              "      <td>0.547912</td>\n",
              "      <td>0.333333</td>\n",
              "      <td>0.0</td>\n",
              "      <td>0.040284</td>\n",
              "      <td>Unpaid</td>\n",
              "    </tr>\n",
              "    <tr>\n",
              "      <th>1170</th>\n",
              "      <td>0.0625</td>\n",
              "      <td>0.714988</td>\n",
              "      <td>0.333333</td>\n",
              "      <td>0.0</td>\n",
              "      <td>0.040093</td>\n",
              "      <td>Unpaid</td>\n",
              "    </tr>\n",
              "    <tr>\n",
              "      <th>1171</th>\n",
              "      <td>0.8875</td>\n",
              "      <td>0.680590</td>\n",
              "      <td>0.000000</td>\n",
              "      <td>0.0</td>\n",
              "      <td>0.151515</td>\n",
              "      <td>Unpaid</td>\n",
              "    </tr>\n",
              "    <tr>\n",
              "      <th>1172</th>\n",
              "      <td>0.9375</td>\n",
              "      <td>0.692875</td>\n",
              "      <td>0.000000</td>\n",
              "      <td>1.0</td>\n",
              "      <td>0.025821</td>\n",
              "      <td>Paid</td>\n",
              "    </tr>\n",
              "  </tbody>\n",
              "</table>\n",
              "<p>1173 rows × 6 columns</p>\n",
              "</div>\n",
              "      <button class=\"colab-df-convert\" onclick=\"convertToInteractive('df-2289d12a-21ea-44cb-b3f6-9acc76cf7329')\"\n",
              "              title=\"Convert this dataframe to an interactive table.\"\n",
              "              style=\"display:none;\">\n",
              "        \n",
              "  <svg xmlns=\"http://www.w3.org/2000/svg\" height=\"24px\"viewBox=\"0 0 24 24\"\n",
              "       width=\"24px\">\n",
              "    <path d=\"M0 0h24v24H0V0z\" fill=\"none\"/>\n",
              "    <path d=\"M18.56 5.44l.94 2.06.94-2.06 2.06-.94-2.06-.94-.94-2.06-.94 2.06-2.06.94zm-11 1L8.5 8.5l.94-2.06 2.06-.94-2.06-.94L8.5 2.5l-.94 2.06-2.06.94zm10 10l.94 2.06.94-2.06 2.06-.94-2.06-.94-.94-2.06-.94 2.06-2.06.94z\"/><path d=\"M17.41 7.96l-1.37-1.37c-.4-.4-.92-.59-1.43-.59-.52 0-1.04.2-1.43.59L10.3 9.45l-7.72 7.72c-.78.78-.78 2.05 0 2.83L4 21.41c.39.39.9.59 1.41.59.51 0 1.02-.2 1.41-.59l7.78-7.78 2.81-2.81c.8-.78.8-2.07 0-2.86zM5.41 20L4 18.59l7.72-7.72 1.47 1.35L5.41 20z\"/>\n",
              "  </svg>\n",
              "      </button>\n",
              "      \n",
              "  <style>\n",
              "    .colab-df-container {\n",
              "      display:flex;\n",
              "      flex-wrap:wrap;\n",
              "      gap: 12px;\n",
              "    }\n",
              "\n",
              "    .colab-df-convert {\n",
              "      background-color: #E8F0FE;\n",
              "      border: none;\n",
              "      border-radius: 50%;\n",
              "      cursor: pointer;\n",
              "      display: none;\n",
              "      fill: #1967D2;\n",
              "      height: 32px;\n",
              "      padding: 0 0 0 0;\n",
              "      width: 32px;\n",
              "    }\n",
              "\n",
              "    .colab-df-convert:hover {\n",
              "      background-color: #E2EBFA;\n",
              "      box-shadow: 0px 1px 2px rgba(60, 64, 67, 0.3), 0px 1px 3px 1px rgba(60, 64, 67, 0.15);\n",
              "      fill: #174EA6;\n",
              "    }\n",
              "\n",
              "    [theme=dark] .colab-df-convert {\n",
              "      background-color: #3B4455;\n",
              "      fill: #D2E3FC;\n",
              "    }\n",
              "\n",
              "    [theme=dark] .colab-df-convert:hover {\n",
              "      background-color: #434B5C;\n",
              "      box-shadow: 0px 1px 3px 1px rgba(0, 0, 0, 0.15);\n",
              "      filter: drop-shadow(0px 1px 2px rgba(0, 0, 0, 0.3));\n",
              "      fill: #FFFFFF;\n",
              "    }\n",
              "  </style>\n",
              "\n",
              "      <script>\n",
              "        const buttonEl =\n",
              "          document.querySelector('#df-2289d12a-21ea-44cb-b3f6-9acc76cf7329 button.colab-df-convert');\n",
              "        buttonEl.style.display =\n",
              "          google.colab.kernel.accessAllowed ? 'block' : 'none';\n",
              "\n",
              "        async function convertToInteractive(key) {\n",
              "          const element = document.querySelector('#df-2289d12a-21ea-44cb-b3f6-9acc76cf7329');\n",
              "          const dataTable =\n",
              "            await google.colab.kernel.invokeFunction('convertToInteractive',\n",
              "                                                     [key], {});\n",
              "          if (!dataTable) return;\n",
              "\n",
              "          const docLinkHtml = 'Like what you see? Visit the ' +\n",
              "            '<a target=\"_blank\" href=https://colab.research.google.com/notebooks/data_table.ipynb>data table notebook</a>'\n",
              "            + ' to learn more about interactive tables.';\n",
              "          element.innerHTML = '';\n",
              "          dataTable['output_type'] = 'display_data';\n",
              "          await google.colab.output.renderOutput(dataTable, element);\n",
              "          const docLink = document.createElement('div');\n",
              "          docLink.innerHTML = docLinkHtml;\n",
              "          element.appendChild(docLink);\n",
              "        }\n",
              "      </script>\n",
              "    </div>\n",
              "  </div>\n",
              "  "
            ]
          },
          "metadata": {},
          "execution_count": 207
        }
      ]
    },
    {
      "cell_type": "code",
      "source": [
        "branch2=[]\n",
        "plname2=[]\n",
        "freq2=[]\n",
        "pay_meth2=[]\n",
        "pr2=[]\n",
        "sts2=[]\n",
        "\n",
        "for i in range(3000):\n",
        "    if x.cluster[i]==2:\n",
        "        branch2.append(x.branch[i])\n",
        "        plname2.append(x.pol_name[i])\n",
        "        freq2.append(x.Frequency[i])\n",
        "        pay_meth2.append(x.Payment_Method[i])\n",
        "        pr2.append(x.Premium[i])\n",
        "        sts2.append(x.fin_sts[i])\n",
        "\n"
      ],
      "metadata": {
        "id": "U4Kf90jryhXQ"
      },
      "id": "U4Kf90jryhXQ",
      "execution_count": null,
      "outputs": []
    },
    {
      "cell_type": "code",
      "source": [
        "df2=pd.DataFrame(branch2,columns=[\"Branch\"])\n",
        "df2[\"pl_name\"]=plname2\n",
        "df2[\"freq\"]=freq2\n",
        "df2[\"pay_meth\"]=pay_meth2\n",
        "df2[\"pr\"]=pr2\n",
        "df2[\"fin_sts\"]=sts2\n"
      ],
      "metadata": {
        "id": "BA3fj3AuyhTs"
      },
      "id": "BA3fj3AuyhTs",
      "execution_count": null,
      "outputs": []
    },
    {
      "cell_type": "code",
      "source": [
        "df2"
      ],
      "metadata": {
        "colab": {
          "base_uri": "https://localhost:8080/",
          "height": 424
        },
        "id": "mY_uleGzyhQl",
        "outputId": "9b84b426-15b8-45dc-e9f2-a25cea750f2d"
      },
      "id": "mY_uleGzyhQl",
      "execution_count": null,
      "outputs": [
        {
          "output_type": "execute_result",
          "data": {
            "text/plain": [
              "     Branch   pl_name      freq  pay_meth        pr fin_sts\n",
              "0    0.9125  0.852580  0.000000       0.0  0.606061  Unpaid\n",
              "1    0.0500  0.766585  0.000000       0.0  0.526742  Unpaid\n",
              "2    0.3500  0.845209  0.000000       1.0  0.505051  Unpaid\n",
              "3    0.6125  0.852580  0.000000       1.0  0.505051  Unpaid\n",
              "4    0.4125  0.842752  0.000000       1.0  0.505051    Paid\n",
              "..      ...       ...       ...       ...       ...     ...\n",
              "924  0.9000  0.766585  1.000000       1.0  0.051641  Unpaid\n",
              "925  0.3625  0.766585  0.666667       1.0  0.025185  Unpaid\n",
              "926  0.1500  0.771499  0.000000       0.0  0.151515  Unpaid\n",
              "927  0.8875  0.771499  0.000000       0.0  0.151515    Paid\n",
              "928  0.5250  0.766585  0.000000       0.0  0.138591  Unpaid\n",
              "\n",
              "[929 rows x 6 columns]"
            ],
            "text/html": [
              "\n",
              "  <div id=\"df-c62ba088-c75b-4c6d-8401-138d115b0348\">\n",
              "    <div class=\"colab-df-container\">\n",
              "      <div>\n",
              "<style scoped>\n",
              "    .dataframe tbody tr th:only-of-type {\n",
              "        vertical-align: middle;\n",
              "    }\n",
              "\n",
              "    .dataframe tbody tr th {\n",
              "        vertical-align: top;\n",
              "    }\n",
              "\n",
              "    .dataframe thead th {\n",
              "        text-align: right;\n",
              "    }\n",
              "</style>\n",
              "<table border=\"1\" class=\"dataframe\">\n",
              "  <thead>\n",
              "    <tr style=\"text-align: right;\">\n",
              "      <th></th>\n",
              "      <th>Branch</th>\n",
              "      <th>pl_name</th>\n",
              "      <th>freq</th>\n",
              "      <th>pay_meth</th>\n",
              "      <th>pr</th>\n",
              "      <th>fin_sts</th>\n",
              "    </tr>\n",
              "  </thead>\n",
              "  <tbody>\n",
              "    <tr>\n",
              "      <th>0</th>\n",
              "      <td>0.9125</td>\n",
              "      <td>0.852580</td>\n",
              "      <td>0.000000</td>\n",
              "      <td>0.0</td>\n",
              "      <td>0.606061</td>\n",
              "      <td>Unpaid</td>\n",
              "    </tr>\n",
              "    <tr>\n",
              "      <th>1</th>\n",
              "      <td>0.0500</td>\n",
              "      <td>0.766585</td>\n",
              "      <td>0.000000</td>\n",
              "      <td>0.0</td>\n",
              "      <td>0.526742</td>\n",
              "      <td>Unpaid</td>\n",
              "    </tr>\n",
              "    <tr>\n",
              "      <th>2</th>\n",
              "      <td>0.3500</td>\n",
              "      <td>0.845209</td>\n",
              "      <td>0.000000</td>\n",
              "      <td>1.0</td>\n",
              "      <td>0.505051</td>\n",
              "      <td>Unpaid</td>\n",
              "    </tr>\n",
              "    <tr>\n",
              "      <th>3</th>\n",
              "      <td>0.6125</td>\n",
              "      <td>0.852580</td>\n",
              "      <td>0.000000</td>\n",
              "      <td>1.0</td>\n",
              "      <td>0.505051</td>\n",
              "      <td>Unpaid</td>\n",
              "    </tr>\n",
              "    <tr>\n",
              "      <th>4</th>\n",
              "      <td>0.4125</td>\n",
              "      <td>0.842752</td>\n",
              "      <td>0.000000</td>\n",
              "      <td>1.0</td>\n",
              "      <td>0.505051</td>\n",
              "      <td>Paid</td>\n",
              "    </tr>\n",
              "    <tr>\n",
              "      <th>...</th>\n",
              "      <td>...</td>\n",
              "      <td>...</td>\n",
              "      <td>...</td>\n",
              "      <td>...</td>\n",
              "      <td>...</td>\n",
              "      <td>...</td>\n",
              "    </tr>\n",
              "    <tr>\n",
              "      <th>924</th>\n",
              "      <td>0.9000</td>\n",
              "      <td>0.766585</td>\n",
              "      <td>1.000000</td>\n",
              "      <td>1.0</td>\n",
              "      <td>0.051641</td>\n",
              "      <td>Unpaid</td>\n",
              "    </tr>\n",
              "    <tr>\n",
              "      <th>925</th>\n",
              "      <td>0.3625</td>\n",
              "      <td>0.766585</td>\n",
              "      <td>0.666667</td>\n",
              "      <td>1.0</td>\n",
              "      <td>0.025185</td>\n",
              "      <td>Unpaid</td>\n",
              "    </tr>\n",
              "    <tr>\n",
              "      <th>926</th>\n",
              "      <td>0.1500</td>\n",
              "      <td>0.771499</td>\n",
              "      <td>0.000000</td>\n",
              "      <td>0.0</td>\n",
              "      <td>0.151515</td>\n",
              "      <td>Unpaid</td>\n",
              "    </tr>\n",
              "    <tr>\n",
              "      <th>927</th>\n",
              "      <td>0.8875</td>\n",
              "      <td>0.771499</td>\n",
              "      <td>0.000000</td>\n",
              "      <td>0.0</td>\n",
              "      <td>0.151515</td>\n",
              "      <td>Paid</td>\n",
              "    </tr>\n",
              "    <tr>\n",
              "      <th>928</th>\n",
              "      <td>0.5250</td>\n",
              "      <td>0.766585</td>\n",
              "      <td>0.000000</td>\n",
              "      <td>0.0</td>\n",
              "      <td>0.138591</td>\n",
              "      <td>Unpaid</td>\n",
              "    </tr>\n",
              "  </tbody>\n",
              "</table>\n",
              "<p>929 rows × 6 columns</p>\n",
              "</div>\n",
              "      <button class=\"colab-df-convert\" onclick=\"convertToInteractive('df-c62ba088-c75b-4c6d-8401-138d115b0348')\"\n",
              "              title=\"Convert this dataframe to an interactive table.\"\n",
              "              style=\"display:none;\">\n",
              "        \n",
              "  <svg xmlns=\"http://www.w3.org/2000/svg\" height=\"24px\"viewBox=\"0 0 24 24\"\n",
              "       width=\"24px\">\n",
              "    <path d=\"M0 0h24v24H0V0z\" fill=\"none\"/>\n",
              "    <path d=\"M18.56 5.44l.94 2.06.94-2.06 2.06-.94-2.06-.94-.94-2.06-.94 2.06-2.06.94zm-11 1L8.5 8.5l.94-2.06 2.06-.94-2.06-.94L8.5 2.5l-.94 2.06-2.06.94zm10 10l.94 2.06.94-2.06 2.06-.94-2.06-.94-.94-2.06-.94 2.06-2.06.94z\"/><path d=\"M17.41 7.96l-1.37-1.37c-.4-.4-.92-.59-1.43-.59-.52 0-1.04.2-1.43.59L10.3 9.45l-7.72 7.72c-.78.78-.78 2.05 0 2.83L4 21.41c.39.39.9.59 1.41.59.51 0 1.02-.2 1.41-.59l7.78-7.78 2.81-2.81c.8-.78.8-2.07 0-2.86zM5.41 20L4 18.59l7.72-7.72 1.47 1.35L5.41 20z\"/>\n",
              "  </svg>\n",
              "      </button>\n",
              "      \n",
              "  <style>\n",
              "    .colab-df-container {\n",
              "      display:flex;\n",
              "      flex-wrap:wrap;\n",
              "      gap: 12px;\n",
              "    }\n",
              "\n",
              "    .colab-df-convert {\n",
              "      background-color: #E8F0FE;\n",
              "      border: none;\n",
              "      border-radius: 50%;\n",
              "      cursor: pointer;\n",
              "      display: none;\n",
              "      fill: #1967D2;\n",
              "      height: 32px;\n",
              "      padding: 0 0 0 0;\n",
              "      width: 32px;\n",
              "    }\n",
              "\n",
              "    .colab-df-convert:hover {\n",
              "      background-color: #E2EBFA;\n",
              "      box-shadow: 0px 1px 2px rgba(60, 64, 67, 0.3), 0px 1px 3px 1px rgba(60, 64, 67, 0.15);\n",
              "      fill: #174EA6;\n",
              "    }\n",
              "\n",
              "    [theme=dark] .colab-df-convert {\n",
              "      background-color: #3B4455;\n",
              "      fill: #D2E3FC;\n",
              "    }\n",
              "\n",
              "    [theme=dark] .colab-df-convert:hover {\n",
              "      background-color: #434B5C;\n",
              "      box-shadow: 0px 1px 3px 1px rgba(0, 0, 0, 0.15);\n",
              "      filter: drop-shadow(0px 1px 2px rgba(0, 0, 0, 0.3));\n",
              "      fill: #FFFFFF;\n",
              "    }\n",
              "  </style>\n",
              "\n",
              "      <script>\n",
              "        const buttonEl =\n",
              "          document.querySelector('#df-c62ba088-c75b-4c6d-8401-138d115b0348 button.colab-df-convert');\n",
              "        buttonEl.style.display =\n",
              "          google.colab.kernel.accessAllowed ? 'block' : 'none';\n",
              "\n",
              "        async function convertToInteractive(key) {\n",
              "          const element = document.querySelector('#df-c62ba088-c75b-4c6d-8401-138d115b0348');\n",
              "          const dataTable =\n",
              "            await google.colab.kernel.invokeFunction('convertToInteractive',\n",
              "                                                     [key], {});\n",
              "          if (!dataTable) return;\n",
              "\n",
              "          const docLinkHtml = 'Like what you see? Visit the ' +\n",
              "            '<a target=\"_blank\" href=https://colab.research.google.com/notebooks/data_table.ipynb>data table notebook</a>'\n",
              "            + ' to learn more about interactive tables.';\n",
              "          element.innerHTML = '';\n",
              "          dataTable['output_type'] = 'display_data';\n",
              "          await google.colab.output.renderOutput(dataTable, element);\n",
              "          const docLink = document.createElement('div');\n",
              "          docLink.innerHTML = docLinkHtml;\n",
              "          element.appendChild(docLink);\n",
              "        }\n",
              "      </script>\n",
              "    </div>\n",
              "  </div>\n",
              "  "
            ]
          },
          "metadata": {},
          "execution_count": 210
        }
      ]
    },
    {
      "cell_type": "code",
      "source": [
        "from sklearn.model_selection import train_test_split\n",
        "from sklearn.metrics import accuracy_score"
      ],
      "metadata": {
        "id": "4Y20rrxxyhHD"
      },
      "id": "4Y20rrxxyhHD",
      "execution_count": null,
      "outputs": []
    },
    {
      "cell_type": "code",
      "source": [
        "x0= df0.filter([\"Branch\",\"pl_name\",\"freq\",\"pay_meth\",\"pr\"], axis=1)\n",
        "y0=df0.fin_sts"
      ],
      "metadata": {
        "id": "5XBjCyc2y84r"
      },
      "id": "5XBjCyc2y84r",
      "execution_count": null,
      "outputs": []
    },
    {
      "cell_type": "markdown",
      "source": [
        "Using  Random Forest for predicting and finding the accuracy"
      ],
      "metadata": {
        "id": "Gf4PZ8tyzY2C"
      },
      "id": "Gf4PZ8tyzY2C"
    },
    {
      "cell_type": "code",
      "source": [],
      "metadata": {
        "id": "QWnqrYSSzYM5"
      },
      "id": "QWnqrYSSzYM5",
      "execution_count": null,
      "outputs": []
    },
    {
      "cell_type": "code",
      "source": [],
      "metadata": {
        "id": "e4c0D7tY0KjN"
      },
      "id": "e4c0D7tY0KjN",
      "execution_count": null,
      "outputs": []
    },
    {
      "cell_type": "code",
      "source": [
        "oversample = SMOTE()\n"
      ],
      "metadata": {
        "id": "sXUPZCRIy8ye"
      },
      "id": "sXUPZCRIy8ye",
      "execution_count": null,
      "outputs": []
    },
    {
      "cell_type": "code",
      "source": [
        "X_train0, X_test0, y_train0, y_test0 = train_test_split(x0, y0, test_size=0.33, random_state=42)"
      ],
      "metadata": {
        "id": "epOCd8x_y8qa"
      },
      "id": "epOCd8x_y8qa",
      "execution_count": null,
      "outputs": []
    },
    {
      "cell_type": "code",
      "source": [
        "from sklearn.ensemble import RandomForestClassifier\n",
        "rf = MLPClassifier(solver='lbfgs', alpha=1e-5,hidden_layer_sizes=(1, 1), random_state=10)\n",
        "rf.fit(X_train0, y_train0) \n",
        "y_pred_rf0=rf.predict(X_test0)\n",
        "acc0=accuracy_score(y_pred_rf0,y_test0)\n",
        "acc0"
      ],
      "metadata": {
        "colab": {
          "base_uri": "https://localhost:8080/"
        },
        "id": "JssZop8Fy8hf",
        "outputId": "2dae365c-6261-4577-f4d4-13f2995fffe7"
      },
      "id": "JssZop8Fy8hf",
      "execution_count": null,
      "outputs": [
        {
          "output_type": "execute_result",
          "data": {
            "text/plain": [
              "0.7104377104377104"
            ]
          },
          "metadata": {},
          "execution_count": 215
        }
      ]
    },
    {
      "cell_type": "code",
      "source": [
        "x1= df1.filter([\"Branch\",\"pl_name\",\"freq\",\"pay_meth\",\"pr\"], axis=1)\n",
        "y1=df1.fin_sts\n",
        "#x1,y1= oversample.fit_resample(x1,y1)\n",
        "X_train1, X_test1, y_train1, y_test1 = train_test_split(x1, y1, test_size=0.33, random_state=42)"
      ],
      "metadata": {
        "id": "4QZ4YYwKy8dF"
      },
      "id": "4QZ4YYwKy8dF",
      "execution_count": null,
      "outputs": []
    },
    {
      "cell_type": "code",
      "source": [
        "from sklearn.ensemble import RandomForestClassifier\n",
        "rf = RandomForestClassifier(max_depth=5, random_state=0)\n",
        "rf.fit(X_train1, y_train1) \n",
        "y_pred_rf1=rf.predict(X_test1)\n",
        "acc1=accuracy_score(y_pred_rf1,y_test1)\n",
        "acc1"
      ],
      "metadata": {
        "colab": {
          "base_uri": "https://localhost:8080/"
        },
        "id": "DodRxEaMy8R0",
        "outputId": "8c6de27b-ebe6-4b02-947e-14a4ff116641"
      },
      "id": "DodRxEaMy8R0",
      "execution_count": null,
      "outputs": [
        {
          "output_type": "execute_result",
          "data": {
            "text/plain": [
              "0.6443298969072165"
            ]
          },
          "metadata": {},
          "execution_count": 217
        }
      ]
    },
    {
      "cell_type": "code",
      "source": [
        "x2= df2.filter([\"Branch\",\"pl_name\",\"freq\",\"pay_meth\",\"pr\"], axis=1)\n",
        "y2=df2.fin_sts\n",
        "#x2,y2= oversample.fit_resample(x2,y2)\n",
        "\n",
        "X_train2, X_test2, y_train2, y_test2 = train_test_split(x2, y2, test_size=0.33, random_state=42)"
      ],
      "metadata": {
        "id": "xsH6WqGJ0TK_"
      },
      "id": "xsH6WqGJ0TK_",
      "execution_count": null,
      "outputs": []
    },
    {
      "cell_type": "code",
      "source": [
        "from sklearn.ensemble import RandomForestClassifier\n",
        "rf = RandomForestClassifier(max_depth=5, random_state=0)\n",
        "rf.fit(X_train2, y_train2) \n",
        "y_pred_rf2=rf.predict(X_test2)\n",
        "acc2=accuracy_score(y_pred_rf2,y_test2)\n",
        "acc2"
      ],
      "metadata": {
        "colab": {
          "base_uri": "https://localhost:8080/"
        },
        "id": "b4p76t0L0VUm",
        "outputId": "cdf7c47e-4dc8-436e-8749-54805e9d8626"
      },
      "id": "b4p76t0L0VUm",
      "execution_count": null,
      "outputs": [
        {
          "output_type": "execute_result",
          "data": {
            "text/plain": [
              "0.6677524429967426"
            ]
          },
          "metadata": {},
          "execution_count": 219
        }
      ]
    },
    {
      "cell_type": "code",
      "source": [
        "ppt=df.filter([\"pay_term\",\"pol_term\",\"sum_assured\",\"ann_inc\",\"Premium\"], axis=1)"
      ],
      "metadata": {
        "id": "yt5rNnoO0Xhw"
      },
      "id": "yt5rNnoO0Xhw",
      "execution_count": null,
      "outputs": []
    },
    {
      "cell_type": "code",
      "source": [
        "ppt"
      ],
      "metadata": {
        "colab": {
          "base_uri": "https://localhost:8080/",
          "height": 424
        },
        "id": "7jl0fMfV0ZiV",
        "outputId": "a0b4d924-1969-4649-a5c4-92680c17bbac"
      },
      "id": "7jl0fMfV0ZiV",
      "execution_count": null,
      "outputs": [
        {
          "output_type": "execute_result",
          "data": {
            "text/plain": [
              "      pay_term  pol_term  sum_assured  ann_inc  Premium\n",
              "0           10        20      6000000  7200000   600000\n",
              "1            5        10      6000000  7200000   600000\n",
              "2            5         5      7822125  6257700   521475\n",
              "3           20        20     10000000  6016534   501378\n",
              "4            8         8      5000000  6000000   500000\n",
              "...        ...       ...          ...      ...      ...\n",
              "2995         5         5      2045000   766875    51125\n",
              "2996         5         5      2991984   373998    24933\n",
              "2997        10        10      1500000  1875000   150000\n",
              "2998        10        10      1500000  1875000   150000\n",
              "2999         5         5      2058077  1715064   137205\n",
              "\n",
              "[3000 rows x 5 columns]"
            ],
            "text/html": [
              "\n",
              "  <div id=\"df-bfcfad5e-d6aa-4813-93bd-487920623045\">\n",
              "    <div class=\"colab-df-container\">\n",
              "      <div>\n",
              "<style scoped>\n",
              "    .dataframe tbody tr th:only-of-type {\n",
              "        vertical-align: middle;\n",
              "    }\n",
              "\n",
              "    .dataframe tbody tr th {\n",
              "        vertical-align: top;\n",
              "    }\n",
              "\n",
              "    .dataframe thead th {\n",
              "        text-align: right;\n",
              "    }\n",
              "</style>\n",
              "<table border=\"1\" class=\"dataframe\">\n",
              "  <thead>\n",
              "    <tr style=\"text-align: right;\">\n",
              "      <th></th>\n",
              "      <th>pay_term</th>\n",
              "      <th>pol_term</th>\n",
              "      <th>sum_assured</th>\n",
              "      <th>ann_inc</th>\n",
              "      <th>Premium</th>\n",
              "    </tr>\n",
              "  </thead>\n",
              "  <tbody>\n",
              "    <tr>\n",
              "      <th>0</th>\n",
              "      <td>10</td>\n",
              "      <td>20</td>\n",
              "      <td>6000000</td>\n",
              "      <td>7200000</td>\n",
              "      <td>600000</td>\n",
              "    </tr>\n",
              "    <tr>\n",
              "      <th>1</th>\n",
              "      <td>5</td>\n",
              "      <td>10</td>\n",
              "      <td>6000000</td>\n",
              "      <td>7200000</td>\n",
              "      <td>600000</td>\n",
              "    </tr>\n",
              "    <tr>\n",
              "      <th>2</th>\n",
              "      <td>5</td>\n",
              "      <td>5</td>\n",
              "      <td>7822125</td>\n",
              "      <td>6257700</td>\n",
              "      <td>521475</td>\n",
              "    </tr>\n",
              "    <tr>\n",
              "      <th>3</th>\n",
              "      <td>20</td>\n",
              "      <td>20</td>\n",
              "      <td>10000000</td>\n",
              "      <td>6016534</td>\n",
              "      <td>501378</td>\n",
              "    </tr>\n",
              "    <tr>\n",
              "      <th>4</th>\n",
              "      <td>8</td>\n",
              "      <td>8</td>\n",
              "      <td>5000000</td>\n",
              "      <td>6000000</td>\n",
              "      <td>500000</td>\n",
              "    </tr>\n",
              "    <tr>\n",
              "      <th>...</th>\n",
              "      <td>...</td>\n",
              "      <td>...</td>\n",
              "      <td>...</td>\n",
              "      <td>...</td>\n",
              "      <td>...</td>\n",
              "    </tr>\n",
              "    <tr>\n",
              "      <th>2995</th>\n",
              "      <td>5</td>\n",
              "      <td>5</td>\n",
              "      <td>2045000</td>\n",
              "      <td>766875</td>\n",
              "      <td>51125</td>\n",
              "    </tr>\n",
              "    <tr>\n",
              "      <th>2996</th>\n",
              "      <td>5</td>\n",
              "      <td>5</td>\n",
              "      <td>2991984</td>\n",
              "      <td>373998</td>\n",
              "      <td>24933</td>\n",
              "    </tr>\n",
              "    <tr>\n",
              "      <th>2997</th>\n",
              "      <td>10</td>\n",
              "      <td>10</td>\n",
              "      <td>1500000</td>\n",
              "      <td>1875000</td>\n",
              "      <td>150000</td>\n",
              "    </tr>\n",
              "    <tr>\n",
              "      <th>2998</th>\n",
              "      <td>10</td>\n",
              "      <td>10</td>\n",
              "      <td>1500000</td>\n",
              "      <td>1875000</td>\n",
              "      <td>150000</td>\n",
              "    </tr>\n",
              "    <tr>\n",
              "      <th>2999</th>\n",
              "      <td>5</td>\n",
              "      <td>5</td>\n",
              "      <td>2058077</td>\n",
              "      <td>1715064</td>\n",
              "      <td>137205</td>\n",
              "    </tr>\n",
              "  </tbody>\n",
              "</table>\n",
              "<p>3000 rows × 5 columns</p>\n",
              "</div>\n",
              "      <button class=\"colab-df-convert\" onclick=\"convertToInteractive('df-bfcfad5e-d6aa-4813-93bd-487920623045')\"\n",
              "              title=\"Convert this dataframe to an interactive table.\"\n",
              "              style=\"display:none;\">\n",
              "        \n",
              "  <svg xmlns=\"http://www.w3.org/2000/svg\" height=\"24px\"viewBox=\"0 0 24 24\"\n",
              "       width=\"24px\">\n",
              "    <path d=\"M0 0h24v24H0V0z\" fill=\"none\"/>\n",
              "    <path d=\"M18.56 5.44l.94 2.06.94-2.06 2.06-.94-2.06-.94-.94-2.06-.94 2.06-2.06.94zm-11 1L8.5 8.5l.94-2.06 2.06-.94-2.06-.94L8.5 2.5l-.94 2.06-2.06.94zm10 10l.94 2.06.94-2.06 2.06-.94-2.06-.94-.94-2.06-.94 2.06-2.06.94z\"/><path d=\"M17.41 7.96l-1.37-1.37c-.4-.4-.92-.59-1.43-.59-.52 0-1.04.2-1.43.59L10.3 9.45l-7.72 7.72c-.78.78-.78 2.05 0 2.83L4 21.41c.39.39.9.59 1.41.59.51 0 1.02-.2 1.41-.59l7.78-7.78 2.81-2.81c.8-.78.8-2.07 0-2.86zM5.41 20L4 18.59l7.72-7.72 1.47 1.35L5.41 20z\"/>\n",
              "  </svg>\n",
              "      </button>\n",
              "      \n",
              "  <style>\n",
              "    .colab-df-container {\n",
              "      display:flex;\n",
              "      flex-wrap:wrap;\n",
              "      gap: 12px;\n",
              "    }\n",
              "\n",
              "    .colab-df-convert {\n",
              "      background-color: #E8F0FE;\n",
              "      border: none;\n",
              "      border-radius: 50%;\n",
              "      cursor: pointer;\n",
              "      display: none;\n",
              "      fill: #1967D2;\n",
              "      height: 32px;\n",
              "      padding: 0 0 0 0;\n",
              "      width: 32px;\n",
              "    }\n",
              "\n",
              "    .colab-df-convert:hover {\n",
              "      background-color: #E2EBFA;\n",
              "      box-shadow: 0px 1px 2px rgba(60, 64, 67, 0.3), 0px 1px 3px 1px rgba(60, 64, 67, 0.15);\n",
              "      fill: #174EA6;\n",
              "    }\n",
              "\n",
              "    [theme=dark] .colab-df-convert {\n",
              "      background-color: #3B4455;\n",
              "      fill: #D2E3FC;\n",
              "    }\n",
              "\n",
              "    [theme=dark] .colab-df-convert:hover {\n",
              "      background-color: #434B5C;\n",
              "      box-shadow: 0px 1px 3px 1px rgba(0, 0, 0, 0.15);\n",
              "      filter: drop-shadow(0px 1px 2px rgba(0, 0, 0, 0.3));\n",
              "      fill: #FFFFFF;\n",
              "    }\n",
              "  </style>\n",
              "\n",
              "      <script>\n",
              "        const buttonEl =\n",
              "          document.querySelector('#df-bfcfad5e-d6aa-4813-93bd-487920623045 button.colab-df-convert');\n",
              "        buttonEl.style.display =\n",
              "          google.colab.kernel.accessAllowed ? 'block' : 'none';\n",
              "\n",
              "        async function convertToInteractive(key) {\n",
              "          const element = document.querySelector('#df-bfcfad5e-d6aa-4813-93bd-487920623045');\n",
              "          const dataTable =\n",
              "            await google.colab.kernel.invokeFunction('convertToInteractive',\n",
              "                                                     [key], {});\n",
              "          if (!dataTable) return;\n",
              "\n",
              "          const docLinkHtml = 'Like what you see? Visit the ' +\n",
              "            '<a target=\"_blank\" href=https://colab.research.google.com/notebooks/data_table.ipynb>data table notebook</a>'\n",
              "            + ' to learn more about interactive tables.';\n",
              "          element.innerHTML = '';\n",
              "          dataTable['output_type'] = 'display_data';\n",
              "          await google.colab.output.renderOutput(dataTable, element);\n",
              "          const docLink = document.createElement('div');\n",
              "          docLink.innerHTML = docLinkHtml;\n",
              "          element.appendChild(docLink);\n",
              "        }\n",
              "      </script>\n",
              "    </div>\n",
              "  </div>\n",
              "  "
            ]
          },
          "metadata": {},
          "execution_count": 221
        }
      ]
    },
    {
      "cell_type": "code",
      "source": [
        "sse = {}\n",
        "for k in range(1, 10):\n",
        "    kmeans = KMeans(n_clusters=k, max_iter=1000).fit(ppt)\n",
        "    ppt[\"clusters\"] = kmeans.labels_\n",
        "    sse[k] = kmeans.inertia_ \n",
        "plt.figure()\n",
        "plt.plot(list(sse.keys()), list(sse.values()))\n",
        "plt.xlabel(\"Number of cluster\")\n",
        "plt.ylabel(\"SSE\")\n",
        "plt.show()"
      ],
      "metadata": {
        "colab": {
          "base_uri": "https://localhost:8080/",
          "height": 290
        },
        "id": "UnI_3XF60kQf",
        "outputId": "e965d1aa-6f94-462c-b8af-0973ad273952"
      },
      "id": "UnI_3XF60kQf",
      "execution_count": null,
      "outputs": [
        {
          "output_type": "display_data",
          "data": {
            "text/plain": [
              "<Figure size 432x288 with 1 Axes>"
            ],
            "image/png": "[encoded data removed]"
          },
          "metadata": {
            "needs_background": "light"
          }
        }
      ]
    },
    {
      "cell_type": "code",
      "source": [
        "y_predicted = km.fit_predict(ppt)\n",
        "ppt[\"cluster\"]=y_predicted"
      ],
      "metadata": {
        "id": "eR28e-Xw00-X"
      },
      "id": "eR28e-Xw00-X",
      "execution_count": null,
      "outputs": []
    },
    {
      "cell_type": "code",
      "source": [
        "pca_num_components = 2\n",
        "\n",
        "reduced_data = PCA(n_components=pca_num_components).fit_transform(ppt)\n",
        "results = pd.DataFrame(reduced_data,columns=['pca1','pca2'])\n",
        "\n",
        "sns.scatterplot(x=\"pca1\", y=\"pca2\", hue=ppt['cluster'], data=results)\n",
        "plt.title('K-means Clustering with 2 dimensions')\n",
        "plt.show()"
      ],
      "metadata": {
        "colab": {
          "base_uri": "https://localhost:8080/",
          "height": 295
        },
        "id": "k5wxLOKZ007I",
        "outputId": "351c1c75-11d8-465e-b7c5-fd17ac3eea56"
      },
      "id": "k5wxLOKZ007I",
      "execution_count": null,
      "outputs": [
        {
          "output_type": "display_data",
          "data": {
            "text/plain": [
              "<Figure size 432x288 with 1 Axes>"
            ],
            "image/png": "[encoded data removed]"
          },
          "metadata": {
            "needs_background": "light"
          }
        }
      ]
    },
    {
      "cell_type": "code",
      "source": [
        "ppt[\"fin_sts\"]=df.final_status"
      ],
      "metadata": {
        "id": "Nw64VCwV003v"
      },
      "id": "Nw64VCwV003v",
      "execution_count": null,
      "outputs": []
    },
    {
      "cell_type": "code",
      "source": [
        "ppt"
      ],
      "metadata": {
        "colab": {
          "base_uri": "https://localhost:8080/",
          "height": 424
        },
        "id": "eNsZ00Ji00z-",
        "outputId": "c0b105fa-3128-4ce6-fc9d-4cfaab06959c"
      },
      "id": "eNsZ00Ji00z-",
      "execution_count": null,
      "outputs": [
        {
          "output_type": "execute_result",
          "data": {
            "text/plain": [
              "      pay_term  pol_term  sum_assured  ann_inc  Premium  clusters  cluster  \\\n",
              "0           10        20      6000000  7200000   600000         6        2   \n",
              "1            5        10      6000000  7200000   600000         6        2   \n",
              "2            5         5      7822125  6257700   521475         2        2   \n",
              "3           20        20     10000000  6016534   501378         2        2   \n",
              "4            8         8      5000000  6000000   500000         6        2   \n",
              "...        ...       ...          ...      ...      ...       ...      ...   \n",
              "2995         5         5      2045000   766875    51125         4        0   \n",
              "2996         5         5      2991984   373998    24933         8        1   \n",
              "2997        10        10      1500000  1875000   150000         5        0   \n",
              "2998        10        10      1500000  1875000   150000         5        0   \n",
              "2999         5         5      2058077  1715064   137205         5        1   \n",
              "\n",
              "     fin_sts  \n",
              "0     Unpaid  \n",
              "1     Unpaid  \n",
              "2     Unpaid  \n",
              "3     Unpaid  \n",
              "4     Unpaid  \n",
              "...      ...  \n",
              "2995  Unpaid  \n",
              "2996  Unpaid  \n",
              "2997  Unpaid  \n",
              "2998    Paid  \n",
              "2999  Unpaid  \n",
              "\n",
              "[3000 rows x 8 columns]"
            ],
            "text/html": [
              "\n",
              "  <div id=\"df-4a33acd9-813b-434a-bcbe-12f48af18662\">\n",
              "    <div class=\"colab-df-container\">\n",
              "      <div>\n",
              "<style scoped>\n",
              "    .dataframe tbody tr th:only-of-type {\n",
              "        vertical-align: middle;\n",
              "    }\n",
              "\n",
              "    .dataframe tbody tr th {\n",
              "        vertical-align: top;\n",
              "    }\n",
              "\n",
              "    .dataframe thead th {\n",
              "        text-align: right;\n",
              "    }\n",
              "</style>\n",
              "<table border=\"1\" class=\"dataframe\">\n",
              "  <thead>\n",
              "    <tr style=\"text-align: right;\">\n",
              "      <th></th>\n",
              "      <th>pay_term</th>\n",
              "      <th>pol_term</th>\n",
              "      <th>sum_assured</th>\n",
              "      <th>ann_inc</th>\n",
              "      <th>Premium</th>\n",
              "      <th>clusters</th>\n",
              "      <th>cluster</th>\n",
              "      <th>fin_sts</th>\n",
              "    </tr>\n",
              "  </thead>\n",
              "  <tbody>\n",
              "    <tr>\n",
              "      <th>0</th>\n",
              "      <td>10</td>\n",
              "      <td>20</td>\n",
              "      <td>6000000</td>\n",
              "      <td>7200000</td>\n",
              "      <td>600000</td>\n",
              "      <td>6</td>\n",
              "      <td>2</td>\n",
              "      <td>Unpaid</td>\n",
              "    </tr>\n",
              "    <tr>\n",
              "      <th>1</th>\n",
              "      <td>5</td>\n",
              "      <td>10</td>\n",
              "      <td>6000000</td>\n",
              "      <td>7200000</td>\n",
              "      <td>600000</td>\n",
              "      <td>6</td>\n",
              "      <td>2</td>\n",
              "      <td>Unpaid</td>\n",
              "    </tr>\n",
              "    <tr>\n",
              "      <th>2</th>\n",
              "      <td>5</td>\n",
              "      <td>5</td>\n",
              "      <td>7822125</td>\n",
              "      <td>6257700</td>\n",
              "      <td>521475</td>\n",
              "      <td>2</td>\n",
              "      <td>2</td>\n",
              "      <td>Unpaid</td>\n",
              "    </tr>\n",
              "    <tr>\n",
              "      <th>3</th>\n",
              "      <td>20</td>\n",
              "      <td>20</td>\n",
              "      <td>10000000</td>\n",
              "      <td>6016534</td>\n",
              "      <td>501378</td>\n",
              "      <td>2</td>\n",
              "      <td>2</td>\n",
              "      <td>Unpaid</td>\n",
              "    </tr>\n",
              "    <tr>\n",
              "      <th>4</th>\n",
              "      <td>8</td>\n",
              "      <td>8</td>\n",
              "      <td>5000000</td>\n",
              "      <td>6000000</td>\n",
              "      <td>500000</td>\n",
              "      <td>6</td>\n",
              "      <td>2</td>\n",
              "      <td>Unpaid</td>\n",
              "    </tr>\n",
              "    <tr>\n",
              "      <th>...</th>\n",
              "      <td>...</td>\n",
              "      <td>...</td>\n",
              "      <td>...</td>\n",
              "      <td>...</td>\n",
              "      <td>...</td>\n",
              "      <td>...</td>\n",
              "      <td>...</td>\n",
              "      <td>...</td>\n",
              "    </tr>\n",
              "    <tr>\n",
              "      <th>2995</th>\n",
              "      <td>5</td>\n",
              "      <td>5</td>\n",
              "      <td>2045000</td>\n",
              "      <td>766875</td>\n",
              "      <td>51125</td>\n",
              "      <td>4</td>\n",
              "      <td>0</td>\n",
              "      <td>Unpaid</td>\n",
              "    </tr>\n",
              "    <tr>\n",
              "      <th>2996</th>\n",
              "      <td>5</td>\n",
              "      <td>5</td>\n",
              "      <td>2991984</td>\n",
              "      <td>373998</td>\n",
              "      <td>24933</td>\n",
              "      <td>8</td>\n",
              "      <td>1</td>\n",
              "      <td>Unpaid</td>\n",
              "    </tr>\n",
              "    <tr>\n",
              "      <th>2997</th>\n",
              "      <td>10</td>\n",
              "      <td>10</td>\n",
              "      <td>1500000</td>\n",
              "      <td>1875000</td>\n",
              "      <td>150000</td>\n",
              "      <td>5</td>\n",
              "      <td>0</td>\n",
              "      <td>Unpaid</td>\n",
              "    </tr>\n",
              "    <tr>\n",
              "      <th>2998</th>\n",
              "      <td>10</td>\n",
              "      <td>10</td>\n",
              "      <td>1500000</td>\n",
              "      <td>1875000</td>\n",
              "      <td>150000</td>\n",
              "      <td>5</td>\n",
              "      <td>0</td>\n",
              "      <td>Paid</td>\n",
              "    </tr>\n",
              "    <tr>\n",
              "      <th>2999</th>\n",
              "      <td>5</td>\n",
              "      <td>5</td>\n",
              "      <td>2058077</td>\n",
              "      <td>1715064</td>\n",
              "      <td>137205</td>\n",
              "      <td>5</td>\n",
              "      <td>1</td>\n",
              "      <td>Unpaid</td>\n",
              "    </tr>\n",
              "  </tbody>\n",
              "</table>\n",
              "<p>3000 rows × 8 columns</p>\n",
              "</div>\n",
              "      <button class=\"colab-df-convert\" onclick=\"convertToInteractive('df-4a33acd9-813b-434a-bcbe-12f48af18662')\"\n",
              "              title=\"Convert this dataframe to an interactive table.\"\n",
              "              style=\"display:none;\">\n",
              "        \n",
              "  <svg xmlns=\"http://www.w3.org/2000/svg\" height=\"24px\"viewBox=\"0 0 24 24\"\n",
              "       width=\"24px\">\n",
              "    <path d=\"M0 0h24v24H0V0z\" fill=\"none\"/>\n",
              "    <path d=\"M18.56 5.44l.94 2.06.94-2.06 2.06-.94-2.06-.94-.94-2.06-.94 2.06-2.06.94zm-11 1L8.5 8.5l.94-2.06 2.06-.94-2.06-.94L8.5 2.5l-.94 2.06-2.06.94zm10 10l.94 2.06.94-2.06 2.06-.94-2.06-.94-.94-2.06-.94 2.06-2.06.94z\"/><path d=\"M17.41 7.96l-1.37-1.37c-.4-.4-.92-.59-1.43-.59-.52 0-1.04.2-1.43.59L10.3 9.45l-7.72 7.72c-.78.78-.78 2.05 0 2.83L4 21.41c.39.39.9.59 1.41.59.51 0 1.02-.2 1.41-.59l7.78-7.78 2.81-2.81c.8-.78.8-2.07 0-2.86zM5.41 20L4 18.59l7.72-7.72 1.47 1.35L5.41 20z\"/>\n",
              "  </svg>\n",
              "      </button>\n",
              "      \n",
              "  <style>\n",
              "    .colab-df-container {\n",
              "      display:flex;\n",
              "      flex-wrap:wrap;\n",
              "      gap: 12px;\n",
              "    }\n",
              "\n",
              "    .colab-df-convert {\n",
              "      background-color: #E8F0FE;\n",
              "      border: none;\n",
              "      border-radius: 50%;\n",
              "      cursor: pointer;\n",
              "      display: none;\n",
              "      fill: #1967D2;\n",
              "      height: 32px;\n",
              "      padding: 0 0 0 0;\n",
              "      width: 32px;\n",
              "    }\n",
              "\n",
              "    .colab-df-convert:hover {\n",
              "      background-color: #E2EBFA;\n",
              "      box-shadow: 0px 1px 2px rgba(60, 64, 67, 0.3), 0px 1px 3px 1px rgba(60, 64, 67, 0.15);\n",
              "      fill: #174EA6;\n",
              "    }\n",
              "\n",
              "    [theme=dark] .colab-df-convert {\n",
              "      background-color: #3B4455;\n",
              "      fill: #D2E3FC;\n",
              "    }\n",
              "\n",
              "    [theme=dark] .colab-df-convert:hover {\n",
              "      background-color: #434B5C;\n",
              "      box-shadow: 0px 1px 3px 1px rgba(0, 0, 0, 0.15);\n",
              "      filter: drop-shadow(0px 1px 2px rgba(0, 0, 0, 0.3));\n",
              "      fill: #FFFFFF;\n",
              "    }\n",
              "  </style>\n",
              "\n",
              "      <script>\n",
              "        const buttonEl =\n",
              "          document.querySelector('#df-4a33acd9-813b-434a-bcbe-12f48af18662 button.colab-df-convert');\n",
              "        buttonEl.style.display =\n",
              "          google.colab.kernel.accessAllowed ? 'block' : 'none';\n",
              "\n",
              "        async function convertToInteractive(key) {\n",
              "          const element = document.querySelector('#df-4a33acd9-813b-434a-bcbe-12f48af18662');\n",
              "          const dataTable =\n",
              "            await google.colab.kernel.invokeFunction('convertToInteractive',\n",
              "                                                     [key], {});\n",
              "          if (!dataTable) return;\n",
              "\n",
              "          const docLinkHtml = 'Like what you see? Visit the ' +\n",
              "            '<a target=\"_blank\" href=https://colab.research.google.com/notebooks/data_table.ipynb>data table notebook</a>'\n",
              "            + ' to learn more about interactive tables.';\n",
              "          element.innerHTML = '';\n",
              "          dataTable['output_type'] = 'display_data';\n",
              "          await google.colab.output.renderOutput(dataTable, element);\n",
              "          const docLink = document.createElement('div');\n",
              "          docLink.innerHTML = docLinkHtml;\n",
              "          element.appendChild(docLink);\n",
              "        }\n",
              "      </script>\n",
              "    </div>\n",
              "  </div>\n",
              "  "
            ]
          },
          "metadata": {},
          "execution_count": 226
        }
      ]
    },
    {
      "cell_type": "code",
      "source": [
        "pt0=[]\n",
        "pot0=[]\n",
        "sa0=[]\n",
        "ai0=[]\n",
        "pr0=[]\n",
        "fs0=[]\n",
        "for i in range(3000):\n",
        "    if ppt.cluster[i]==0:\n",
        "        pt0.append(ppt.pay_term[i])\n",
        "        pot0.append(ppt.pol_term[i])\n",
        "        sa0.append(ppt.sum_assured[i])\n",
        "        ai0.append(ppt.ann_inc[i])\n",
        "        pr0.append(ppt.Premium[i])\n",
        "        fs0.append(ppt.fin_sts[i])\n",
        "        \n",
        "p0=pd.DataFrame(pt0,columns=[\"pay_term\"])\n",
        "p0[\"pol_term\"]=pot0\n",
        "p0[\"sum_assured\"]=sa0\n",
        "p0[\"ann_inc\"]=ai0\n",
        "p0[\"premium\"]=pr0\n",
        "p0[\"final_sts\"]=fs0\n",
        "\n"
      ],
      "metadata": {
        "id": "bijBzlmc00wr"
      },
      "id": "bijBzlmc00wr",
      "execution_count": null,
      "outputs": []
    },
    {
      "cell_type": "code",
      "source": [
        "pt1=[]\n",
        "pot1=[]\n",
        "sa1=[]\n",
        "ai1=[]\n",
        "pr1=[]\n",
        "fs1=[]\n",
        "for i in range(3000):\n",
        "    if ppt.cluster[i]==1:\n",
        "        pt1.append(ppt.pay_term[i])\n",
        "        pot1.append(ppt.pol_term[i])\n",
        "        sa1.append(ppt.sum_assured[i])\n",
        "        ai1.append(ppt.ann_inc[i])\n",
        "        pr1.append(ppt.Premium[i])\n",
        "        fs1.append(ppt.fin_sts[i])\n",
        "        \n",
        "p1=pd.DataFrame(pt1,columns=[\"pay_term\"])\n",
        "p1[\"pol_term\"]=pot1\n",
        "p1[\"sum_assured\"]=sa1\n",
        "p1[\"ann_inc\"]=ai1\n",
        "p1[\"premium\"]=pr1\n",
        "p1[\"final_sts\"]=fs1\n",
        "\n"
      ],
      "metadata": {
        "id": "ne-OxWUt00tJ"
      },
      "id": "ne-OxWUt00tJ",
      "execution_count": null,
      "outputs": []
    },
    {
      "cell_type": "code",
      "source": [
        "pt2=[]\n",
        "pot2=[]\n",
        "sa2=[]\n",
        "ai2=[]\n",
        "pr2=[]\n",
        "fs2=[]\n",
        "for i in range(3000):\n",
        "    if ppt.cluster[i]==2:\n",
        "        pt2.append(ppt.pay_term[i])\n",
        "        pot2.append(ppt.pol_term[i])\n",
        "        sa2.append(ppt.sum_assured[i])\n",
        "        ai2.append(ppt.ann_inc[i])\n",
        "        pr2.append(ppt.Premium[i])\n",
        "        fs2.append(ppt.fin_sts[i])\n",
        "        \n",
        "p2=pd.DataFrame(pt2,columns=[\"pay_term\"])\n",
        "p2[\"pol_term\"]=pot2\n",
        "p2[\"sum_assured\"]=sa2\n",
        "p2[\"ann_inc\"]=ai2\n",
        "p2[\"premium\"]=pr2\n",
        "p2[\"final_sts\"]=fs2\n",
        "\n"
      ],
      "metadata": {
        "id": "nnIq3j2D00p-"
      },
      "id": "nnIq3j2D00p-",
      "execution_count": null,
      "outputs": []
    },
    {
      "cell_type": "code",
      "source": [
        "x00=p0.filter([\"pay_term\",\"pol_term\",\"sum_assured\",\"ann_inc\",\"Premium\"], axis=1)\n",
        "y00=p0.final_sts\n"
      ],
      "metadata": {
        "id": "LrSV3d9c00mS"
      },
      "id": "LrSV3d9c00mS",
      "execution_count": null,
      "outputs": []
    },
    {
      "cell_type": "code",
      "source": [
        "X_train0, X_test0, y_train0, y_test0 = train_test_split(x00, y00, test_size=0.33, random_state=42)"
      ],
      "metadata": {
        "id": "L_i4Mm-m00jL"
      },
      "id": "L_i4Mm-m00jL",
      "execution_count": null,
      "outputs": []
    },
    {
      "cell_type": "code",
      "source": [
        "from sklearn.ensemble import RandomForestClassifier\n",
        "rf = AdaBoostClassifier(n_estimators = 5, learning_rate = 0.2)\n",
        "rf.fit(X_train0, y_train0) \n",
        "y_pred_rf0=rf.predict(X_test0)\n",
        "acc10=accuracy_score(y_pred_rf0,y_test0)\n",
        "acc10"
      ],
      "metadata": {
        "colab": {
          "base_uri": "https://localhost:8080/"
        },
        "id": "j4WHmwN400a5",
        "outputId": "dcd6f97c-96d4-4a15-9751-192f6be81596"
      },
      "id": "j4WHmwN400a5",
      "execution_count": null,
      "outputs": [
        {
          "output_type": "execute_result",
          "data": {
            "text/plain": [
              "0.6738410596026491"
            ]
          },
          "metadata": {},
          "execution_count": 232
        }
      ]
    },
    {
      "cell_type": "code",
      "source": [
        "x01=p1.filter([\"pay_term\",\"pol_term\",\"sum_assured\",\"ann_inc\",\"Premium\"], axis=1)\n",
        "y01=p1.final_sts\n"
      ],
      "metadata": {
        "id": "MG3FUgBo00XH"
      },
      "id": "MG3FUgBo00XH",
      "execution_count": null,
      "outputs": []
    },
    {
      "cell_type": "code",
      "source": [
        "X_train1, X_test1, y_train1, y_test1 = train_test_split(x01, y01, test_size=0.33, random_state=42)"
      ],
      "metadata": {
        "id": "TrJyKOZ800TC"
      },
      "id": "TrJyKOZ800TC",
      "execution_count": null,
      "outputs": []
    },
    {
      "cell_type": "code",
      "source": [
        "from sklearn.ensemble import RandomForestClassifier\n",
        "rf = RandomForestClassifier(max_depth=5, random_state=0)\n",
        "rf.fit(X_train1, y_train1) \n",
        "y_pred_rf1=rf.predict(X_test1)\n",
        "acc11=accuracy_score(y_pred_rf1,y_test1)\n",
        "acc11"
      ],
      "metadata": {
        "colab": {
          "base_uri": "https://localhost:8080/"
        },
        "id": "mnbMP1lS00O2",
        "outputId": "3186a288-45c8-4b5b-b479-f285b6d75fde"
      },
      "id": "mnbMP1lS00O2",
      "execution_count": null,
      "outputs": [
        {
          "output_type": "execute_result",
          "data": {
            "text/plain": [
              "0.6363636363636364"
            ]
          },
          "metadata": {},
          "execution_count": 235
        }
      ]
    },
    {
      "cell_type": "code",
      "source": [
        "x02=p2.filter([\"pay_term\",\"pol_term\",\"sum_assured\",\"ann_inc\",\"Premium\"], axis=1)\n",
        "y02=p2.final_sts\n"
      ],
      "metadata": {
        "id": "dwHhOtHK5And"
      },
      "id": "dwHhOtHK5And",
      "execution_count": null,
      "outputs": []
    },
    {
      "cell_type": "code",
      "source": [
        "X_train02, X_test02, y_train02, y_test02 = train_test_split(x02, y02, test_size=0.33, random_state=42)"
      ],
      "metadata": {
        "id": "yWQ9rX295AlF"
      },
      "id": "yWQ9rX295AlF",
      "execution_count": null,
      "outputs": []
    },
    {
      "cell_type": "code",
      "source": [
        "from sklearn.ensemble import RandomForestClassifier\n",
        "rf = RandomForestClassifier(max_depth=5, random_state=0)\n",
        "rf.fit(X_train02, y_train02) \n",
        "y_pred_rf02=rf.predict(X_test02)\n",
        "acc12=accuracy_score(y_pred_rf02,y_test02)\n",
        "acc12"
      ],
      "metadata": {
        "colab": {
          "base_uri": "https://localhost:8080/"
        },
        "id": "0ozmmMAW5Aip",
        "outputId": "49a1b80f-fbd0-4205-84cb-c315b1a98650"
      },
      "id": "0ozmmMAW5Aip",
      "execution_count": null,
      "outputs": [
        {
          "output_type": "execute_result",
          "data": {
            "text/plain": [
              "0.7714285714285715"
            ]
          },
          "metadata": {},
          "execution_count": 238
        }
      ]
    },
    {
      "cell_type": "code",
      "source": [
        "x=ppt.filter([\"pay_term\",\"pol_term\",\"sum_assured\",\"ann_inc\",\"Premium\"], axis=1)\n",
        "x"
      ],
      "metadata": {
        "colab": {
          "base_uri": "https://localhost:8080/",
          "height": 424
        },
        "id": "weqQaTZA5AgD",
        "outputId": "66385862-5da5-4d0c-90e9-6f0a4a7782c1"
      },
      "id": "weqQaTZA5AgD",
      "execution_count": null,
      "outputs": [
        {
          "output_type": "execute_result",
          "data": {
            "text/plain": [
              "      pay_term  pol_term  sum_assured  ann_inc  Premium\n",
              "0           10        20      6000000  7200000   600000\n",
              "1            5        10      6000000  7200000   600000\n",
              "2            5         5      7822125  6257700   521475\n",
              "3           20        20     10000000  6016534   501378\n",
              "4            8         8      5000000  6000000   500000\n",
              "...        ...       ...          ...      ...      ...\n",
              "2995         5         5      2045000   766875    51125\n",
              "2996         5         5      2991984   373998    24933\n",
              "2997        10        10      1500000  1875000   150000\n",
              "2998        10        10      1500000  1875000   150000\n",
              "2999         5         5      2058077  1715064   137205\n",
              "\n",
              "[3000 rows x 5 columns]"
            ],
            "text/html": [
              "\n",
              "  <div id=\"df-41d69cf3-bfff-4bf0-a9b4-5213b0264c8c\">\n",
              "    <div class=\"colab-df-container\">\n",
              "      <div>\n",
              "<style scoped>\n",
              "    .dataframe tbody tr th:only-of-type {\n",
              "        vertical-align: middle;\n",
              "    }\n",
              "\n",
              "    .dataframe tbody tr th {\n",
              "        vertical-align: top;\n",
              "    }\n",
              "\n",
              "    .dataframe thead th {\n",
              "        text-align: right;\n",
              "    }\n",
              "</style>\n",
              "<table border=\"1\" class=\"dataframe\">\n",
              "  <thead>\n",
              "    <tr style=\"text-align: right;\">\n",
              "      <th></th>\n",
              "      <th>pay_term</th>\n",
              "      <th>pol_term</th>\n",
              "      <th>sum_assured</th>\n",
              "      <th>ann_inc</th>\n",
              "      <th>Premium</th>\n",
              "    </tr>\n",
              "  </thead>\n",
              "  <tbody>\n",
              "    <tr>\n",
              "      <th>0</th>\n",
              "      <td>10</td>\n",
              "      <td>20</td>\n",
              "      <td>6000000</td>\n",
              "      <td>7200000</td>\n",
              "      <td>600000</td>\n",
              "    </tr>\n",
              "    <tr>\n",
              "      <th>1</th>\n",
              "      <td>5</td>\n",
              "      <td>10</td>\n",
              "      <td>6000000</td>\n",
              "      <td>7200000</td>\n",
              "      <td>600000</td>\n",
              "    </tr>\n",
              "    <tr>\n",
              "      <th>2</th>\n",
              "      <td>5</td>\n",
              "      <td>5</td>\n",
              "      <td>7822125</td>\n",
              "      <td>6257700</td>\n",
              "      <td>521475</td>\n",
              "    </tr>\n",
              "    <tr>\n",
              "      <th>3</th>\n",
              "      <td>20</td>\n",
              "      <td>20</td>\n",
              "      <td>10000000</td>\n",
              "      <td>6016534</td>\n",
              "      <td>501378</td>\n",
              "    </tr>\n",
              "    <tr>\n",
              "      <th>4</th>\n",
              "      <td>8</td>\n",
              "      <td>8</td>\n",
              "      <td>5000000</td>\n",
              "      <td>6000000</td>\n",
              "      <td>500000</td>\n",
              "    </tr>\n",
              "    <tr>\n",
              "      <th>...</th>\n",
              "      <td>...</td>\n",
              "      <td>...</td>\n",
              "      <td>...</td>\n",
              "      <td>...</td>\n",
              "      <td>...</td>\n",
              "    </tr>\n",
              "    <tr>\n",
              "      <th>2995</th>\n",
              "      <td>5</td>\n",
              "      <td>5</td>\n",
              "      <td>2045000</td>\n",
              "      <td>766875</td>\n",
              "      <td>51125</td>\n",
              "    </tr>\n",
              "    <tr>\n",
              "      <th>2996</th>\n",
              "      <td>5</td>\n",
              "      <td>5</td>\n",
              "      <td>2991984</td>\n",
              "      <td>373998</td>\n",
              "      <td>24933</td>\n",
              "    </tr>\n",
              "    <tr>\n",
              "      <th>2997</th>\n",
              "      <td>10</td>\n",
              "      <td>10</td>\n",
              "      <td>1500000</td>\n",
              "      <td>1875000</td>\n",
              "      <td>150000</td>\n",
              "    </tr>\n",
              "    <tr>\n",
              "      <th>2998</th>\n",
              "      <td>10</td>\n",
              "      <td>10</td>\n",
              "      <td>1500000</td>\n",
              "      <td>1875000</td>\n",
              "      <td>150000</td>\n",
              "    </tr>\n",
              "    <tr>\n",
              "      <th>2999</th>\n",
              "      <td>5</td>\n",
              "      <td>5</td>\n",
              "      <td>2058077</td>\n",
              "      <td>1715064</td>\n",
              "      <td>137205</td>\n",
              "    </tr>\n",
              "  </tbody>\n",
              "</table>\n",
              "<p>3000 rows × 5 columns</p>\n",
              "</div>\n",
              "      <button class=\"colab-df-convert\" onclick=\"convertToInteractive('df-41d69cf3-bfff-4bf0-a9b4-5213b0264c8c')\"\n",
              "              title=\"Convert this dataframe to an interactive table.\"\n",
              "              style=\"display:none;\">\n",
              "        \n",
              "  <svg xmlns=\"http://www.w3.org/2000/svg\" height=\"24px\"viewBox=\"0 0 24 24\"\n",
              "       width=\"24px\">\n",
              "    <path d=\"M0 0h24v24H0V0z\" fill=\"none\"/>\n",
              "    <path d=\"M18.56 5.44l.94 2.06.94-2.06 2.06-.94-2.06-.94-.94-2.06-.94 2.06-2.06.94zm-11 1L8.5 8.5l.94-2.06 2.06-.94-2.06-.94L8.5 2.5l-.94 2.06-2.06.94zm10 10l.94 2.06.94-2.06 2.06-.94-2.06-.94-.94-2.06-.94 2.06-2.06.94z\"/><path d=\"M17.41 7.96l-1.37-1.37c-.4-.4-.92-.59-1.43-.59-.52 0-1.04.2-1.43.59L10.3 9.45l-7.72 7.72c-.78.78-.78 2.05 0 2.83L4 21.41c.39.39.9.59 1.41.59.51 0 1.02-.2 1.41-.59l7.78-7.78 2.81-2.81c.8-.78.8-2.07 0-2.86zM5.41 20L4 18.59l7.72-7.72 1.47 1.35L5.41 20z\"/>\n",
              "  </svg>\n",
              "      </button>\n",
              "      \n",
              "  <style>\n",
              "    .colab-df-container {\n",
              "      display:flex;\n",
              "      flex-wrap:wrap;\n",
              "      gap: 12px;\n",
              "    }\n",
              "\n",
              "    .colab-df-convert {\n",
              "      background-color: #E8F0FE;\n",
              "      border: none;\n",
              "      border-radius: 50%;\n",
              "      cursor: pointer;\n",
              "      display: none;\n",
              "      fill: #1967D2;\n",
              "      height: 32px;\n",
              "      padding: 0 0 0 0;\n",
              "      width: 32px;\n",
              "    }\n",
              "\n",
              "    .colab-df-convert:hover {\n",
              "      background-color: #E2EBFA;\n",
              "      box-shadow: 0px 1px 2px rgba(60, 64, 67, 0.3), 0px 1px 3px 1px rgba(60, 64, 67, 0.15);\n",
              "      fill: #174EA6;\n",
              "    }\n",
              "\n",
              "    [theme=dark] .colab-df-convert {\n",
              "      background-color: #3B4455;\n",
              "      fill: #D2E3FC;\n",
              "    }\n",
              "\n",
              "    [theme=dark] .colab-df-convert:hover {\n",
              "      background-color: #434B5C;\n",
              "      box-shadow: 0px 1px 3px 1px rgba(0, 0, 0, 0.15);\n",
              "      filter: drop-shadow(0px 1px 2px rgba(0, 0, 0, 0.3));\n",
              "      fill: #FFFFFF;\n",
              "    }\n",
              "  </style>\n",
              "\n",
              "      <script>\n",
              "        const buttonEl =\n",
              "          document.querySelector('#df-41d69cf3-bfff-4bf0-a9b4-5213b0264c8c button.colab-df-convert');\n",
              "        buttonEl.style.display =\n",
              "          google.colab.kernel.accessAllowed ? 'block' : 'none';\n",
              "\n",
              "        async function convertToInteractive(key) {\n",
              "          const element = document.querySelector('#df-41d69cf3-bfff-4bf0-a9b4-5213b0264c8c');\n",
              "          const dataTable =\n",
              "            await google.colab.kernel.invokeFunction('convertToInteractive',\n",
              "                                                     [key], {});\n",
              "          if (!dataTable) return;\n",
              "\n",
              "          const docLinkHtml = 'Like what you see? Visit the ' +\n",
              "            '<a target=\"_blank\" href=https://colab.research.google.com/notebooks/data_table.ipynb>data table notebook</a>'\n",
              "            + ' to learn more about interactive tables.';\n",
              "          element.innerHTML = '';\n",
              "          dataTable['output_type'] = 'display_data';\n",
              "          await google.colab.output.renderOutput(dataTable, element);\n",
              "          const docLink = document.createElement('div');\n",
              "          docLink.innerHTML = docLinkHtml;\n",
              "          element.appendChild(docLink);\n",
              "        }\n",
              "      </script>\n",
              "    </div>\n",
              "  </div>\n",
              "  "
            ]
          },
          "metadata": {},
          "execution_count": 239
        }
      ]
    },
    {
      "cell_type": "code",
      "source": [
        "y=ppt.fin_sts\n",
        "X_train, X_test, y_train, y_test = train_test_split(x, y, test_size=0.33, random_state=42)"
      ],
      "metadata": {
        "id": "nI86yTDJ5AdV"
      },
      "id": "nI86yTDJ5AdV",
      "execution_count": null,
      "outputs": []
    },
    {
      "cell_type": "code",
      "source": [
        "from sklearn.ensemble import RandomForestClassifier\n",
        "rf = RandomForestClassifier(max_depth=5, random_state=5)\n",
        "rf.fit(X_train, y_train) \n",
        "y_pred_rf=rf.predict(X_test)\n",
        "acc=accuracy_score(y_pred_rf,y_test)\n",
        "acc"
      ],
      "metadata": {
        "colab": {
          "base_uri": "https://localhost:8080/"
        },
        "id": "VyPxPmjY5Aaa",
        "outputId": "7f85ef42-6261-47eb-c053-d0c36f0f1064"
      },
      "id": "VyPxPmjY5Aaa",
      "execution_count": null,
      "outputs": [
        {
          "output_type": "execute_result",
          "data": {
            "text/plain": [
              "0.6616161616161617"
            ]
          },
          "metadata": {},
          "execution_count": 241
        }
      ]
    },
    {
      "cell_type": "code",
      "source": [
        "from sklearn.svm import SVC\n",
        "from sklearn.pipeline import make_pipeline\n",
        "from sklearn.preprocessing import StandardScaler\n",
        "clf = make_pipeline(StandardScaler(), SVC(gamma='auto'))"
      ],
      "metadata": {
        "id": "R1mLXhyC5AXq"
      },
      "id": "R1mLXhyC5AXq",
      "execution_count": null,
      "outputs": []
    },
    {
      "cell_type": "code",
      "source": [
        "clf.fit(X_train, y_train)"
      ],
      "metadata": {
        "colab": {
          "base_uri": "https://localhost:8080/"
        },
        "id": "sUuYgNzs5AUy",
        "outputId": "190baf8e-1461-450b-e1a6-4478a615ae41"
      },
      "id": "sUuYgNzs5AUy",
      "execution_count": null,
      "outputs": [
        {
          "output_type": "execute_result",
          "data": {
            "text/plain": [
              "Pipeline(steps=[('standardscaler', StandardScaler()),\n",
              "                ('svc', SVC(gamma='auto'))])"
            ]
          },
          "metadata": {},
          "execution_count": 243
        }
      ]
    },
    {
      "cell_type": "code",
      "source": [
        "y_pred_svm=clf.predict(X_test)\n",
        "acc=accuracy_score(y_pred_svm,y_test)\n",
        "acc"
      ],
      "metadata": {
        "colab": {
          "base_uri": "https://localhost:8080/"
        },
        "id": "CPEx7ifI6Ixe",
        "outputId": "4d2823e4-e8d7-4da9-f006-42ceeca2df9a"
      },
      "id": "CPEx7ifI6Ixe",
      "execution_count": null,
      "outputs": [
        {
          "output_type": "execute_result",
          "data": {
            "text/plain": [
              "0.6555555555555556"
            ]
          },
          "metadata": {},
          "execution_count": 244
        }
      ]
    },
    {
      "cell_type": "code",
      "source": [
        "from sklearn.ensemble import BaggingClassifier\n",
        "from sklearn.datasets import make_classification\n"
      ],
      "metadata": {
        "id": "AFn0YpEb6IvJ"
      },
      "id": "AFn0YpEb6IvJ",
      "execution_count": null,
      "outputs": []
    },
    {
      "cell_type": "code",
      "source": [
        "from sklearn.model_selection import RepeatedStratifiedKFold\n",
        "from sklearn.ensemble import BaggingClassifier\n",
        "from sklearn.model_selection import cross_val_score\n",
        "from imblearn.ensemble import BalancedRandomForestClassifier"
      ],
      "metadata": {
        "id": "cDYaJjrS6Isg"
      },
      "id": "cDYaJjrS6Isg",
      "execution_count": null,
      "outputs": []
    },
    {
      "cell_type": "code",
      "source": [
        "model = BalancedRandomForestClassifier(n_estimators=5)"
      ],
      "metadata": {
        "id": "8clk0uxb6IqA"
      },
      "id": "8clk0uxb6IqA",
      "execution_count": null,
      "outputs": []
    },
    {
      "cell_type": "code",
      "source": [
        "cv = RepeatedStratifiedKFold(n_splits=5, n_repeats=3, random_state=1)\n",
        "scores = cross_val_score(model, X_train1, y_train1, scoring='roc_auc', cv=cv, n_jobs=-1)"
      ],
      "metadata": {
        "id": "PP3nvbSI6Ine"
      },
      "id": "PP3nvbSI6Ine",
      "execution_count": null,
      "outputs": []
    },
    {
      "cell_type": "code",
      "source": [
        "from collections import Counter\n",
        "\n",
        "counter = Counter(y)\n",
        "print(counter)\n"
      ],
      "metadata": {
        "colab": {
          "base_uri": "https://localhost:8080/"
        },
        "id": "5b30QoGq6IlD",
        "outputId": "cfc5d369-881a-4e40-fd0e-546643286b35"
      },
      "id": "5b30QoGq6IlD",
      "execution_count": null,
      "outputs": [
        {
          "output_type": "stream",
          "name": "stdout",
          "text": [
            "Counter({'Unpaid': 1965, 'Paid': 1035})\n"
          ]
        }
      ]
    },
    {
      "cell_type": "code",
      "source": [
        "import numpy as np\n",
        "from matplotlib import pyplot\n"
      ],
      "metadata": {
        "id": "r3tDo1Tt6IiP"
      },
      "id": "r3tDo1Tt6IiP",
      "execution_count": null,
      "outputs": []
    },
    {
      "cell_type": "code",
      "source": [
        "pca_num_components = 2\n",
        "\n",
        "reduced_data = PCA(n_components=pca_num_components).fit_transform(x)\n",
        "xd= pd.DataFrame(reduced_data,columns=['pca1','pca2'])"
      ],
      "metadata": {
        "id": "OxM-gOFk60aa"
      },
      "id": "OxM-gOFk60aa",
      "execution_count": null,
      "outputs": []
    },
    {
      "cell_type": "code",
      "source": [
        "xx=(xd-xd.min())/(xd.max()-xd.min())"
      ],
      "metadata": {
        "id": "l7NKyN0g60X4"
      },
      "id": "l7NKyN0g60X4",
      "execution_count": null,
      "outputs": []
    },
    {
      "cell_type": "code",
      "source": [
        "xx"
      ],
      "metadata": {
        "colab": {
          "base_uri": "https://localhost:8080/",
          "height": 424
        },
        "id": "xEHjIAO360Vd",
        "outputId": "ee273b31-7941-4d90-d832-3f05bca848f8"
      },
      "id": "xEHjIAO360Vd",
      "execution_count": null,
      "outputs": [
        {
          "output_type": "execute_result",
          "data": {
            "text/plain": [
              "          pca1      pca2\n",
              "0     0.469451  0.547737\n",
              "1     0.469451  0.547737\n",
              "2     0.509258  0.339435\n",
              "3     0.586853  0.164197\n",
              "4     0.389373  0.519011\n",
              "...        ...       ...\n",
              "2995  0.095497  0.293500\n",
              "2996  0.119487  0.193352\n",
              "2997  0.111628  0.424677\n",
              "2998  0.111628  0.424677\n",
              "2999  0.128185  0.371601\n",
              "\n",
              "[3000 rows x 2 columns]"
            ],
            "text/html": [
              "\n",
              "  <div id=\"df-75b1fd35-a0ec-4037-ba7a-fd0fec55a592\">\n",
              "    <div class=\"colab-df-container\">\n",
              "      <div>\n",
              "<style scoped>\n",
              "    .dataframe tbody tr th:only-of-type {\n",
              "        vertical-align: middle;\n",
              "    }\n",
              "\n",
              "    .dataframe tbody tr th {\n",
              "        vertical-align: top;\n",
              "    }\n",
              "\n",
              "    .dataframe thead th {\n",
              "        text-align: right;\n",
              "    }\n",
              "</style>\n",
              "<table border=\"1\" class=\"dataframe\">\n",
              "  <thead>\n",
              "    <tr style=\"text-align: right;\">\n",
              "      <th></th>\n",
              "      <th>pca1</th>\n",
              "      <th>pca2</th>\n",
              "    </tr>\n",
              "  </thead>\n",
              "  <tbody>\n",
              "    <tr>\n",
              "      <th>0</th>\n",
              "      <td>0.469451</td>\n",
              "      <td>0.547737</td>\n",
              "    </tr>\n",
              "    <tr>\n",
              "      <th>1</th>\n",
              "      <td>0.469451</td>\n",
              "      <td>0.547737</td>\n",
              "    </tr>\n",
              "    <tr>\n",
              "      <th>2</th>\n",
              "      <td>0.509258</td>\n",
              "      <td>0.339435</td>\n",
              "    </tr>\n",
              "    <tr>\n",
              "      <th>3</th>\n",
              "      <td>0.586853</td>\n",
              "      <td>0.164197</td>\n",
              "    </tr>\n",
              "    <tr>\n",
              "      <th>4</th>\n",
              "      <td>0.389373</td>\n",
              "      <td>0.519011</td>\n",
              "    </tr>\n",
              "    <tr>\n",
              "      <th>...</th>\n",
              "      <td>...</td>\n",
              "      <td>...</td>\n",
              "    </tr>\n",
              "    <tr>\n",
              "      <th>2995</th>\n",
              "      <td>0.095497</td>\n",
              "      <td>0.293500</td>\n",
              "    </tr>\n",
              "    <tr>\n",
              "      <th>2996</th>\n",
              "      <td>0.119487</td>\n",
              "      <td>0.193352</td>\n",
              "    </tr>\n",
              "    <tr>\n",
              "      <th>2997</th>\n",
              "      <td>0.111628</td>\n",
              "      <td>0.424677</td>\n",
              "    </tr>\n",
              "    <tr>\n",
              "      <th>2998</th>\n",
              "      <td>0.111628</td>\n",
              "      <td>0.424677</td>\n",
              "    </tr>\n",
              "    <tr>\n",
              "      <th>2999</th>\n",
              "      <td>0.128185</td>\n",
              "      <td>0.371601</td>\n",
              "    </tr>\n",
              "  </tbody>\n",
              "</table>\n",
              "<p>3000 rows × 2 columns</p>\n",
              "</div>\n",
              "      <button class=\"colab-df-convert\" onclick=\"convertToInteractive('df-75b1fd35-a0ec-4037-ba7a-fd0fec55a592')\"\n",
              "              title=\"Convert this dataframe to an interactive table.\"\n",
              "              style=\"display:none;\">\n",
              "        \n",
              "  <svg xmlns=\"http://www.w3.org/2000/svg\" height=\"24px\"viewBox=\"0 0 24 24\"\n",
              "       width=\"24px\">\n",
              "    <path d=\"M0 0h24v24H0V0z\" fill=\"none\"/>\n",
              "    <path d=\"M18.56 5.44l.94 2.06.94-2.06 2.06-.94-2.06-.94-.94-2.06-.94 2.06-2.06.94zm-11 1L8.5 8.5l.94-2.06 2.06-.94-2.06-.94L8.5 2.5l-.94 2.06-2.06.94zm10 10l.94 2.06.94-2.06 2.06-.94-2.06-.94-.94-2.06-.94 2.06-2.06.94z\"/><path d=\"M17.41 7.96l-1.37-1.37c-.4-.4-.92-.59-1.43-.59-.52 0-1.04.2-1.43.59L10.3 9.45l-7.72 7.72c-.78.78-.78 2.05 0 2.83L4 21.41c.39.39.9.59 1.41.59.51 0 1.02-.2 1.41-.59l7.78-7.78 2.81-2.81c.8-.78.8-2.07 0-2.86zM5.41 20L4 18.59l7.72-7.72 1.47 1.35L5.41 20z\"/>\n",
              "  </svg>\n",
              "      </button>\n",
              "      \n",
              "  <style>\n",
              "    .colab-df-container {\n",
              "      display:flex;\n",
              "      flex-wrap:wrap;\n",
              "      gap: 12px;\n",
              "    }\n",
              "\n",
              "    .colab-df-convert {\n",
              "      background-color: #E8F0FE;\n",
              "      border: none;\n",
              "      border-radius: 50%;\n",
              "      cursor: pointer;\n",
              "      display: none;\n",
              "      fill: #1967D2;\n",
              "      height: 32px;\n",
              "      padding: 0 0 0 0;\n",
              "      width: 32px;\n",
              "    }\n",
              "\n",
              "    .colab-df-convert:hover {\n",
              "      background-color: #E2EBFA;\n",
              "      box-shadow: 0px 1px 2px rgba(60, 64, 67, 0.3), 0px 1px 3px 1px rgba(60, 64, 67, 0.15);\n",
              "      fill: #174EA6;\n",
              "    }\n",
              "\n",
              "    [theme=dark] .colab-df-convert {\n",
              "      background-color: #3B4455;\n",
              "      fill: #D2E3FC;\n",
              "    }\n",
              "\n",
              "    [theme=dark] .colab-df-convert:hover {\n",
              "      background-color: #434B5C;\n",
              "      box-shadow: 0px 1px 3px 1px rgba(0, 0, 0, 0.15);\n",
              "      filter: drop-shadow(0px 1px 2px rgba(0, 0, 0, 0.3));\n",
              "      fill: #FFFFFF;\n",
              "    }\n",
              "  </style>\n",
              "\n",
              "      <script>\n",
              "        const buttonEl =\n",
              "          document.querySelector('#df-75b1fd35-a0ec-4037-ba7a-fd0fec55a592 button.colab-df-convert');\n",
              "        buttonEl.style.display =\n",
              "          google.colab.kernel.accessAllowed ? 'block' : 'none';\n",
              "\n",
              "        async function convertToInteractive(key) {\n",
              "          const element = document.querySelector('#df-75b1fd35-a0ec-4037-ba7a-fd0fec55a592');\n",
              "          const dataTable =\n",
              "            await google.colab.kernel.invokeFunction('convertToInteractive',\n",
              "                                                     [key], {});\n",
              "          if (!dataTable) return;\n",
              "\n",
              "          const docLinkHtml = 'Like what you see? Visit the ' +\n",
              "            '<a target=\"_blank\" href=https://colab.research.google.com/notebooks/data_table.ipynb>data table notebook</a>'\n",
              "            + ' to learn more about interactive tables.';\n",
              "          element.innerHTML = '';\n",
              "          dataTable['output_type'] = 'display_data';\n",
              "          await google.colab.output.renderOutput(dataTable, element);\n",
              "          const docLink = document.createElement('div');\n",
              "          docLink.innerHTML = docLinkHtml;\n",
              "          element.appendChild(docLink);\n",
              "        }\n",
              "      </script>\n",
              "    </div>\n",
              "  </div>\n",
              "  "
            ]
          },
          "metadata": {},
          "execution_count": 253
        }
      ]
    },
    {
      "cell_type": "code",
      "source": [
        "xx= xx.to_numpy()"
      ],
      "metadata": {
        "id": "AvDALKD260RK"
      },
      "id": "AvDALKD260RK",
      "execution_count": null,
      "outputs": []
    },
    {
      "cell_type": "code",
      "source": [
        "# scatter plot of examples by class label\n",
        "for label, _ in counter.items():\n",
        "    row_ix = np.where(y == label)[0]\n",
        "    pyplot.scatter(xx[row_ix, 0], xx[row_ix, 1], label=str(label))\n",
        "pyplot.legend()\n",
        "pyplot.show()"
      ],
      "metadata": {
        "colab": {
          "base_uri": "https://localhost:8080/",
          "height": 265
        },
        "id": "vUzwBvlm60PL",
        "outputId": "d211c76d-cf3c-4c8f-f8f5-1cdb1512a8f8"
      },
      "id": "vUzwBvlm60PL",
      "execution_count": null,
      "outputs": [
        {
          "output_type": "display_data",
          "data": {
            "text/plain": [
              "<Figure size 432x288 with 1 Axes>"
            ],
            "image/png": "[encoded data removed]"
          },
          "metadata": {
            "needs_background": "light"
          }
        }
      ]
    },
    {
      "cell_type": "code",
      "source": [
        "oversample = SMOTE()\n",
        "xn, yn= oversample.fit_resample(x, y)"
      ],
      "metadata": {
        "id": "hg_yctJf60NZ"
      },
      "id": "hg_yctJf60NZ",
      "execution_count": null,
      "outputs": []
    },
    {
      "cell_type": "code",
      "source": [
        "pca_num_components = 2\n",
        "\n",
        "reduced_data = PCA(n_components=pca_num_components).fit_transform(xn)\n",
        "xd= pd.DataFrame(reduced_data,columns=['pca1','pca2'])"
      ],
      "metadata": {
        "id": "lcLB19l460LR"
      },
      "id": "lcLB19l460LR",
      "execution_count": null,
      "outputs": []
    },
    {
      "cell_type": "code",
      "source": [
        "xy=(xd-xd.min())/(xd.max()-xd.min())"
      ],
      "metadata": {
        "id": "Mn-SSNZ_60JO"
      },
      "id": "Mn-SSNZ_60JO",
      "execution_count": null,
      "outputs": []
    },
    {
      "cell_type": "code",
      "source": [
        "xy= xy.to_numpy()"
      ],
      "metadata": {
        "id": "jphEeYJG60Ey"
      },
      "id": "jphEeYJG60Ey",
      "execution_count": null,
      "outputs": []
    },
    {
      "cell_type": "code",
      "source": [
        "m2_acc=(acc10+acc11+acc12)/3"
      ],
      "metadata": {
        "id": "ZST5tBqh60Bv"
      },
      "id": "ZST5tBqh60Bv",
      "execution_count": null,
      "outputs": []
    },
    {
      "cell_type": "code",
      "source": [
        "m1_acc=(acc0+acc1+acc2)/3"
      ],
      "metadata": {
        "id": "T2YVBEVK6z62"
      },
      "id": "T2YVBEVK6z62",
      "execution_count": null,
      "outputs": []
    },
    {
      "cell_type": "code",
      "source": [
        "m1_acc\n",
        "m2_acc"
      ],
      "metadata": {
        "colab": {
          "base_uri": "https://localhost:8080/"
        },
        "id": "KjGrkfGD7IQa",
        "outputId": "dec070c1-59bc-427e-d605-76414e0e4c2b"
      },
      "id": "KjGrkfGD7IQa",
      "execution_count": null,
      "outputs": [
        {
          "output_type": "execute_result",
          "data": {
            "text/plain": [
              "0.6938777557982857"
            ]
          },
          "metadata": {},
          "execution_count": 262
        }
      ]
    },
    {
      "cell_type": "code",
      "source": [
        "y = number.fit_transform(y)\n"
      ],
      "metadata": {
        "id": "xyj1Vkb07IN4"
      },
      "id": "xyj1Vkb07IN4",
      "execution_count": null,
      "outputs": []
    },
    {
      "cell_type": "markdown",
      "source": [
        "Using Deep leaning model to predict and find accuracy"
      ],
      "metadata": {
        "id": "xD6hpHwP8HOL"
      },
      "id": "xD6hpHwP8HOL"
    },
    {
      "cell_type": "code",
      "source": [],
      "metadata": {
        "id": "AnntTrn98E-U"
      },
      "id": "AnntTrn98E-U",
      "execution_count": null,
      "outputs": []
    },
    {
      "cell_type": "code",
      "source": [
        "from sklearn.neural_network import MLPClassifier"
      ],
      "metadata": {
        "id": "z5UEEltj7ILo"
      },
      "id": "z5UEEltj7ILo",
      "execution_count": null,
      "outputs": []
    },
    {
      "cell_type": "code",
      "source": [
        "X_train, X_test, y_train, y_test = train_test_split(x, y, test_size=0.33, random_state=42)"
      ],
      "metadata": {
        "id": "_NmFQCm87II-"
      },
      "id": "_NmFQCm87II-",
      "execution_count": null,
      "outputs": []
    },
    {
      "cell_type": "code",
      "source": [
        "clf = MLPClassifier(solver='lbfgs', alpha=1e-5,hidden_layer_sizes=(1, 1), random_state=10)\n",
        "clf=clf.fit(X_train,y_train)"
      ],
      "metadata": {
        "id": "GhnZGSMZ7IGH"
      },
      "id": "GhnZGSMZ7IGH",
      "execution_count": null,
      "outputs": []
    },
    {
      "cell_type": "code",
      "source": [
        "y_test"
      ],
      "metadata": {
        "colab": {
          "base_uri": "https://localhost:8080/"
        },
        "id": "9zdZ777h8c3R",
        "outputId": "3a4cc556-0c26-4252-e50f-241722ea3661"
      },
      "id": "9zdZ777h8c3R",
      "execution_count": null,
      "outputs": [
        {
          "output_type": "execute_result",
          "data": {
            "text/plain": [
              "array([0, 1, 0, 1, 1, 1, 1, 1, 0, 0, 1, 0, 1, 1, 0, 1, 0, 0, 1, 1, 1, 0,\n",
              "       0, 1, 1, 1, 0, 1, 1, 1, 0, 1, 1, 0, 0, 1, 1, 0, 1, 0, 1, 0, 0, 1,\n",
              "       1, 0, 1, 1, 1, 0, 1, 0, 1, 0, 0, 0, 1, 1, 1, 0, 1, 0, 1, 1, 1, 1,\n",
              "       1, 0, 0, 1, 1, 1, 1, 0, 0, 0, 0, 1, 1, 1, 1, 1, 0, 1, 1, 0, 0, 1,\n",
              "       1, 0, 1, 0, 0, 1, 0, 0, 1, 0, 1, 1, 1, 1, 0, 1, 1, 1, 0, 1, 1, 0,\n",
              "       1, 1, 1, 0, 0, 0, 1, 0, 0, 1, 1, 1, 1, 1, 1, 1, 1, 0, 1, 1, 1, 1,\n",
              "       1, 0, 0, 1, 0, 1, 1, 1, 0, 1, 0, 1, 1, 0, 1, 1, 0, 0, 0, 1, 0, 0,\n",
              "       1, 0, 1, 1, 0, 0, 1, 0, 1, 0, 1, 1, 1, 1, 0, 1, 1, 1, 1, 1, 1, 1,\n",
              "       1, 1, 0, 1, 1, 1, 0, 1, 1, 1, 1, 1, 1, 1, 1, 0, 1, 0, 1, 1, 1, 1,\n",
              "       1, 1, 1, 1, 1, 0, 1, 0, 0, 0, 1, 0, 1, 1, 0, 0, 0, 0, 1, 0, 1, 1,\n",
              "       0, 1, 1, 1, 1, 1, 0, 1, 0, 1, 0, 0, 0, 1, 0, 0, 0, 0, 1, 1, 0, 1,\n",
              "       0, 1, 1, 0, 1, 1, 1, 1, 1, 0, 1, 1, 1, 1, 1, 1, 1, 0, 1, 1, 1, 1,\n",
              "       1, 0, 1, 1, 1, 1, 1, 0, 1, 1, 1, 1, 1, 1, 1, 0, 0, 1, 1, 1, 0, 1,\n",
              "       0, 1, 1, 1, 1, 1, 1, 1, 1, 1, 1, 1, 1, 0, 0, 1, 1, 1, 1, 1, 1, 0,\n",
              "       0, 1, 0, 0, 1, 1, 0, 0, 0, 1, 1, 1, 1, 1, 0, 1, 1, 0, 0, 0, 1, 0,\n",
              "       0, 1, 1, 0, 1, 1, 0, 0, 1, 0, 1, 0, 0, 0, 1, 0, 1, 1, 0, 0, 1, 0,\n",
              "       1, 1, 1, 1, 0, 1, 1, 1, 1, 0, 0, 1, 0, 0, 0, 0, 0, 1, 1, 1, 1, 0,\n",
              "       1, 1, 0, 1, 1, 1, 1, 1, 1, 1, 1, 1, 1, 0, 1, 1, 1, 1, 1, 1, 0, 1,\n",
              "       0, 1, 1, 1, 1, 0, 1, 0, 1, 1, 0, 1, 1, 0, 0, 1, 0, 0, 1, 1, 1, 0,\n",
              "       1, 1, 1, 1, 1, 1, 1, 1, 0, 1, 0, 1, 0, 0, 0, 1, 1, 1, 1, 1, 0, 1,\n",
              "       0, 0, 0, 0, 1, 0, 0, 1, 1, 1, 1, 1, 1, 1, 1, 0, 0, 1, 1, 0, 1, 1,\n",
              "       1, 1, 1, 1, 1, 1, 1, 1, 1, 0, 1, 0, 1, 0, 0, 1, 1, 0, 1, 1, 1, 0,\n",
              "       1, 1, 0, 1, 0, 1, 1, 1, 0, 1, 1, 1, 0, 1, 1, 0, 1, 0, 0, 1, 1, 1,\n",
              "       1, 1, 1, 1, 0, 1, 1, 1, 1, 1, 1, 0, 1, 0, 1, 1, 0, 1, 1, 1, 1, 1,\n",
              "       1, 1, 1, 0, 0, 1, 1, 0, 1, 1, 1, 1, 1, 1, 0, 0, 0, 1, 0, 0, 1, 0,\n",
              "       1, 0, 1, 1, 0, 1, 0, 1, 1, 1, 1, 1, 0, 1, 1, 0, 1, 1, 1, 0, 0, 1,\n",
              "       1, 0, 0, 1, 0, 0, 0, 1, 0, 1, 1, 1, 0, 1, 1, 1, 1, 0, 1, 1, 1, 0,\n",
              "       0, 1, 1, 1, 0, 1, 1, 1, 0, 0, 1, 1, 1, 1, 1, 1, 1, 0, 1, 1, 1, 0,\n",
              "       1, 1, 1, 1, 0, 0, 1, 0, 1, 1, 0, 1, 1, 1, 0, 1, 0, 1, 0, 0, 1, 1,\n",
              "       1, 0, 0, 0, 0, 0, 0, 0, 1, 1, 0, 1, 1, 1, 1, 0, 1, 1, 1, 0, 1, 1,\n",
              "       1, 1, 0, 1, 1, 1, 1, 0, 1, 1, 1, 1, 1, 1, 1, 1, 0, 1, 0, 1, 0, 0,\n",
              "       1, 0, 0, 1, 1, 1, 1, 1, 1, 1, 0, 1, 1, 1, 1, 1, 1, 0, 1, 1, 1, 1,\n",
              "       0, 1, 1, 0, 0, 1, 1, 1, 0, 1, 1, 0, 0, 1, 1, 0, 1, 1, 1, 0, 1, 1,\n",
              "       0, 0, 1, 0, 1, 0, 0, 0, 0, 1, 1, 1, 0, 1, 0, 1, 1, 0, 1, 1, 0, 1,\n",
              "       1, 0, 1, 1, 0, 1, 0, 0, 1, 1, 1, 1, 1, 1, 0, 0, 1, 0, 1, 1, 1, 0,\n",
              "       0, 1, 1, 1, 1, 1, 0, 1, 1, 1, 1, 1, 1, 0, 1, 1, 1, 1, 1, 1, 0, 0,\n",
              "       0, 1, 0, 0, 1, 1, 1, 0, 1, 1, 0, 1, 1, 0, 0, 0, 1, 0, 1, 1, 0, 1,\n",
              "       0, 1, 0, 1, 1, 1, 1, 0, 1, 0, 1, 1, 1, 0, 1, 1, 0, 1, 0, 1, 1, 1,\n",
              "       0, 1, 0, 1, 1, 1, 0, 0, 0, 1, 0, 1, 0, 1, 0, 0, 1, 1, 0, 0, 1, 1,\n",
              "       0, 1, 1, 1, 1, 0, 0, 1, 1, 1, 0, 1, 1, 1, 0, 1, 0, 0, 0, 1, 1, 1,\n",
              "       1, 1, 1, 1, 1, 1, 1, 1, 1, 0, 1, 0, 0, 1, 1, 0, 1, 1, 0, 1, 0, 1,\n",
              "       1, 1, 1, 0, 1, 0, 1, 0, 1, 1, 1, 0, 1, 0, 1, 1, 1, 1, 1, 1, 1, 1,\n",
              "       1, 1, 0, 0, 1, 1, 1, 1, 1, 1, 1, 0, 0, 1, 0, 1, 1, 1, 1, 1, 1, 1,\n",
              "       1, 0, 1, 1, 1, 1, 1, 0, 0, 1, 1, 1, 1, 1, 1, 0, 0, 0, 1, 1, 0, 1,\n",
              "       1, 1, 0, 1, 0, 1, 1, 0, 0, 1, 0, 1, 1, 1, 1, 1, 0, 0, 1, 0, 1, 0])"
            ]
          },
          "metadata": {},
          "execution_count": 267
        }
      ]
    },
    {
      "cell_type": "code",
      "source": [
        "y_pred_mlp=clf.predict(X_test)"
      ],
      "metadata": {
        "id": "Ge33bJ828c1B"
      },
      "id": "Ge33bJ828c1B",
      "execution_count": null,
      "outputs": []
    },
    {
      "cell_type": "code",
      "source": [
        "y_pred_mlp"
      ],
      "metadata": {
        "colab": {
          "base_uri": "https://localhost:8080/"
        },
        "id": "-6dzbDry8cyy",
        "outputId": "f7e69f8d-d6d7-4306-b4ba-0e46c5342ade"
      },
      "id": "-6dzbDry8cyy",
      "execution_count": null,
      "outputs": [
        {
          "output_type": "execute_result",
          "data": {
            "text/plain": [
              "array([1, 1, 1, 1, 1, 1, 1, 1, 1, 1, 1, 1, 1, 1, 1, 1, 1, 1, 1, 1, 1, 1,\n",
              "       1, 1, 1, 1, 1, 1, 1, 1, 1, 1, 1, 1, 1, 1, 1, 1, 1, 1, 1, 1, 1, 1,\n",
              "       1, 1, 1, 1, 1, 1, 1, 1, 1, 1, 1, 1, 1, 1, 1, 1, 1, 1, 1, 1, 1, 1,\n",
              "       1, 1, 1, 1, 1, 1, 1, 1, 1, 1, 1, 1, 1, 1, 1, 1, 1, 1, 1, 1, 1, 1,\n",
              "       1, 1, 1, 1, 1, 1, 1, 1, 1, 1, 1, 1, 1, 1, 1, 1, 1, 1, 1, 1, 1, 1,\n",
              "       1, 1, 1, 1, 1, 1, 1, 1, 1, 1, 1, 1, 1, 1, 1, 1, 1, 1, 1, 1, 1, 1,\n",
              "       1, 1, 1, 1, 1, 1, 1, 1, 1, 1, 1, 1, 1, 1, 1, 1, 1, 1, 1, 1, 1, 1,\n",
              "       1, 1, 1, 1, 1, 1, 1, 1, 1, 1, 1, 1, 1, 1, 1, 1, 1, 1, 1, 1, 1, 1,\n",
              "       1, 1, 1, 1, 1, 1, 1, 1, 1, 1, 1, 1, 1, 1, 1, 1, 1, 1, 1, 1, 1, 1,\n",
              "       1, 1, 1, 1, 1, 1, 1, 1, 1, 1, 1, 1, 1, 1, 1, 1, 1, 1, 1, 1, 1, 1,\n",
              "       1, 1, 1, 1, 1, 1, 1, 1, 1, 1, 1, 1, 1, 1, 1, 1, 1, 1, 1, 1, 1, 1,\n",
              "       1, 1, 1, 1, 1, 1, 1, 1, 1, 1, 1, 1, 1, 1, 1, 1, 1, 1, 1, 1, 1, 1,\n",
              "       1, 1, 1, 1, 1, 1, 1, 1, 1, 1, 1, 1, 1, 1, 1, 1, 1, 1, 1, 1, 1, 1,\n",
              "       1, 1, 1, 1, 1, 1, 1, 1, 1, 1, 1, 1, 1, 1, 1, 1, 1, 1, 1, 1, 1, 1,\n",
              "       1, 1, 1, 1, 1, 1, 1, 1, 1, 1, 1, 1, 1, 1, 1, 1, 1, 1, 1, 1, 1, 1,\n",
              "       1, 1, 1, 1, 1, 1, 1, 1, 1, 1, 1, 1, 1, 1, 1, 1, 1, 1, 1, 1, 1, 1,\n",
              "       1, 1, 1, 1, 1, 1, 1, 1, 1, 1, 1, 1, 1, 1, 1, 1, 1, 1, 1, 1, 1, 1,\n",
              "       1, 1, 1, 1, 1, 1, 1, 1, 1, 1, 1, 1, 1, 1, 1, 1, 1, 1, 1, 1, 1, 1,\n",
              "       1, 1, 1, 1, 1, 1, 1, 1, 1, 1, 1, 1, 1, 1, 1, 1, 1, 1, 1, 1, 1, 1,\n",
              "       1, 1, 1, 1, 1, 1, 1, 1, 1, 1, 1, 1, 1, 1, 1, 1, 1, 1, 1, 1, 1, 1,\n",
              "       1, 1, 1, 1, 1, 1, 1, 1, 1, 1, 1, 1, 1, 1, 1, 1, 1, 1, 1, 1, 1, 1,\n",
              "       1, 1, 1, 1, 1, 1, 1, 1, 1, 1, 1, 1, 1, 1, 1, 1, 1, 1, 1, 1, 1, 1,\n",
              "       1, 1, 1, 1, 1, 1, 1, 1, 1, 1, 1, 1, 1, 1, 1, 1, 1, 1, 1, 1, 1, 1,\n",
              "       1, 1, 1, 1, 1, 1, 1, 1, 1, 1, 1, 1, 1, 1, 1, 1, 1, 1, 1, 1, 1, 1,\n",
              "       1, 1, 1, 1, 1, 1, 1, 1, 1, 1, 1, 1, 1, 1, 1, 1, 1, 1, 1, 1, 1, 1,\n",
              "       1, 1, 1, 1, 1, 1, 1, 1, 1, 1, 1, 1, 1, 1, 1, 1, 1, 1, 1, 1, 1, 1,\n",
              "       1, 1, 1, 1, 1, 1, 1, 1, 1, 1, 1, 1, 1, 1, 1, 1, 1, 1, 1, 1, 1, 1,\n",
              "       1, 1, 1, 1, 1, 1, 1, 1, 1, 1, 1, 1, 1, 1, 1, 1, 1, 1, 1, 1, 1, 1,\n",
              "       1, 1, 1, 1, 1, 1, 1, 1, 1, 1, 1, 1, 1, 1, 1, 1, 1, 1, 1, 1, 1, 1,\n",
              "       1, 1, 1, 1, 1, 1, 1, 1, 1, 1, 1, 1, 1, 1, 1, 1, 1, 1, 1, 1, 1, 1,\n",
              "       1, 1, 1, 1, 1, 1, 1, 1, 1, 1, 1, 1, 1, 1, 1, 1, 1, 1, 1, 1, 1, 1,\n",
              "       1, 1, 1, 1, 1, 1, 1, 1, 1, 1, 1, 1, 1, 1, 1, 1, 1, 1, 1, 1, 1, 1,\n",
              "       1, 1, 1, 1, 1, 1, 1, 1, 1, 1, 1, 1, 1, 1, 1, 1, 1, 1, 1, 1, 1, 1,\n",
              "       1, 1, 1, 1, 1, 1, 1, 1, 1, 1, 1, 1, 1, 1, 1, 1, 1, 1, 1, 1, 1, 1,\n",
              "       1, 1, 1, 1, 1, 1, 1, 1, 1, 1, 1, 1, 1, 1, 1, 1, 1, 1, 1, 1, 1, 1,\n",
              "       1, 1, 1, 1, 1, 1, 1, 1, 1, 1, 1, 1, 1, 1, 1, 1, 1, 1, 1, 1, 1, 1,\n",
              "       1, 1, 1, 1, 1, 1, 1, 1, 1, 1, 1, 1, 1, 1, 1, 1, 1, 1, 1, 1, 1, 1,\n",
              "       1, 1, 1, 1, 1, 1, 1, 1, 1, 1, 1, 1, 1, 1, 1, 1, 1, 1, 1, 1, 1, 1,\n",
              "       1, 1, 1, 1, 1, 1, 1, 1, 1, 1, 1, 1, 1, 1, 1, 1, 1, 1, 1, 1, 1, 1,\n",
              "       1, 1, 1, 1, 1, 1, 1, 1, 1, 1, 1, 1, 1, 1, 1, 1, 1, 1, 1, 1, 1, 1,\n",
              "       1, 1, 1, 1, 1, 1, 1, 1, 1, 1, 1, 1, 1, 1, 1, 1, 1, 1, 1, 1, 1, 1,\n",
              "       1, 1, 1, 1, 1, 1, 1, 1, 1, 1, 1, 1, 1, 1, 1, 1, 1, 1, 1, 1, 1, 1,\n",
              "       1, 1, 1, 1, 1, 1, 1, 1, 1, 1, 1, 1, 1, 1, 1, 1, 1, 1, 1, 1, 1, 1,\n",
              "       1, 1, 1, 1, 1, 1, 1, 1, 1, 1, 1, 1, 1, 1, 1, 1, 1, 1, 1, 1, 1, 1,\n",
              "       1, 1, 1, 1, 1, 1, 1, 1, 1, 1, 1, 1, 1, 1, 1, 1, 1, 1, 1, 1, 1, 1])"
            ]
          },
          "metadata": {},
          "execution_count": 269
        }
      ]
    },
    {
      "cell_type": "code",
      "source": [
        "acc_mlp=accuracy_score(y_pred_mlp,y_test)\n",
        "acc_mlp"
      ],
      "metadata": {
        "colab": {
          "base_uri": "https://localhost:8080/"
        },
        "id": "ElIsr8l_8cwW",
        "outputId": "ecefb720-1af8-4521-8208-fd1f936a7d22"
      },
      "id": "ElIsr8l_8cwW",
      "execution_count": null,
      "outputs": [
        {
          "output_type": "execute_result",
          "data": {
            "text/plain": [
              "0.6565656565656566"
            ]
          },
          "metadata": {},
          "execution_count": 270
        }
      ]
    },
    {
      "cell_type": "markdown",
      "source": [
        "# Finding the accuracy of Service data and predicting whether the customer pays on time or not"
      ],
      "metadata": {
        "id": "fo1h0eQb_Ubr"
      },
      "id": "fo1h0eQb_Ubr"
    },
    {
      "cell_type": "code",
      "source": [
        "dp=pd.read_csv(\"/content/drive/MyDrive/project_x/clean1 SD - clean1 SD.csv\")"
      ],
      "metadata": {
        "id": "h6yOeOLs8ct7"
      },
      "id": "h6yOeOLs8ct7",
      "execution_count": null,
      "outputs": []
    },
    {
      "cell_type": "code",
      "source": [
        "dp"
      ],
      "metadata": {
        "colab": {
          "base_uri": "https://localhost:8080/",
          "height": 641
        },
        "id": "00GF27ka8crr",
        "outputId": "d004ccab-d7e8-42d4-b738-ffa90fe4d3f8"
      },
      "id": "00GF27ka8crr",
      "execution_count": null,
      "outputs": [
        {
          "output_type": "execute_result",
          "data": {
            "text/plain": [
              "        Teamresolution_Status         Resolution_Comment1  \\\n",
              "0      Processed Successfully  Request has been processed   \n",
              "1      Processed Successfully  Request has been processed   \n",
              "2      Processed Successfully  Request has been processed   \n",
              "3      Processed Successfully  Request has been processed   \n",
              "4      Processed Successfully  Request has been processed   \n",
              "...                       ...                         ...   \n",
              "17746  Processed Successfully  Request has been processed   \n",
              "17747  Processed Successfully  Request has been processed   \n",
              "17748  Processed Successfully  Request has been processed   \n",
              "17749  Processed Successfully  Request has been processed   \n",
              "17750  Processed Successfully  Request has been processed   \n",
              "\n",
              "                    Call_Type Category     process_group  \\\n",
              "0      Pending Policy changes  Request      Pre issuance   \n",
              "1      Pending Policy changes  Request      Pre issuance   \n",
              "2              Refund related  Request     Post issuance   \n",
              "3      Pending Policy changes  Request      Pre issuance   \n",
              "4              Refund related  Request     Post issuance   \n",
              "...                       ...      ...               ...   \n",
              "17746          Profile update  Request     Non Financial   \n",
              "17747          Profile update  Request     Non Financial   \n",
              "17748  Policy related changes  Request  Policy Servicing   \n",
              "17749  Policy related changes  Request  Policy Servicing   \n",
              "17750          Profile update  Request     Non Financial   \n",
              "\n",
              "                                            RCA Comments  FTR  \\\n",
              "0               mobile no. updated as per client request   No   \n",
              "1      wrong requirement raised shortage has been can...   No   \n",
              "2      Amount moved to client id, Refund released aft...   No   \n",
              "3      CORRECTLY UPDATED ANNUAL INCOME AS PER CLIENT ...   No   \n",
              "4      Amount moved to client id, Refund released aft...   No   \n",
              "...                                                  ...  ...   \n",
              "17746  Client Name Change Date:  30-05-2022  Last Upd...  Yes   \n",
              "17747  Client Name Change Date:  30-05-2022  Last Upd...  Yes   \n",
              "17748  01  001  8816775256  BASAVVA ASHOK BARAGALI  O...   No   \n",
              "17749  01  001  1844933364  PRANTIK GHOSH  Ordinary  ...   No   \n",
              "17750  Bank Name:  ICICI BANK LIMITED  \\nBranch:  BUR...   No   \n",
              "\n",
              "                                     sub_type Status_Reason  \\\n",
              "0                  Changes in Profile Details      Resolved   \n",
              "1      Rectification  in Policy level Details      Resolved   \n",
              "2                                 Hold refund      Resolved   \n",
              "3                  Changes in Profile Details      Resolved   \n",
              "4                                 Hold refund      Resolved   \n",
              "...                                       ...           ...   \n",
              "17746                             Name change      Resolved   \n",
              "17747                         Name correction      Resolved   \n",
              "17748                          Nominee change      Resolved   \n",
              "17749                          Nominee change      Resolved   \n",
              "17750                    Bank Details capture      Resolved   \n",
              "\n",
              "      Teamresolution_Status.1  \n",
              "0      Processed Successfully  \n",
              "1      Processed Successfully  \n",
              "2      Processed Successfully  \n",
              "3      Processed Successfully  \n",
              "4      Processed Successfully  \n",
              "...                       ...  \n",
              "17746  Processed Successfully  \n",
              "17747  Processed Successfully  \n",
              "17748  Processed Successfully  \n",
              "17749  Processed Successfully  \n",
              "17750  Processed Successfully  \n",
              "\n",
              "[17751 rows x 10 columns]"
            ],
            "text/html": [
              "\n",
              "  <div id=\"df-9037936d-5ac3-4bb0-95c0-fec9ad99181b\">\n",
              "    <div class=\"colab-df-container\">\n",
              "      <div>\n",
              "<style scoped>\n",
              "    .dataframe tbody tr th:only-of-type {\n",
              "        vertical-align: middle;\n",
              "    }\n",
              "\n",
              "    .dataframe tbody tr th {\n",
              "        vertical-align: top;\n",
              "    }\n",
              "\n",
              "    .dataframe thead th {\n",
              "        text-align: right;\n",
              "    }\n",
              "</style>\n",
              "<table border=\"1\" class=\"dataframe\">\n",
              "  <thead>\n",
              "    <tr style=\"text-align: right;\">\n",
              "      <th></th>\n",
              "      <th>Teamresolution_Status</th>\n",
              "      <th>Resolution_Comment1</th>\n",
              "      <th>Call_Type</th>\n",
              "      <th>Category</th>\n",
              "      <th>process_group</th>\n",
              "      <th>RCA Comments</th>\n",
              "      <th>FTR</th>\n",
              "      <th>sub_type</th>\n",
              "      <th>Status_Reason</th>\n",
              "      <th>Teamresolution_Status.1</th>\n",
              "    </tr>\n",
              "  </thead>\n",
              "  <tbody>\n",
              "    <tr>\n",
              "      <th>0</th>\n",
              "      <td>Processed Successfully</td>\n",
              "      <td>Request has been processed</td>\n",
              "      <td>Pending Policy changes</td>\n",
              "      <td>Request</td>\n",
              "      <td>Pre issuance</td>\n",
              "      <td>mobile no. updated as per client request</td>\n",
              "      <td>No</td>\n",
              "      <td>Changes in Profile Details</td>\n",
              "      <td>Resolved</td>\n",
              "      <td>Processed Successfully</td>\n",
              "    </tr>\n",
              "    <tr>\n",
              "      <th>1</th>\n",
              "      <td>Processed Successfully</td>\n",
              "      <td>Request has been processed</td>\n",
              "      <td>Pending Policy changes</td>\n",
              "      <td>Request</td>\n",
              "      <td>Pre issuance</td>\n",
              "      <td>wrong requirement raised shortage has been can...</td>\n",
              "      <td>No</td>\n",
              "      <td>Rectification  in Policy level Details</td>\n",
              "      <td>Resolved</td>\n",
              "      <td>Processed Successfully</td>\n",
              "    </tr>\n",
              "    <tr>\n",
              "      <th>2</th>\n",
              "      <td>Processed Successfully</td>\n",
              "      <td>Request has been processed</td>\n",
              "      <td>Refund related</td>\n",
              "      <td>Request</td>\n",
              "      <td>Post issuance</td>\n",
              "      <td>Amount moved to client id, Refund released aft...</td>\n",
              "      <td>No</td>\n",
              "      <td>Hold refund</td>\n",
              "      <td>Resolved</td>\n",
              "      <td>Processed Successfully</td>\n",
              "    </tr>\n",
              "    <tr>\n",
              "      <th>3</th>\n",
              "      <td>Processed Successfully</td>\n",
              "      <td>Request has been processed</td>\n",
              "      <td>Pending Policy changes</td>\n",
              "      <td>Request</td>\n",
              "      <td>Pre issuance</td>\n",
              "      <td>CORRECTLY UPDATED ANNUAL INCOME AS PER CLIENT ...</td>\n",
              "      <td>No</td>\n",
              "      <td>Changes in Profile Details</td>\n",
              "      <td>Resolved</td>\n",
              "      <td>Processed Successfully</td>\n",
              "    </tr>\n",
              "    <tr>\n",
              "      <th>4</th>\n",
              "      <td>Processed Successfully</td>\n",
              "      <td>Request has been processed</td>\n",
              "      <td>Refund related</td>\n",
              "      <td>Request</td>\n",
              "      <td>Post issuance</td>\n",
              "      <td>Amount moved to client id, Refund released aft...</td>\n",
              "      <td>No</td>\n",
              "      <td>Hold refund</td>\n",
              "      <td>Resolved</td>\n",
              "      <td>Processed Successfully</td>\n",
              "    </tr>\n",
              "    <tr>\n",
              "      <th>...</th>\n",
              "      <td>...</td>\n",
              "      <td>...</td>\n",
              "      <td>...</td>\n",
              "      <td>...</td>\n",
              "      <td>...</td>\n",
              "      <td>...</td>\n",
              "      <td>...</td>\n",
              "      <td>...</td>\n",
              "      <td>...</td>\n",
              "      <td>...</td>\n",
              "    </tr>\n",
              "    <tr>\n",
              "      <th>17746</th>\n",
              "      <td>Processed Successfully</td>\n",
              "      <td>Request has been processed</td>\n",
              "      <td>Profile update</td>\n",
              "      <td>Request</td>\n",
              "      <td>Non Financial</td>\n",
              "      <td>Client Name Change Date:  30-05-2022  Last Upd...</td>\n",
              "      <td>Yes</td>\n",
              "      <td>Name change</td>\n",
              "      <td>Resolved</td>\n",
              "      <td>Processed Successfully</td>\n",
              "    </tr>\n",
              "    <tr>\n",
              "      <th>17747</th>\n",
              "      <td>Processed Successfully</td>\n",
              "      <td>Request has been processed</td>\n",
              "      <td>Profile update</td>\n",
              "      <td>Request</td>\n",
              "      <td>Non Financial</td>\n",
              "      <td>Client Name Change Date:  30-05-2022  Last Upd...</td>\n",
              "      <td>Yes</td>\n",
              "      <td>Name correction</td>\n",
              "      <td>Resolved</td>\n",
              "      <td>Processed Successfully</td>\n",
              "    </tr>\n",
              "    <tr>\n",
              "      <th>17748</th>\n",
              "      <td>Processed Successfully</td>\n",
              "      <td>Request has been processed</td>\n",
              "      <td>Policy related changes</td>\n",
              "      <td>Request</td>\n",
              "      <td>Policy Servicing</td>\n",
              "      <td>01  001  8816775256  BASAVVA ASHOK BARAGALI  O...</td>\n",
              "      <td>No</td>\n",
              "      <td>Nominee change</td>\n",
              "      <td>Resolved</td>\n",
              "      <td>Processed Successfully</td>\n",
              "    </tr>\n",
              "    <tr>\n",
              "      <th>17749</th>\n",
              "      <td>Processed Successfully</td>\n",
              "      <td>Request has been processed</td>\n",
              "      <td>Policy related changes</td>\n",
              "      <td>Request</td>\n",
              "      <td>Policy Servicing</td>\n",
              "      <td>01  001  1844933364  PRANTIK GHOSH  Ordinary  ...</td>\n",
              "      <td>No</td>\n",
              "      <td>Nominee change</td>\n",
              "      <td>Resolved</td>\n",
              "      <td>Processed Successfully</td>\n",
              "    </tr>\n",
              "    <tr>\n",
              "      <th>17750</th>\n",
              "      <td>Processed Successfully</td>\n",
              "      <td>Request has been processed</td>\n",
              "      <td>Profile update</td>\n",
              "      <td>Request</td>\n",
              "      <td>Non Financial</td>\n",
              "      <td>Bank Name:  ICICI BANK LIMITED  \\nBranch:  BUR...</td>\n",
              "      <td>No</td>\n",
              "      <td>Bank Details capture</td>\n",
              "      <td>Resolved</td>\n",
              "      <td>Processed Successfully</td>\n",
              "    </tr>\n",
              "  </tbody>\n",
              "</table>\n",
              "<p>17751 rows × 10 columns</p>\n",
              "</div>\n",
              "      <button class=\"colab-df-convert\" onclick=\"convertToInteractive('df-9037936d-5ac3-4bb0-95c0-fec9ad99181b')\"\n",
              "              title=\"Convert this dataframe to an interactive table.\"\n",
              "              style=\"display:none;\">\n",
              "        \n",
              "  <svg xmlns=\"http://www.w3.org/2000/svg\" height=\"24px\"viewBox=\"0 0 24 24\"\n",
              "       width=\"24px\">\n",
              "    <path d=\"M0 0h24v24H0V0z\" fill=\"none\"/>\n",
              "    <path d=\"M18.56 5.44l.94 2.06.94-2.06 2.06-.94-2.06-.94-.94-2.06-.94 2.06-2.06.94zm-11 1L8.5 8.5l.94-2.06 2.06-.94-2.06-.94L8.5 2.5l-.94 2.06-2.06.94zm10 10l.94 2.06.94-2.06 2.06-.94-2.06-.94-.94-2.06-.94 2.06-2.06.94z\"/><path d=\"M17.41 7.96l-1.37-1.37c-.4-.4-.92-.59-1.43-.59-.52 0-1.04.2-1.43.59L10.3 9.45l-7.72 7.72c-.78.78-.78 2.05 0 2.83L4 21.41c.39.39.9.59 1.41.59.51 0 1.02-.2 1.41-.59l7.78-7.78 2.81-2.81c.8-.78.8-2.07 0-2.86zM5.41 20L4 18.59l7.72-7.72 1.47 1.35L5.41 20z\"/>\n",
              "  </svg>\n",
              "      </button>\n",
              "      \n",
              "  <style>\n",
              "    .colab-df-container {\n",
              "      display:flex;\n",
              "      flex-wrap:wrap;\n",
              "      gap: 12px;\n",
              "    }\n",
              "\n",
              "    .colab-df-convert {\n",
              "      background-color: #E8F0FE;\n",
              "      border: none;\n",
              "      border-radius: 50%;\n",
              "      cursor: pointer;\n",
              "      display: none;\n",
              "      fill: #1967D2;\n",
              "      height: 32px;\n",
              "      padding: 0 0 0 0;\n",
              "      width: 32px;\n",
              "    }\n",
              "\n",
              "    .colab-df-convert:hover {\n",
              "      background-color: #E2EBFA;\n",
              "      box-shadow: 0px 1px 2px rgba(60, 64, 67, 0.3), 0px 1px 3px 1px rgba(60, 64, 67, 0.15);\n",
              "      fill: #174EA6;\n",
              "    }\n",
              "\n",
              "    [theme=dark] .colab-df-convert {\n",
              "      background-color: #3B4455;\n",
              "      fill: #D2E3FC;\n",
              "    }\n",
              "\n",
              "    [theme=dark] .colab-df-convert:hover {\n",
              "      background-color: #434B5C;\n",
              "      box-shadow: 0px 1px 3px 1px rgba(0, 0, 0, 0.15);\n",
              "      filter: drop-shadow(0px 1px 2px rgba(0, 0, 0, 0.3));\n",
              "      fill: #FFFFFF;\n",
              "    }\n",
              "  </style>\n",
              "\n",
              "      <script>\n",
              "        const buttonEl =\n",
              "          document.querySelector('#df-9037936d-5ac3-4bb0-95c0-fec9ad99181b button.colab-df-convert');\n",
              "        buttonEl.style.display =\n",
              "          google.colab.kernel.accessAllowed ? 'block' : 'none';\n",
              "\n",
              "        async function convertToInteractive(key) {\n",
              "          const element = document.querySelector('#df-9037936d-5ac3-4bb0-95c0-fec9ad99181b');\n",
              "          const dataTable =\n",
              "            await google.colab.kernel.invokeFunction('convertToInteractive',\n",
              "                                                     [key], {});\n",
              "          if (!dataTable) return;\n",
              "\n",
              "          const docLinkHtml = 'Like what you see? Visit the ' +\n",
              "            '<a target=\"_blank\" href=https://colab.research.google.com/notebooks/data_table.ipynb>data table notebook</a>'\n",
              "            + ' to learn more about interactive tables.';\n",
              "          element.innerHTML = '';\n",
              "          dataTable['output_type'] = 'display_data';\n",
              "          await google.colab.output.renderOutput(dataTable, element);\n",
              "          const docLink = document.createElement('div');\n",
              "          docLink.innerHTML = docLinkHtml;\n",
              "          element.appendChild(docLink);\n",
              "        }\n",
              "      </script>\n",
              "    </div>\n",
              "  </div>\n",
              "  "
            ]
          },
          "metadata": {},
          "execution_count": 272
        }
      ]
    },
    {
      "cell_type": "code",
      "source": [
        "x= dp.filter([\"Teamresolution_Status\",\"Resolution_Comment1\",\"Category\",\"process_group\",\"FTR\",\"sub_type\"], axis=1)\n",
        "x"
      ],
      "metadata": {
        "colab": {
          "base_uri": "https://localhost:8080/",
          "height": 424
        },
        "id": "IGMMPDV-8cpO",
        "outputId": "13e88446-87f8-4f8f-ee3d-ff21782123a2"
      },
      "id": "IGMMPDV-8cpO",
      "execution_count": null,
      "outputs": [
        {
          "output_type": "execute_result",
          "data": {
            "text/plain": [
              "        Teamresolution_Status         Resolution_Comment1 Category  \\\n",
              "0      Processed Successfully  Request has been processed  Request   \n",
              "1      Processed Successfully  Request has been processed  Request   \n",
              "2      Processed Successfully  Request has been processed  Request   \n",
              "3      Processed Successfully  Request has been processed  Request   \n",
              "4      Processed Successfully  Request has been processed  Request   \n",
              "...                       ...                         ...      ...   \n",
              "17746  Processed Successfully  Request has been processed  Request   \n",
              "17747  Processed Successfully  Request has been processed  Request   \n",
              "17748  Processed Successfully  Request has been processed  Request   \n",
              "17749  Processed Successfully  Request has been processed  Request   \n",
              "17750  Processed Successfully  Request has been processed  Request   \n",
              "\n",
              "          process_group  FTR                                sub_type  \n",
              "0          Pre issuance   No              Changes in Profile Details  \n",
              "1          Pre issuance   No  Rectification  in Policy level Details  \n",
              "2         Post issuance   No                             Hold refund  \n",
              "3          Pre issuance   No              Changes in Profile Details  \n",
              "4         Post issuance   No                             Hold refund  \n",
              "...                 ...  ...                                     ...  \n",
              "17746     Non Financial  Yes                             Name change  \n",
              "17747     Non Financial  Yes                         Name correction  \n",
              "17748  Policy Servicing   No                          Nominee change  \n",
              "17749  Policy Servicing   No                          Nominee change  \n",
              "17750     Non Financial   No                    Bank Details capture  \n",
              "\n",
              "[17751 rows x 6 columns]"
            ],
            "text/html": [
              "\n",
              "  <div id=\"df-08e19482-23b5-4c91-866f-959797f0fb38\">\n",
              "    <div class=\"colab-df-container\">\n",
              "      <div>\n",
              "<style scoped>\n",
              "    .dataframe tbody tr th:only-of-type {\n",
              "        vertical-align: middle;\n",
              "    }\n",
              "\n",
              "    .dataframe tbody tr th {\n",
              "        vertical-align: top;\n",
              "    }\n",
              "\n",
              "    .dataframe thead th {\n",
              "        text-align: right;\n",
              "    }\n",
              "</style>\n",
              "<table border=\"1\" class=\"dataframe\">\n",
              "  <thead>\n",
              "    <tr style=\"text-align: right;\">\n",
              "      <th></th>\n",
              "      <th>Teamresolution_Status</th>\n",
              "      <th>Resolution_Comment1</th>\n",
              "      <th>Category</th>\n",
              "      <th>process_group</th>\n",
              "      <th>FTR</th>\n",
              "      <th>sub_type</th>\n",
              "    </tr>\n",
              "  </thead>\n",
              "  <tbody>\n",
              "    <tr>\n",
              "      <th>0</th>\n",
              "      <td>Processed Successfully</td>\n",
              "      <td>Request has been processed</td>\n",
              "      <td>Request</td>\n",
              "      <td>Pre issuance</td>\n",
              "      <td>No</td>\n",
              "      <td>Changes in Profile Details</td>\n",
              "    </tr>\n",
              "    <tr>\n",
              "      <th>1</th>\n",
              "      <td>Processed Successfully</td>\n",
              "      <td>Request has been processed</td>\n",
              "      <td>Request</td>\n",
              "      <td>Pre issuance</td>\n",
              "      <td>No</td>\n",
              "      <td>Rectification  in Policy level Details</td>\n",
              "    </tr>\n",
              "    <tr>\n",
              "      <th>2</th>\n",
              "      <td>Processed Successfully</td>\n",
              "      <td>Request has been processed</td>\n",
              "      <td>Request</td>\n",
              "      <td>Post issuance</td>\n",
              "      <td>No</td>\n",
              "      <td>Hold refund</td>\n",
              "    </tr>\n",
              "    <tr>\n",
              "      <th>3</th>\n",
              "      <td>Processed Successfully</td>\n",
              "      <td>Request has been processed</td>\n",
              "      <td>Request</td>\n",
              "      <td>Pre issuance</td>\n",
              "      <td>No</td>\n",
              "      <td>Changes in Profile Details</td>\n",
              "    </tr>\n",
              "    <tr>\n",
              "      <th>4</th>\n",
              "      <td>Processed Successfully</td>\n",
              "      <td>Request has been processed</td>\n",
              "      <td>Request</td>\n",
              "      <td>Post issuance</td>\n",
              "      <td>No</td>\n",
              "      <td>Hold refund</td>\n",
              "    </tr>\n",
              "    <tr>\n",
              "      <th>...</th>\n",
              "      <td>...</td>\n",
              "      <td>...</td>\n",
              "      <td>...</td>\n",
              "      <td>...</td>\n",
              "      <td>...</td>\n",
              "      <td>...</td>\n",
              "    </tr>\n",
              "    <tr>\n",
              "      <th>17746</th>\n",
              "      <td>Processed Successfully</td>\n",
              "      <td>Request has been processed</td>\n",
              "      <td>Request</td>\n",
              "      <td>Non Financial</td>\n",
              "      <td>Yes</td>\n",
              "      <td>Name change</td>\n",
              "    </tr>\n",
              "    <tr>\n",
              "      <th>17747</th>\n",
              "      <td>Processed Successfully</td>\n",
              "      <td>Request has been processed</td>\n",
              "      <td>Request</td>\n",
              "      <td>Non Financial</td>\n",
              "      <td>Yes</td>\n",
              "      <td>Name correction</td>\n",
              "    </tr>\n",
              "    <tr>\n",
              "      <th>17748</th>\n",
              "      <td>Processed Successfully</td>\n",
              "      <td>Request has been processed</td>\n",
              "      <td>Request</td>\n",
              "      <td>Policy Servicing</td>\n",
              "      <td>No</td>\n",
              "      <td>Nominee change</td>\n",
              "    </tr>\n",
              "    <tr>\n",
              "      <th>17749</th>\n",
              "      <td>Processed Successfully</td>\n",
              "      <td>Request has been processed</td>\n",
              "      <td>Request</td>\n",
              "      <td>Policy Servicing</td>\n",
              "      <td>No</td>\n",
              "      <td>Nominee change</td>\n",
              "    </tr>\n",
              "    <tr>\n",
              "      <th>17750</th>\n",
              "      <td>Processed Successfully</td>\n",
              "      <td>Request has been processed</td>\n",
              "      <td>Request</td>\n",
              "      <td>Non Financial</td>\n",
              "      <td>No</td>\n",
              "      <td>Bank Details capture</td>\n",
              "    </tr>\n",
              "  </tbody>\n",
              "</table>\n",
              "<p>17751 rows × 6 columns</p>\n",
              "</div>\n",
              "      <button class=\"colab-df-convert\" onclick=\"convertToInteractive('df-08e19482-23b5-4c91-866f-959797f0fb38')\"\n",
              "              title=\"Convert this dataframe to an interactive table.\"\n",
              "              style=\"display:none;\">\n",
              "        \n",
              "  <svg xmlns=\"http://www.w3.org/2000/svg\" height=\"24px\"viewBox=\"0 0 24 24\"\n",
              "       width=\"24px\">\n",
              "    <path d=\"M0 0h24v24H0V0z\" fill=\"none\"/>\n",
              "    <path d=\"M18.56 5.44l.94 2.06.94-2.06 2.06-.94-2.06-.94-.94-2.06-.94 2.06-2.06.94zm-11 1L8.5 8.5l.94-2.06 2.06-.94-2.06-.94L8.5 2.5l-.94 2.06-2.06.94zm10 10l.94 2.06.94-2.06 2.06-.94-2.06-.94-.94-2.06-.94 2.06-2.06.94z\"/><path d=\"M17.41 7.96l-1.37-1.37c-.4-.4-.92-.59-1.43-.59-.52 0-1.04.2-1.43.59L10.3 9.45l-7.72 7.72c-.78.78-.78 2.05 0 2.83L4 21.41c.39.39.9.59 1.41.59.51 0 1.02-.2 1.41-.59l7.78-7.78 2.81-2.81c.8-.78.8-2.07 0-2.86zM5.41 20L4 18.59l7.72-7.72 1.47 1.35L5.41 20z\"/>\n",
              "  </svg>\n",
              "      </button>\n",
              "      \n",
              "  <style>\n",
              "    .colab-df-container {\n",
              "      display:flex;\n",
              "      flex-wrap:wrap;\n",
              "      gap: 12px;\n",
              "    }\n",
              "\n",
              "    .colab-df-convert {\n",
              "      background-color: #E8F0FE;\n",
              "      border: none;\n",
              "      border-radius: 50%;\n",
              "      cursor: pointer;\n",
              "      display: none;\n",
              "      fill: #1967D2;\n",
              "      height: 32px;\n",
              "      padding: 0 0 0 0;\n",
              "      width: 32px;\n",
              "    }\n",
              "\n",
              "    .colab-df-convert:hover {\n",
              "      background-color: #E2EBFA;\n",
              "      box-shadow: 0px 1px 2px rgba(60, 64, 67, 0.3), 0px 1px 3px 1px rgba(60, 64, 67, 0.15);\n",
              "      fill: #174EA6;\n",
              "    }\n",
              "\n",
              "    [theme=dark] .colab-df-convert {\n",
              "      background-color: #3B4455;\n",
              "      fill: #D2E3FC;\n",
              "    }\n",
              "\n",
              "    [theme=dark] .colab-df-convert:hover {\n",
              "      background-color: #434B5C;\n",
              "      box-shadow: 0px 1px 3px 1px rgba(0, 0, 0, 0.15);\n",
              "      filter: drop-shadow(0px 1px 2px rgba(0, 0, 0, 0.3));\n",
              "      fill: #FFFFFF;\n",
              "    }\n",
              "  </style>\n",
              "\n",
              "      <script>\n",
              "        const buttonEl =\n",
              "          document.querySelector('#df-08e19482-23b5-4c91-866f-959797f0fb38 button.colab-df-convert');\n",
              "        buttonEl.style.display =\n",
              "          google.colab.kernel.accessAllowed ? 'block' : 'none';\n",
              "\n",
              "        async function convertToInteractive(key) {\n",
              "          const element = document.querySelector('#df-08e19482-23b5-4c91-866f-959797f0fb38');\n",
              "          const dataTable =\n",
              "            await google.colab.kernel.invokeFunction('convertToInteractive',\n",
              "                                                     [key], {});\n",
              "          if (!dataTable) return;\n",
              "\n",
              "          const docLinkHtml = 'Like what you see? Visit the ' +\n",
              "            '<a target=\"_blank\" href=https://colab.research.google.com/notebooks/data_table.ipynb>data table notebook</a>'\n",
              "            + ' to learn more about interactive tables.';\n",
              "          element.innerHTML = '';\n",
              "          dataTable['output_type'] = 'display_data';\n",
              "          await google.colab.output.renderOutput(dataTable, element);\n",
              "          const docLink = document.createElement('div');\n",
              "          docLink.innerHTML = docLinkHtml;\n",
              "          element.appendChild(docLink);\n",
              "        }\n",
              "      </script>\n",
              "    </div>\n",
              "  </div>\n",
              "  "
            ]
          },
          "metadata": {},
          "execution_count": 273
        }
      ]
    },
    {
      "cell_type": "code",
      "source": [
        "y=dp.Status_Reason"
      ],
      "metadata": {
        "id": "zq-mClsi8cmg"
      },
      "id": "zq-mClsi8cmg",
      "execution_count": null,
      "outputs": []
    },
    {
      "cell_type": "code",
      "source": [
        "y"
      ],
      "metadata": {
        "colab": {
          "base_uri": "https://localhost:8080/"
        },
        "id": "rYPY2mRe8ckd",
        "outputId": "5231b823-fd7a-4203-866d-3ae985dca688"
      },
      "id": "rYPY2mRe8ckd",
      "execution_count": null,
      "outputs": [
        {
          "output_type": "execute_result",
          "data": {
            "text/plain": [
              "0        Resolved\n",
              "1        Resolved\n",
              "2        Resolved\n",
              "3        Resolved\n",
              "4        Resolved\n",
              "           ...   \n",
              "17746    Resolved\n",
              "17747    Resolved\n",
              "17748    Resolved\n",
              "17749    Resolved\n",
              "17750    Resolved\n",
              "Name: Status_Reason, Length: 17751, dtype: object"
            ]
          },
          "metadata": {},
          "execution_count": 275
        }
      ]
    },
    {
      "cell_type": "code",
      "source": [
        "from sklearn import preprocessing\n",
        "number = preprocessing.LabelEncoder()\n",
        "x['Teamresolution_Status'] = number.fit_transform(x.Teamresolution_Status)\n",
        "x['Resolution_Comment1'] = number.fit_transform(x.Resolution_Comment1)\n",
        "x['Category'] = number.fit_transform(x.Category)\n",
        "x['process_group'] = number.fit_transform(x.process_group)\n",
        "x['FTR'] = number.fit_transform(x.FTR)\n",
        "x['sub_type'] = number.fit_transform(x.sub_type)"
      ],
      "metadata": {
        "id": "OBlxaSfJ8ch6"
      },
      "id": "OBlxaSfJ8ch6",
      "execution_count": null,
      "outputs": []
    },
    {
      "cell_type": "code",
      "source": [],
      "metadata": {
        "id": "PY61rRag8cfb"
      },
      "id": "PY61rRag8cfb",
      "execution_count": null,
      "outputs": []
    },
    {
      "cell_type": "code",
      "source": [
        "from sklearn.model_selection import train_test_split\n",
        "from sklearn.metrics import accuracy_score"
      ],
      "metadata": {
        "id": "kDGdOplwACi0"
      },
      "id": "kDGdOplwACi0",
      "execution_count": null,
      "outputs": []
    },
    {
      "cell_type": "code",
      "source": [
        "X_train, X_test, y_train, y_test = train_test_split(x, y, test_size=0.33, random_state=42)"
      ],
      "metadata": {
        "id": "PlZnK35QACfH"
      },
      "id": "PlZnK35QACfH",
      "execution_count": null,
      "outputs": []
    },
    {
      "cell_type": "markdown",
      "source": [
        "Using Decission tree"
      ],
      "metadata": {
        "id": "-PrtANzlAMtK"
      },
      "id": "-PrtANzlAMtK"
    },
    {
      "cell_type": "code",
      "source": [
        "from sklearn import tree\n",
        "clf = tree.DecisionTreeClassifier()"
      ],
      "metadata": {
        "id": "YaA5INDGACK_"
      },
      "id": "YaA5INDGACK_",
      "execution_count": null,
      "outputs": []
    },
    {
      "cell_type": "code",
      "source": [
        "clf = tree.DecisionTreeClassifier()\n",
        "dt = clf.fit(X_train, y_train)\n",
        "y_pred=dt.predict(X_test)\n",
        "acc=accuracy_score(y_test, y_pred)"
      ],
      "metadata": {
        "id": "CDBx8bTzACIz"
      },
      "id": "CDBx8bTzACIz",
      "execution_count": null,
      "outputs": []
    },
    {
      "cell_type": "code",
      "source": [
        "acc"
      ],
      "metadata": {
        "colab": {
          "base_uri": "https://localhost:8080/"
        },
        "id": "duxRMvzzACF-",
        "outputId": "46f4e6c6-5f88-4497-cd72-0333744a3497"
      },
      "id": "duxRMvzzACF-",
      "execution_count": null,
      "outputs": [
        {
          "output_type": "execute_result",
          "data": {
            "text/plain": [
              "0.998463639467395"
            ]
          },
          "metadata": {},
          "execution_count": 281
        }
      ]
    },
    {
      "cell_type": "markdown",
      "source": [
        "Confusion matrix for DT model"
      ],
      "metadata": {
        "id": "v_a3JIyAARhc"
      },
      "id": "v_a3JIyAARhc"
    },
    {
      "cell_type": "code",
      "source": [
        "from sklearn.metrics import confusion_matrix\n",
        "confusion_matrix(y_test, y_pred)"
      ],
      "metadata": {
        "colab": {
          "base_uri": "https://localhost:8080/"
        },
        "id": "dSPv-U_QACDx",
        "outputId": "5ba74398-a3d5-4c98-e0a7-d556e8714dc4"
      },
      "id": "dSPv-U_QACDx",
      "execution_count": null,
      "outputs": [
        {
          "output_type": "execute_result",
          "data": {
            "text/plain": [
              "array([[ 589,    4],\n",
              "       [   5, 5260]])"
            ]
          },
          "metadata": {},
          "execution_count": 282
        }
      ]
    },
    {
      "cell_type": "markdown",
      "source": [
        "Random forest"
      ],
      "metadata": {
        "id": "tPIteC3iArnw"
      },
      "id": "tPIteC3iArnw"
    },
    {
      "cell_type": "code",
      "source": [
        "from sklearn.ensemble import RandomForestClassifier"
      ],
      "metadata": {
        "id": "tkQl26eeACBK"
      },
      "id": "tkQl26eeACBK",
      "execution_count": null,
      "outputs": []
    },
    {
      "cell_type": "code",
      "source": [
        "rf = RandomForestClassifier(max_depth=5, random_state=0)\n",
        "rf.fit(X_train, y_train)\n",
        "y_pred_rf=rf.predict(X_test)\n",
        "acc_rf=accuracy_score(y_pred_rf,y_test)\n"
      ],
      "metadata": {
        "id": "RREnVIsoAB-t"
      },
      "id": "RREnVIsoAB-t",
      "execution_count": null,
      "outputs": []
    },
    {
      "cell_type": "code",
      "source": [
        "acc_rf"
      ],
      "metadata": {
        "colab": {
          "base_uri": "https://localhost:8080/"
        },
        "id": "BCebgp-XAB8O",
        "outputId": "0fde9907-c7a0-43a4-fe0c-156378c924e3"
      },
      "id": "BCebgp-XAB8O",
      "execution_count": null,
      "outputs": [
        {
          "output_type": "execute_result",
          "data": {
            "text/plain": [
              "0.9982929327415501"
            ]
          },
          "metadata": {},
          "execution_count": 285
        }
      ]
    },
    {
      "cell_type": "code",
      "source": [
        "cf_matrix=confusion_matrix(y_test, y_pred_rf)"
      ],
      "metadata": {
        "id": "_QVyJnxvAB5p"
      },
      "id": "_QVyJnxvAB5p",
      "execution_count": null,
      "outputs": []
    },
    {
      "cell_type": "markdown",
      "source": [],
      "metadata": {
        "id": "VaMKi1kgBD3l"
      },
      "id": "VaMKi1kgBD3l"
    },
    {
      "cell_type": "code",
      "source": [
        "import seaborn as sns\n",
        "import numpy as np\n",
        "labels = ['True Neg','False Pos','False Neg','True Pos']\n",
        "labels = np.asarray(labels).reshape(2,2)\n",
        "sns.heatmap(cf_matrix,annot=labels,fmt='')"
      ],
      "metadata": {
        "colab": {
          "base_uri": "https://localhost:8080/",
          "height": 282
        },
        "id": "EwrG568KAB2-",
        "outputId": "18641f31-8b9a-4d26-e762-3a6e4c5b9b8b"
      },
      "id": "EwrG568KAB2-",
      "execution_count": null,
      "outputs": [
        {
          "output_type": "execute_result",
          "data": {
            "text/plain": [
              "<matplotlib.axes._subplots.AxesSubplot at 0x7fa774299650>"
            ]
          },
          "metadata": {},
          "execution_count": 287
        },
        {
          "output_type": "display_data",
          "data": {
            "text/plain": [
              "<Figure size 432x288 with 2 Axes>"
            ],
            "image/png": "[encoded data removed]"
          },
          "metadata": {
            "needs_background": "light"
          }
        }
      ]
    },
    {
      "cell_type": "code",
      "source": [],
      "metadata": {
        "id": "05iYMInGAB0Q"
      },
      "id": "05iYMInGAB0Q",
      "execution_count": null,
      "outputs": []
    },
    {
      "cell_type": "markdown",
      "source": [
        "Using transaction data"
      ],
      "metadata": {
        "id": "0LRigm1UDFB8"
      },
      "id": "0LRigm1UDFB8"
    },
    {
      "cell_type": "code",
      "source": [
        "df=pd.read_csv(\"/content/drive/MyDrive/project_x/tree_data1.csv\")"
      ],
      "metadata": {
        "id": "aAr43RCJABx9"
      },
      "id": "aAr43RCJABx9",
      "execution_count": null,
      "outputs": []
    },
    {
      "cell_type": "code",
      "source": [
        "df"
      ],
      "metadata": {
        "colab": {
          "base_uri": "https://localhost:8080/",
          "height": 424
        },
        "id": "4wes4EGxABvM",
        "outputId": "6b888a12-f1f0-4cf3-f8fd-75561ef1a454"
      },
      "id": "4wes4EGxABvM",
      "execution_count": null,
      "outputs": [
        {
          "output_type": "execute_result",
          "data": {
            "text/plain": [
              "       Pol Cst0t C0  Bucket  Receipted Amout received  Next due date move  \\\n",
              "0                 1   Grace                         0                   0   \n",
              "1                 0  Lapsed                         0                   0   \n",
              "2                 0  Lapsed                         0                   0   \n",
              "3                 0  Lapsed                         0                   0   \n",
              "4                 0  Lapsed                         0                   0   \n",
              "...             ...     ...                       ...                 ...   \n",
              "29850             0  Lapsed                         0                   0   \n",
              "29851             1  Lapsed                         0                   1   \n",
              "29852             0  Lapsed                         0                   0   \n",
              "29853             0  Lapsed                         0                   0   \n",
              "29854             0  Lapsed                         0                   0   \n",
              "\n",
              "       Next Due date gr curr dt  Due Date change  Receipt Premium Not 0  \\\n",
              "0                             0                1                      0   \n",
              "1                             0                0                      0   \n",
              "2                             0                0                      0   \n",
              "3                             0                0                      0   \n",
              "4                             0                0                      0   \n",
              "...                         ...              ...                    ...   \n",
              "29850                         0                1                      0   \n",
              "29851                         1                0                      0   \n",
              "29852                         0                1                      0   \n",
              "29853                         0                1                      0   \n",
              "29854                         0                1                      0   \n",
              "\n",
              "      Final_Status  \n",
              "0           Unpaid  \n",
              "1           Unpaid  \n",
              "2           Unpaid  \n",
              "3           Unpaid  \n",
              "4           Unpaid  \n",
              "...            ...  \n",
              "29850       Unpaid  \n",
              "29851         Paid  \n",
              "29852       Unpaid  \n",
              "29853       Unpaid  \n",
              "29854       Unpaid  \n",
              "\n",
              "[29855 rows x 8 columns]"
            ],
            "text/html": [
              "\n",
              "  <div id=\"df-6a016d66-48df-4311-bba9-f428c677d397\">\n",
              "    <div class=\"colab-df-container\">\n",
              "      <div>\n",
              "<style scoped>\n",
              "    .dataframe tbody tr th:only-of-type {\n",
              "        vertical-align: middle;\n",
              "    }\n",
              "\n",
              "    .dataframe tbody tr th {\n",
              "        vertical-align: top;\n",
              "    }\n",
              "\n",
              "    .dataframe thead th {\n",
              "        text-align: right;\n",
              "    }\n",
              "</style>\n",
              "<table border=\"1\" class=\"dataframe\">\n",
              "  <thead>\n",
              "    <tr style=\"text-align: right;\">\n",
              "      <th></th>\n",
              "      <th>Pol Cst0t C0</th>\n",
              "      <th>Bucket</th>\n",
              "      <th>Receipted Amout received</th>\n",
              "      <th>Next due date move</th>\n",
              "      <th>Next Due date gr curr dt</th>\n",
              "      <th>Due Date change</th>\n",
              "      <th>Receipt Premium Not 0</th>\n",
              "      <th>Final_Status</th>\n",
              "    </tr>\n",
              "  </thead>\n",
              "  <tbody>\n",
              "    <tr>\n",
              "      <th>0</th>\n",
              "      <td>1</td>\n",
              "      <td>Grace</td>\n",
              "      <td>0</td>\n",
              "      <td>0</td>\n",
              "      <td>0</td>\n",
              "      <td>1</td>\n",
              "      <td>0</td>\n",
              "      <td>Unpaid</td>\n",
              "    </tr>\n",
              "    <tr>\n",
              "      <th>1</th>\n",
              "      <td>0</td>\n",
              "      <td>Lapsed</td>\n",
              "      <td>0</td>\n",
              "      <td>0</td>\n",
              "      <td>0</td>\n",
              "      <td>0</td>\n",
              "      <td>0</td>\n",
              "      <td>Unpaid</td>\n",
              "    </tr>\n",
              "    <tr>\n",
              "      <th>2</th>\n",
              "      <td>0</td>\n",
              "      <td>Lapsed</td>\n",
              "      <td>0</td>\n",
              "      <td>0</td>\n",
              "      <td>0</td>\n",
              "      <td>0</td>\n",
              "      <td>0</td>\n",
              "      <td>Unpaid</td>\n",
              "    </tr>\n",
              "    <tr>\n",
              "      <th>3</th>\n",
              "      <td>0</td>\n",
              "      <td>Lapsed</td>\n",
              "      <td>0</td>\n",
              "      <td>0</td>\n",
              "      <td>0</td>\n",
              "      <td>0</td>\n",
              "      <td>0</td>\n",
              "      <td>Unpaid</td>\n",
              "    </tr>\n",
              "    <tr>\n",
              "      <th>4</th>\n",
              "      <td>0</td>\n",
              "      <td>Lapsed</td>\n",
              "      <td>0</td>\n",
              "      <td>0</td>\n",
              "      <td>0</td>\n",
              "      <td>0</td>\n",
              "      <td>0</td>\n",
              "      <td>Unpaid</td>\n",
              "    </tr>\n",
              "    <tr>\n",
              "      <th>...</th>\n",
              "      <td>...</td>\n",
              "      <td>...</td>\n",
              "      <td>...</td>\n",
              "      <td>...</td>\n",
              "      <td>...</td>\n",
              "      <td>...</td>\n",
              "      <td>...</td>\n",
              "      <td>...</td>\n",
              "    </tr>\n",
              "    <tr>\n",
              "      <th>29850</th>\n",
              "      <td>0</td>\n",
              "      <td>Lapsed</td>\n",
              "      <td>0</td>\n",
              "      <td>0</td>\n",
              "      <td>0</td>\n",
              "      <td>1</td>\n",
              "      <td>0</td>\n",
              "      <td>Unpaid</td>\n",
              "    </tr>\n",
              "    <tr>\n",
              "      <th>29851</th>\n",
              "      <td>1</td>\n",
              "      <td>Lapsed</td>\n",
              "      <td>0</td>\n",
              "      <td>1</td>\n",
              "      <td>1</td>\n",
              "      <td>0</td>\n",
              "      <td>0</td>\n",
              "      <td>Paid</td>\n",
              "    </tr>\n",
              "    <tr>\n",
              "      <th>29852</th>\n",
              "      <td>0</td>\n",
              "      <td>Lapsed</td>\n",
              "      <td>0</td>\n",
              "      <td>0</td>\n",
              "      <td>0</td>\n",
              "      <td>1</td>\n",
              "      <td>0</td>\n",
              "      <td>Unpaid</td>\n",
              "    </tr>\n",
              "    <tr>\n",
              "      <th>29853</th>\n",
              "      <td>0</td>\n",
              "      <td>Lapsed</td>\n",
              "      <td>0</td>\n",
              "      <td>0</td>\n",
              "      <td>0</td>\n",
              "      <td>1</td>\n",
              "      <td>0</td>\n",
              "      <td>Unpaid</td>\n",
              "    </tr>\n",
              "    <tr>\n",
              "      <th>29854</th>\n",
              "      <td>0</td>\n",
              "      <td>Lapsed</td>\n",
              "      <td>0</td>\n",
              "      <td>0</td>\n",
              "      <td>0</td>\n",
              "      <td>1</td>\n",
              "      <td>0</td>\n",
              "      <td>Unpaid</td>\n",
              "    </tr>\n",
              "  </tbody>\n",
              "</table>\n",
              "<p>29855 rows × 8 columns</p>\n",
              "</div>\n",
              "      <button class=\"colab-df-convert\" onclick=\"convertToInteractive('df-6a016d66-48df-4311-bba9-f428c677d397')\"\n",
              "              title=\"Convert this dataframe to an interactive table.\"\n",
              "              style=\"display:none;\">\n",
              "        \n",
              "  <svg xmlns=\"http://www.w3.org/2000/svg\" height=\"24px\"viewBox=\"0 0 24 24\"\n",
              "       width=\"24px\">\n",
              "    <path d=\"M0 0h24v24H0V0z\" fill=\"none\"/>\n",
              "    <path d=\"M18.56 5.44l.94 2.06.94-2.06 2.06-.94-2.06-.94-.94-2.06-.94 2.06-2.06.94zm-11 1L8.5 8.5l.94-2.06 2.06-.94-2.06-.94L8.5 2.5l-.94 2.06-2.06.94zm10 10l.94 2.06.94-2.06 2.06-.94-2.06-.94-.94-2.06-.94 2.06-2.06.94z\"/><path d=\"M17.41 7.96l-1.37-1.37c-.4-.4-.92-.59-1.43-.59-.52 0-1.04.2-1.43.59L10.3 9.45l-7.72 7.72c-.78.78-.78 2.05 0 2.83L4 21.41c.39.39.9.59 1.41.59.51 0 1.02-.2 1.41-.59l7.78-7.78 2.81-2.81c.8-.78.8-2.07 0-2.86zM5.41 20L4 18.59l7.72-7.72 1.47 1.35L5.41 20z\"/>\n",
              "  </svg>\n",
              "      </button>\n",
              "      \n",
              "  <style>\n",
              "    .colab-df-container {\n",
              "      display:flex;\n",
              "      flex-wrap:wrap;\n",
              "      gap: 12px;\n",
              "    }\n",
              "\n",
              "    .colab-df-convert {\n",
              "      background-color: #E8F0FE;\n",
              "      border: none;\n",
              "      border-radius: 50%;\n",
              "      cursor: pointer;\n",
              "      display: none;\n",
              "      fill: #1967D2;\n",
              "      height: 32px;\n",
              "      padding: 0 0 0 0;\n",
              "      width: 32px;\n",
              "    }\n",
              "\n",
              "    .colab-df-convert:hover {\n",
              "      background-color: #E2EBFA;\n",
              "      box-shadow: 0px 1px 2px rgba(60, 64, 67, 0.3), 0px 1px 3px 1px rgba(60, 64, 67, 0.15);\n",
              "      fill: #174EA6;\n",
              "    }\n",
              "\n",
              "    [theme=dark] .colab-df-convert {\n",
              "      background-color: #3B4455;\n",
              "      fill: #D2E3FC;\n",
              "    }\n",
              "\n",
              "    [theme=dark] .colab-df-convert:hover {\n",
              "      background-color: #434B5C;\n",
              "      box-shadow: 0px 1px 3px 1px rgba(0, 0, 0, 0.15);\n",
              "      filter: drop-shadow(0px 1px 2px rgba(0, 0, 0, 0.3));\n",
              "      fill: #FFFFFF;\n",
              "    }\n",
              "  </style>\n",
              "\n",
              "      <script>\n",
              "        const buttonEl =\n",
              "          document.querySelector('#df-6a016d66-48df-4311-bba9-f428c677d397 button.colab-df-convert');\n",
              "        buttonEl.style.display =\n",
              "          google.colab.kernel.accessAllowed ? 'block' : 'none';\n",
              "\n",
              "        async function convertToInteractive(key) {\n",
              "          const element = document.querySelector('#df-6a016d66-48df-4311-bba9-f428c677d397');\n",
              "          const dataTable =\n",
              "            await google.colab.kernel.invokeFunction('convertToInteractive',\n",
              "                                                     [key], {});\n",
              "          if (!dataTable) return;\n",
              "\n",
              "          const docLinkHtml = 'Like what you see? Visit the ' +\n",
              "            '<a target=\"_blank\" href=https://colab.research.google.com/notebooks/data_table.ipynb>data table notebook</a>'\n",
              "            + ' to learn more about interactive tables.';\n",
              "          element.innerHTML = '';\n",
              "          dataTable['output_type'] = 'display_data';\n",
              "          await google.colab.output.renderOutput(dataTable, element);\n",
              "          const docLink = document.createElement('div');\n",
              "          docLink.innerHTML = docLinkHtml;\n",
              "          element.appendChild(docLink);\n",
              "        }\n",
              "      </script>\n",
              "    </div>\n",
              "  </div>\n",
              "  "
            ]
          },
          "metadata": {},
          "execution_count": 289
        }
      ]
    },
    {
      "cell_type": "code",
      "source": [
        "from sklearn import tree\n",
        "from sklearn.ensemble import RandomForestClassifier\n"
      ],
      "metadata": {
        "id": "oK9ewxOWABs_"
      },
      "id": "oK9ewxOWABs_",
      "execution_count": null,
      "outputs": []
    },
    {
      "cell_type": "code",
      "source": [
        "x=df.filter([\"Pol Cst0t C0\",\"Bucket\",\"Receipted Amout received\",\"Next due date move\",\"Next Due date gr curr dt\",\"Due Date change\",\"Receipt Premium Not 0\"], axis=1)"
      ],
      "metadata": {
        "id": "gBLPNNlYABqE"
      },
      "id": "gBLPNNlYABqE",
      "execution_count": null,
      "outputs": []
    },
    {
      "cell_type": "code",
      "source": [
        "y=df.Final_Status"
      ],
      "metadata": {
        "id": "yAsayV5mE_PX"
      },
      "id": "yAsayV5mE_PX",
      "execution_count": null,
      "outputs": []
    },
    {
      "cell_type": "code",
      "source": [
        "from sklearn import preprocessing\n",
        "number = preprocessing.LabelEncoder()\n",
        "x['Bucket'] = number.fit_transform(x.Bucket)"
      ],
      "metadata": {
        "id": "d8CGyJP3E_NE"
      },
      "id": "d8CGyJP3E_NE",
      "execution_count": null,
      "outputs": []
    },
    {
      "cell_type": "code",
      "source": [
        "from sklearn.model_selection import train_test_split\n",
        "from sklearn.metrics import accuracy_score\n",
        "X_train, X_test, y_train, y_test = train_test_split(x, y, test_size=0.3, random_state=42)"
      ],
      "metadata": {
        "id": "-PgfWMdCE_Ke"
      },
      "id": "-PgfWMdCE_Ke",
      "execution_count": null,
      "outputs": []
    },
    {
      "cell_type": "code",
      "source": [
        "clf=RandomForestClassifier(max_depth=5, random_state=0)\n",
        "dt = clf.fit(X_train, y_train)\n",
        "y_pred=dt.predict(X_test)\n",
        "acc=accuracy_score(y_test, y_pred)\n",
        "\n",
        "acc"
      ],
      "metadata": {
        "colab": {
          "base_uri": "https://localhost:8080/"
        },
        "id": "4mz3scwrE_GA",
        "outputId": "e356d052-d89c-4866-81ff-0e61962ab346"
      },
      "id": "4mz3scwrE_GA",
      "execution_count": null,
      "outputs": [
        {
          "output_type": "execute_result",
          "data": {
            "text/plain": [
              "0.999888355476164"
            ]
          },
          "metadata": {},
          "execution_count": 295
        }
      ]
    },
    {
      "cell_type": "code",
      "source": [
        "from sklearn.metrics import confusion_matrix\n",
        "confusion_matrix(y_test, y_pred)"
      ],
      "metadata": {
        "colab": {
          "base_uri": "https://localhost:8080/"
        },
        "id": "_hjyI_CYE_Br",
        "outputId": "a0f5b106-d119-4764-fe50-40752ded70a3"
      },
      "id": "_hjyI_CYE_Br",
      "execution_count": null,
      "outputs": [
        {
          "output_type": "execute_result",
          "data": {
            "text/plain": [
              "array([[2625,    0,    0],\n",
              "       [   1,    0,    0],\n",
              "       [   0,    0, 6331]])"
            ]
          },
          "metadata": {},
          "execution_count": 296
        }
      ]
    },
    {
      "cell_type": "code",
      "source": [
        "cf_matrix=confusion_matrix(y_test, y_pred)"
      ],
      "metadata": {
        "id": "N2zdylmoFHwo"
      },
      "id": "N2zdylmoFHwo",
      "execution_count": null,
      "outputs": []
    },
    {
      "cell_type": "code",
      "source": [
        "import seaborn as sns\n",
        "import numpy as np\n",
        "\n",
        "sns.heatmap(cf_matrix,fmt='')"
      ],
      "metadata": {
        "colab": {
          "base_uri": "https://localhost:8080/",
          "height": 282
        },
        "id": "LdP2DxboFHt2",
        "outputId": "c365069d-b163-4fb1-cb38-1a06da45fbe2"
      },
      "id": "LdP2DxboFHt2",
      "execution_count": null,
      "outputs": [
        {
          "output_type": "execute_result",
          "data": {
            "text/plain": [
              "<matplotlib.axes._subplots.AxesSubplot at 0x7fa77403a450>"
            ]
          },
          "metadata": {},
          "execution_count": 298
        },
        {
          "output_type": "display_data",
          "data": {
            "text/plain": [
              "<Figure size 432x288 with 2 Axes>"
            ],
            "image/png": "[encoded data removed]"
          },
          "metadata": {
            "needs_background": "light"
          }
        }
      ]
    },
    {
      "cell_type": "code",
      "source": [],
      "metadata": {
        "id": "JWTRRpvBFHq3"
      },
      "id": "JWTRRpvBFHq3",
      "execution_count": null,
      "outputs": []
    },
    {
      "cell_type": "markdown",
      "source": [
        "#using NLP for NPS data"
      ],
      "metadata": {
        "id": "NtEyAn-tnJ1u"
      },
      "id": "NtEyAn-tnJ1u"
    },
    {
      "cell_type": "code",
      "source": [
        "dp=pd.read_csv(\"/content/drive/MyDrive/project_x/nps_sorted_1.csv\")"
      ],
      "metadata": {
        "id": "Y_dhHJ9PFHoM"
      },
      "id": "Y_dhHJ9PFHoM",
      "execution_count": null,
      "outputs": []
    },
    {
      "cell_type": "code",
      "source": [
        "dp"
      ],
      "metadata": {
        "colab": {
          "base_uri": "https://localhost:8080/",
          "height": 832
        },
        "id": "UrxbaunhFHlT",
        "outputId": "99f9edc9-71b3-4ff3-a394-d7bb83d79919"
      },
      "id": "UrxbaunhFHlT",
      "execution_count": null,
      "outputs": [
        {
          "output_type": "execute_result",
          "data": {
            "text/plain": [
              "      nps_score    nps_cat                   L1  \\\n",
              "0             7    Passive  Application Process   \n",
              "1             9   Promoter            Servicing   \n",
              "2             9   Promoter               Branch   \n",
              "3            10   Promoter        Communication   \n",
              "4             8    Passive            Servicing   \n",
              "...         ...        ...                  ...   \n",
              "6019          6  Detractor              Renewal   \n",
              "6020          9   Promoter      Medical Related   \n",
              "6021          9   Promoter                 Exit   \n",
              "6022          9   Promoter              Renewal   \n",
              "6023          4  Detractor                 Exit   \n",
              "\n",
              "                                                     L2  \\\n",
              "0                                   Document collection   \n",
              "1                                               Website   \n",
              "2                                             Behaviour   \n",
              "3     Premium Paid Certificate / Renewal Receipt / T...   \n",
              "4                                         Sales Related   \n",
              "...                                                 ...   \n",
              "6019                 Communication - SMS - Not Received   \n",
              "6020                                              Other   \n",
              "6021                                             Claims   \n",
              "6022                 Communication - SMS - Not Received   \n",
              "6023                         Payout related - Surrender   \n",
              "\n",
              "                                                     L3           sentiment  \\\n",
              "0                                                   NaN  Netural / Negative   \n",
              "1        Website Experience - Service options available            Positive   \n",
              "2                                    Operations related            Positive   \n",
              "3                                                 Email  Netural / Negative   \n",
              "4     Post Sales Support - No contact by Agent with ...            Positive   \n",
              "...                                                 ...                 ...   \n",
              "6019                                   Renewal reminder            Positive   \n",
              "6020                                                NaN            Positive   \n",
              "6021       Too much time taken to receive claims amount            Positive   \n",
              "6022             Payment confirmation / acknowledgement            Positive   \n",
              "6023        Low Surrender Value vs customer expectation  Netural / Negative   \n",
              "\n",
              "                                    additional_comments FAR closure_col  \\\n",
              "0      All the documents required for policy issuanc...  No         NaN   \n",
              "1      Customer: I like website services, it is user...  No         NaN   \n",
              "2      I am happy with your â€œAhmednagar,Maharashtr...  No         NaN   \n",
              "3      please send us our policy statements regularl...  No         NaN   \n",
              "4      the advisor service is good, very helpful, so...  No         NaN   \n",
              "...                                                 ...  ..         ...   \n",
              "6019  your service is good like I am getting premium...  No         NaN   \n",
              "6020  Your service is good like post issuance medica...  No         NaN   \n",
              "6021  your service is prompt like we had claim and i...  No         NaN   \n",
              "6022  Your services are good like after paid the pre...  No         NaN   \n",
              "6023  Your surrender charges is so high so even not ...  No         NaN   \n",
              "\n",
              "     Transaction Type  Transaction Branch Source of Feedback Sales Channel  \\\n",
              "0          Onboarding                 NaN        Direct Call            DM   \n",
              "1          Onboarding                 NaN        Direct Call           TPD   \n",
              "2              ONLINE               132.0        Direct Call           DSF   \n",
              "3              ONLINE               886.0        Direct Call           DSF   \n",
              "4     Renewal Premium               950.0        Direct Call           DSF   \n",
              "...               ...                 ...                ...           ...   \n",
              "6019  Renewal Premium               135.0        Direct Call           DSF   \n",
              "6020  Renewal Premium               629.0        Direct Call           DSF   \n",
              "6021           ONLINE                 NaN        Direct Call           TPD   \n",
              "6022  Renewal Premium               969.0        Direct Call           DSF   \n",
              "6023           ONLINE                 NaN        Direct Call           TPD   \n",
              "\n",
              "     DSF NewZone      DSF NewReg  \n",
              "0            NaN             NaN  \n",
              "1              0               0  \n",
              "2         West-1    Pune  Region  \n",
              "3        North-2   Kanpur region  \n",
              "4        North-1   Jaipur Region  \n",
              "...          ...             ...  \n",
              "6019      West-1    Pune  Region  \n",
              "6020     Central  Indore  Region  \n",
              "6021           0               0  \n",
              "6022     North-1   Jaipur Region  \n",
              "6023           0               0  \n",
              "\n",
              "[6024 rows x 15 columns]"
            ],
            "text/html": [
              "\n",
              "  <div id=\"df-7df4cb4d-8465-4ab1-982a-269b9f84604a\">\n",
              "    <div class=\"colab-df-container\">\n",
              "      <div>\n",
              "<style scoped>\n",
              "    .dataframe tbody tr th:only-of-type {\n",
              "        vertical-align: middle;\n",
              "    }\n",
              "\n",
              "    .dataframe tbody tr th {\n",
              "        vertical-align: top;\n",
              "    }\n",
              "\n",
              "    .dataframe thead th {\n",
              "        text-align: right;\n",
              "    }\n",
              "</style>\n",
              "<table border=\"1\" class=\"dataframe\">\n",
              "  <thead>\n",
              "    <tr style=\"text-align: right;\">\n",
              "      <th></th>\n",
              "      <th>nps_score</th>\n",
              "      <th>nps_cat</th>\n",
              "      <th>L1</th>\n",
              "      <th>L2</th>\n",
              "      <th>L3</th>\n",
              "      <th>sentiment</th>\n",
              "      <th>additional_comments</th>\n",
              "      <th>FAR</th>\n",
              "      <th>closure_col</th>\n",
              "      <th>Transaction Type</th>\n",
              "      <th>Transaction Branch</th>\n",
              "      <th>Source of Feedback</th>\n",
              "      <th>Sales Channel</th>\n",
              "      <th>DSF NewZone</th>\n",
              "      <th>DSF NewReg</th>\n",
              "    </tr>\n",
              "  </thead>\n",
              "  <tbody>\n",
              "    <tr>\n",
              "      <th>0</th>\n",
              "      <td>7</td>\n",
              "      <td>Passive</td>\n",
              "      <td>Application Process</td>\n",
              "      <td>Document collection</td>\n",
              "      <td>NaN</td>\n",
              "      <td>Netural / Negative</td>\n",
              "      <td>All the documents required for policy issuanc...</td>\n",
              "      <td>No</td>\n",
              "      <td>NaN</td>\n",
              "      <td>Onboarding</td>\n",
              "      <td>NaN</td>\n",
              "      <td>Direct Call</td>\n",
              "      <td>DM</td>\n",
              "      <td>NaN</td>\n",
              "      <td>NaN</td>\n",
              "    </tr>\n",
              "    <tr>\n",
              "      <th>1</th>\n",
              "      <td>9</td>\n",
              "      <td>Promoter</td>\n",
              "      <td>Servicing</td>\n",
              "      <td>Website</td>\n",
              "      <td>Website Experience - Service options available</td>\n",
              "      <td>Positive</td>\n",
              "      <td>Customer: I like website services, it is user...</td>\n",
              "      <td>No</td>\n",
              "      <td>NaN</td>\n",
              "      <td>Onboarding</td>\n",
              "      <td>NaN</td>\n",
              "      <td>Direct Call</td>\n",
              "      <td>TPD</td>\n",
              "      <td>0</td>\n",
              "      <td>0</td>\n",
              "    </tr>\n",
              "    <tr>\n",
              "      <th>2</th>\n",
              "      <td>9</td>\n",
              "      <td>Promoter</td>\n",
              "      <td>Branch</td>\n",
              "      <td>Behaviour</td>\n",
              "      <td>Operations related</td>\n",
              "      <td>Positive</td>\n",
              "      <td>I am happy with your â€œAhmednagar,Maharashtr...</td>\n",
              "      <td>No</td>\n",
              "      <td>NaN</td>\n",
              "      <td>ONLINE</td>\n",
              "      <td>132.0</td>\n",
              "      <td>Direct Call</td>\n",
              "      <td>DSF</td>\n",
              "      <td>West-1</td>\n",
              "      <td>Pune  Region</td>\n",
              "    </tr>\n",
              "    <tr>\n",
              "      <th>3</th>\n",
              "      <td>10</td>\n",
              "      <td>Promoter</td>\n",
              "      <td>Communication</td>\n",
              "      <td>Premium Paid Certificate / Renewal Receipt / T...</td>\n",
              "      <td>Email</td>\n",
              "      <td>Netural / Negative</td>\n",
              "      <td>please send us our policy statements regularl...</td>\n",
              "      <td>No</td>\n",
              "      <td>NaN</td>\n",
              "      <td>ONLINE</td>\n",
              "      <td>886.0</td>\n",
              "      <td>Direct Call</td>\n",
              "      <td>DSF</td>\n",
              "      <td>North-2</td>\n",
              "      <td>Kanpur region</td>\n",
              "    </tr>\n",
              "    <tr>\n",
              "      <th>4</th>\n",
              "      <td>8</td>\n",
              "      <td>Passive</td>\n",
              "      <td>Servicing</td>\n",
              "      <td>Sales Related</td>\n",
              "      <td>Post Sales Support - No contact by Agent with ...</td>\n",
              "      <td>Positive</td>\n",
              "      <td>the advisor service is good, very helpful, so...</td>\n",
              "      <td>No</td>\n",
              "      <td>NaN</td>\n",
              "      <td>Renewal Premium</td>\n",
              "      <td>950.0</td>\n",
              "      <td>Direct Call</td>\n",
              "      <td>DSF</td>\n",
              "      <td>North-1</td>\n",
              "      <td>Jaipur Region</td>\n",
              "    </tr>\n",
              "    <tr>\n",
              "      <th>...</th>\n",
              "      <td>...</td>\n",
              "      <td>...</td>\n",
              "      <td>...</td>\n",
              "      <td>...</td>\n",
              "      <td>...</td>\n",
              "      <td>...</td>\n",
              "      <td>...</td>\n",
              "      <td>...</td>\n",
              "      <td>...</td>\n",
              "      <td>...</td>\n",
              "      <td>...</td>\n",
              "      <td>...</td>\n",
              "      <td>...</td>\n",
              "      <td>...</td>\n",
              "      <td>...</td>\n",
              "    </tr>\n",
              "    <tr>\n",
              "      <th>6019</th>\n",
              "      <td>6</td>\n",
              "      <td>Detractor</td>\n",
              "      <td>Renewal</td>\n",
              "      <td>Communication - SMS - Not Received</td>\n",
              "      <td>Renewal reminder</td>\n",
              "      <td>Positive</td>\n",
              "      <td>your service is good like I am getting premium...</td>\n",
              "      <td>No</td>\n",
              "      <td>NaN</td>\n",
              "      <td>Renewal Premium</td>\n",
              "      <td>135.0</td>\n",
              "      <td>Direct Call</td>\n",
              "      <td>DSF</td>\n",
              "      <td>West-1</td>\n",
              "      <td>Pune  Region</td>\n",
              "    </tr>\n",
              "    <tr>\n",
              "      <th>6020</th>\n",
              "      <td>9</td>\n",
              "      <td>Promoter</td>\n",
              "      <td>Medical Related</td>\n",
              "      <td>Other</td>\n",
              "      <td>NaN</td>\n",
              "      <td>Positive</td>\n",
              "      <td>Your service is good like post issuance medica...</td>\n",
              "      <td>No</td>\n",
              "      <td>NaN</td>\n",
              "      <td>Renewal Premium</td>\n",
              "      <td>629.0</td>\n",
              "      <td>Direct Call</td>\n",
              "      <td>DSF</td>\n",
              "      <td>Central</td>\n",
              "      <td>Indore  Region</td>\n",
              "    </tr>\n",
              "    <tr>\n",
              "      <th>6021</th>\n",
              "      <td>9</td>\n",
              "      <td>Promoter</td>\n",
              "      <td>Exit</td>\n",
              "      <td>Claims</td>\n",
              "      <td>Too much time taken to receive claims amount</td>\n",
              "      <td>Positive</td>\n",
              "      <td>your service is prompt like we had claim and i...</td>\n",
              "      <td>No</td>\n",
              "      <td>NaN</td>\n",
              "      <td>ONLINE</td>\n",
              "      <td>NaN</td>\n",
              "      <td>Direct Call</td>\n",
              "      <td>TPD</td>\n",
              "      <td>0</td>\n",
              "      <td>0</td>\n",
              "    </tr>\n",
              "    <tr>\n",
              "      <th>6022</th>\n",
              "      <td>9</td>\n",
              "      <td>Promoter</td>\n",
              "      <td>Renewal</td>\n",
              "      <td>Communication - SMS - Not Received</td>\n",
              "      <td>Payment confirmation / acknowledgement</td>\n",
              "      <td>Positive</td>\n",
              "      <td>Your services are good like after paid the pre...</td>\n",
              "      <td>No</td>\n",
              "      <td>NaN</td>\n",
              "      <td>Renewal Premium</td>\n",
              "      <td>969.0</td>\n",
              "      <td>Direct Call</td>\n",
              "      <td>DSF</td>\n",
              "      <td>North-1</td>\n",
              "      <td>Jaipur Region</td>\n",
              "    </tr>\n",
              "    <tr>\n",
              "      <th>6023</th>\n",
              "      <td>4</td>\n",
              "      <td>Detractor</td>\n",
              "      <td>Exit</td>\n",
              "      <td>Payout related - Surrender</td>\n",
              "      <td>Low Surrender Value vs customer expectation</td>\n",
              "      <td>Netural / Negative</td>\n",
              "      <td>Your surrender charges is so high so even not ...</td>\n",
              "      <td>No</td>\n",
              "      <td>NaN</td>\n",
              "      <td>ONLINE</td>\n",
              "      <td>NaN</td>\n",
              "      <td>Direct Call</td>\n",
              "      <td>TPD</td>\n",
              "      <td>0</td>\n",
              "      <td>0</td>\n",
              "    </tr>\n",
              "  </tbody>\n",
              "</table>\n",
              "<p>6024 rows × 15 columns</p>\n",
              "</div>\n",
              "      <button class=\"colab-df-convert\" onclick=\"convertToInteractive('df-7df4cb4d-8465-4ab1-982a-269b9f84604a')\"\n",
              "              title=\"Convert this dataframe to an interactive table.\"\n",
              "              style=\"display:none;\">\n",
              "        \n",
              "  <svg xmlns=\"http://www.w3.org/2000/svg\" height=\"24px\"viewBox=\"0 0 24 24\"\n",
              "       width=\"24px\">\n",
              "    <path d=\"M0 0h24v24H0V0z\" fill=\"none\"/>\n",
              "    <path d=\"M18.56 5.44l.94 2.06.94-2.06 2.06-.94-2.06-.94-.94-2.06-.94 2.06-2.06.94zm-11 1L8.5 8.5l.94-2.06 2.06-.94-2.06-.94L8.5 2.5l-.94 2.06-2.06.94zm10 10l.94 2.06.94-2.06 2.06-.94-2.06-.94-.94-2.06-.94 2.06-2.06.94z\"/><path d=\"M17.41 7.96l-1.37-1.37c-.4-.4-.92-.59-1.43-.59-.52 0-1.04.2-1.43.59L10.3 9.45l-7.72 7.72c-.78.78-.78 2.05 0 2.83L4 21.41c.39.39.9.59 1.41.59.51 0 1.02-.2 1.41-.59l7.78-7.78 2.81-2.81c.8-.78.8-2.07 0-2.86zM5.41 20L4 18.59l7.72-7.72 1.47 1.35L5.41 20z\"/>\n",
              "  </svg>\n",
              "      </button>\n",
              "      \n",
              "  <style>\n",
              "    .colab-df-container {\n",
              "      display:flex;\n",
              "      flex-wrap:wrap;\n",
              "      gap: 12px;\n",
              "    }\n",
              "\n",
              "    .colab-df-convert {\n",
              "      background-color: #E8F0FE;\n",
              "      border: none;\n",
              "      border-radius: 50%;\n",
              "      cursor: pointer;\n",
              "      display: none;\n",
              "      fill: #1967D2;\n",
              "      height: 32px;\n",
              "      padding: 0 0 0 0;\n",
              "      width: 32px;\n",
              "    }\n",
              "\n",
              "    .colab-df-convert:hover {\n",
              "      background-color: #E2EBFA;\n",
              "      box-shadow: 0px 1px 2px rgba(60, 64, 67, 0.3), 0px 1px 3px 1px rgba(60, 64, 67, 0.15);\n",
              "      fill: #174EA6;\n",
              "    }\n",
              "\n",
              "    [theme=dark] .colab-df-convert {\n",
              "      background-color: #3B4455;\n",
              "      fill: #D2E3FC;\n",
              "    }\n",
              "\n",
              "    [theme=dark] .colab-df-convert:hover {\n",
              "      background-color: #434B5C;\n",
              "      box-shadow: 0px 1px 3px 1px rgba(0, 0, 0, 0.15);\n",
              "      filter: drop-shadow(0px 1px 2px rgba(0, 0, 0, 0.3));\n",
              "      fill: #FFFFFF;\n",
              "    }\n",
              "  </style>\n",
              "\n",
              "      <script>\n",
              "        const buttonEl =\n",
              "          document.querySelector('#df-7df4cb4d-8465-4ab1-982a-269b9f84604a button.colab-df-convert');\n",
              "        buttonEl.style.display =\n",
              "          google.colab.kernel.accessAllowed ? 'block' : 'none';\n",
              "\n",
              "        async function convertToInteractive(key) {\n",
              "          const element = document.querySelector('#df-7df4cb4d-8465-4ab1-982a-269b9f84604a');\n",
              "          const dataTable =\n",
              "            await google.colab.kernel.invokeFunction('convertToInteractive',\n",
              "                                                     [key], {});\n",
              "          if (!dataTable) return;\n",
              "\n",
              "          const docLinkHtml = 'Like what you see? Visit the ' +\n",
              "            '<a target=\"_blank\" href=https://colab.research.google.com/notebooks/data_table.ipynb>data table notebook</a>'\n",
              "            + ' to learn more about interactive tables.';\n",
              "          element.innerHTML = '';\n",
              "          dataTable['output_type'] = 'display_data';\n",
              "          await google.colab.output.renderOutput(dataTable, element);\n",
              "          const docLink = document.createElement('div');\n",
              "          docLink.innerHTML = docLinkHtml;\n",
              "          element.appendChild(docLink);\n",
              "        }\n",
              "      </script>\n",
              "    </div>\n",
              "  </div>\n",
              "  "
            ]
          },
          "metadata": {},
          "execution_count": 300
        }
      ]
    },
    {
      "cell_type": "code",
      "source": [
        "x= dp.filter([\"nps_cat\",\"L1\",\"L2\",\"L3\",\"sentiment\",\"FAR\"], axis=1)"
      ],
      "metadata": {
        "id": "W2lUI68CFHiA"
      },
      "id": "W2lUI68CFHiA",
      "execution_count": null,
      "outputs": []
    },
    {
      "cell_type": "code",
      "source": [
        "x"
      ],
      "metadata": {
        "colab": {
          "base_uri": "https://localhost:8080/",
          "height": 424
        },
        "id": "N3IwHAZPFHe8",
        "outputId": "eb27f85b-1cf1-4d95-8dee-fe133a496a84"
      },
      "id": "N3IwHAZPFHe8",
      "execution_count": null,
      "outputs": [
        {
          "output_type": "execute_result",
          "data": {
            "text/plain": [
              "        nps_cat                   L1  \\\n",
              "0       Passive  Application Process   \n",
              "1      Promoter            Servicing   \n",
              "2      Promoter               Branch   \n",
              "3      Promoter        Communication   \n",
              "4       Passive            Servicing   \n",
              "...         ...                  ...   \n",
              "6019  Detractor              Renewal   \n",
              "6020   Promoter      Medical Related   \n",
              "6021   Promoter                 Exit   \n",
              "6022   Promoter              Renewal   \n",
              "6023  Detractor                 Exit   \n",
              "\n",
              "                                                     L2  \\\n",
              "0                                   Document collection   \n",
              "1                                               Website   \n",
              "2                                             Behaviour   \n",
              "3     Premium Paid Certificate / Renewal Receipt / T...   \n",
              "4                                         Sales Related   \n",
              "...                                                 ...   \n",
              "6019                 Communication - SMS - Not Received   \n",
              "6020                                              Other   \n",
              "6021                                             Claims   \n",
              "6022                 Communication - SMS - Not Received   \n",
              "6023                         Payout related - Surrender   \n",
              "\n",
              "                                                     L3           sentiment  \\\n",
              "0                                                   NaN  Netural / Negative   \n",
              "1        Website Experience - Service options available            Positive   \n",
              "2                                    Operations related            Positive   \n",
              "3                                                 Email  Netural / Negative   \n",
              "4     Post Sales Support - No contact by Agent with ...            Positive   \n",
              "...                                                 ...                 ...   \n",
              "6019                                   Renewal reminder            Positive   \n",
              "6020                                                NaN            Positive   \n",
              "6021       Too much time taken to receive claims amount            Positive   \n",
              "6022             Payment confirmation / acknowledgement            Positive   \n",
              "6023        Low Surrender Value vs customer expectation  Netural / Negative   \n",
              "\n",
              "     FAR  \n",
              "0     No  \n",
              "1     No  \n",
              "2     No  \n",
              "3     No  \n",
              "4     No  \n",
              "...   ..  \n",
              "6019  No  \n",
              "6020  No  \n",
              "6021  No  \n",
              "6022  No  \n",
              "6023  No  \n",
              "\n",
              "[6024 rows x 6 columns]"
            ],
            "text/html": [
              "\n",
              "  <div id=\"df-e4c71f1d-e196-47b6-8642-fd7e8169be30\">\n",
              "    <div class=\"colab-df-container\">\n",
              "      <div>\n",
              "<style scoped>\n",
              "    .dataframe tbody tr th:only-of-type {\n",
              "        vertical-align: middle;\n",
              "    }\n",
              "\n",
              "    .dataframe tbody tr th {\n",
              "        vertical-align: top;\n",
              "    }\n",
              "\n",
              "    .dataframe thead th {\n",
              "        text-align: right;\n",
              "    }\n",
              "</style>\n",
              "<table border=\"1\" class=\"dataframe\">\n",
              "  <thead>\n",
              "    <tr style=\"text-align: right;\">\n",
              "      <th></th>\n",
              "      <th>nps_cat</th>\n",
              "      <th>L1</th>\n",
              "      <th>L2</th>\n",
              "      <th>L3</th>\n",
              "      <th>sentiment</th>\n",
              "      <th>FAR</th>\n",
              "    </tr>\n",
              "  </thead>\n",
              "  <tbody>\n",
              "    <tr>\n",
              "      <th>0</th>\n",
              "      <td>Passive</td>\n",
              "      <td>Application Process</td>\n",
              "      <td>Document collection</td>\n",
              "      <td>NaN</td>\n",
              "      <td>Netural / Negative</td>\n",
              "      <td>No</td>\n",
              "    </tr>\n",
              "    <tr>\n",
              "      <th>1</th>\n",
              "      <td>Promoter</td>\n",
              "      <td>Servicing</td>\n",
              "      <td>Website</td>\n",
              "      <td>Website Experience - Service options available</td>\n",
              "      <td>Positive</td>\n",
              "      <td>No</td>\n",
              "    </tr>\n",
              "    <tr>\n",
              "      <th>2</th>\n",
              "      <td>Promoter</td>\n",
              "      <td>Branch</td>\n",
              "      <td>Behaviour</td>\n",
              "      <td>Operations related</td>\n",
              "      <td>Positive</td>\n",
              "      <td>No</td>\n",
              "    </tr>\n",
              "    <tr>\n",
              "      <th>3</th>\n",
              "      <td>Promoter</td>\n",
              "      <td>Communication</td>\n",
              "      <td>Premium Paid Certificate / Renewal Receipt / T...</td>\n",
              "      <td>Email</td>\n",
              "      <td>Netural / Negative</td>\n",
              "      <td>No</td>\n",
              "    </tr>\n",
              "    <tr>\n",
              "      <th>4</th>\n",
              "      <td>Passive</td>\n",
              "      <td>Servicing</td>\n",
              "      <td>Sales Related</td>\n",
              "      <td>Post Sales Support - No contact by Agent with ...</td>\n",
              "      <td>Positive</td>\n",
              "      <td>No</td>\n",
              "    </tr>\n",
              "    <tr>\n",
              "      <th>...</th>\n",
              "      <td>...</td>\n",
              "      <td>...</td>\n",
              "      <td>...</td>\n",
              "      <td>...</td>\n",
              "      <td>...</td>\n",
              "      <td>...</td>\n",
              "    </tr>\n",
              "    <tr>\n",
              "      <th>6019</th>\n",
              "      <td>Detractor</td>\n",
              "      <td>Renewal</td>\n",
              "      <td>Communication - SMS - Not Received</td>\n",
              "      <td>Renewal reminder</td>\n",
              "      <td>Positive</td>\n",
              "      <td>No</td>\n",
              "    </tr>\n",
              "    <tr>\n",
              "      <th>6020</th>\n",
              "      <td>Promoter</td>\n",
              "      <td>Medical Related</td>\n",
              "      <td>Other</td>\n",
              "      <td>NaN</td>\n",
              "      <td>Positive</td>\n",
              "      <td>No</td>\n",
              "    </tr>\n",
              "    <tr>\n",
              "      <th>6021</th>\n",
              "      <td>Promoter</td>\n",
              "      <td>Exit</td>\n",
              "      <td>Claims</td>\n",
              "      <td>Too much time taken to receive claims amount</td>\n",
              "      <td>Positive</td>\n",
              "      <td>No</td>\n",
              "    </tr>\n",
              "    <tr>\n",
              "      <th>6022</th>\n",
              "      <td>Promoter</td>\n",
              "      <td>Renewal</td>\n",
              "      <td>Communication - SMS - Not Received</td>\n",
              "      <td>Payment confirmation / acknowledgement</td>\n",
              "      <td>Positive</td>\n",
              "      <td>No</td>\n",
              "    </tr>\n",
              "    <tr>\n",
              "      <th>6023</th>\n",
              "      <td>Detractor</td>\n",
              "      <td>Exit</td>\n",
              "      <td>Payout related - Surrender</td>\n",
              "      <td>Low Surrender Value vs customer expectation</td>\n",
              "      <td>Netural / Negative</td>\n",
              "      <td>No</td>\n",
              "    </tr>\n",
              "  </tbody>\n",
              "</table>\n",
              "<p>6024 rows × 6 columns</p>\n",
              "</div>\n",
              "      <button class=\"colab-df-convert\" onclick=\"convertToInteractive('df-e4c71f1d-e196-47b6-8642-fd7e8169be30')\"\n",
              "              title=\"Convert this dataframe to an interactive table.\"\n",
              "              style=\"display:none;\">\n",
              "        \n",
              "  <svg xmlns=\"http://www.w3.org/2000/svg\" height=\"24px\"viewBox=\"0 0 24 24\"\n",
              "       width=\"24px\">\n",
              "    <path d=\"M0 0h24v24H0V0z\" fill=\"none\"/>\n",
              "    <path d=\"M18.56 5.44l.94 2.06.94-2.06 2.06-.94-2.06-.94-.94-2.06-.94 2.06-2.06.94zm-11 1L8.5 8.5l.94-2.06 2.06-.94-2.06-.94L8.5 2.5l-.94 2.06-2.06.94zm10 10l.94 2.06.94-2.06 2.06-.94-2.06-.94-.94-2.06-.94 2.06-2.06.94z\"/><path d=\"M17.41 7.96l-1.37-1.37c-.4-.4-.92-.59-1.43-.59-.52 0-1.04.2-1.43.59L10.3 9.45l-7.72 7.72c-.78.78-.78 2.05 0 2.83L4 21.41c.39.39.9.59 1.41.59.51 0 1.02-.2 1.41-.59l7.78-7.78 2.81-2.81c.8-.78.8-2.07 0-2.86zM5.41 20L4 18.59l7.72-7.72 1.47 1.35L5.41 20z\"/>\n",
              "  </svg>\n",
              "      </button>\n",
              "      \n",
              "  <style>\n",
              "    .colab-df-container {\n",
              "      display:flex;\n",
              "      flex-wrap:wrap;\n",
              "      gap: 12px;\n",
              "    }\n",
              "\n",
              "    .colab-df-convert {\n",
              "      background-color: #E8F0FE;\n",
              "      border: none;\n",
              "      border-radius: 50%;\n",
              "      cursor: pointer;\n",
              "      display: none;\n",
              "      fill: #1967D2;\n",
              "      height: 32px;\n",
              "      padding: 0 0 0 0;\n",
              "      width: 32px;\n",
              "    }\n",
              "\n",
              "    .colab-df-convert:hover {\n",
              "      background-color: #E2EBFA;\n",
              "      box-shadow: 0px 1px 2px rgba(60, 64, 67, 0.3), 0px 1px 3px 1px rgba(60, 64, 67, 0.15);\n",
              "      fill: #174EA6;\n",
              "    }\n",
              "\n",
              "    [theme=dark] .colab-df-convert {\n",
              "      background-color: #3B4455;\n",
              "      fill: #D2E3FC;\n",
              "    }\n",
              "\n",
              "    [theme=dark] .colab-df-convert:hover {\n",
              "      background-color: #434B5C;\n",
              "      box-shadow: 0px 1px 3px 1px rgba(0, 0, 0, 0.15);\n",
              "      filter: drop-shadow(0px 1px 2px rgba(0, 0, 0, 0.3));\n",
              "      fill: #FFFFFF;\n",
              "    }\n",
              "  </style>\n",
              "\n",
              "      <script>\n",
              "        const buttonEl =\n",
              "          document.querySelector('#df-e4c71f1d-e196-47b6-8642-fd7e8169be30 button.colab-df-convert');\n",
              "        buttonEl.style.display =\n",
              "          google.colab.kernel.accessAllowed ? 'block' : 'none';\n",
              "\n",
              "        async function convertToInteractive(key) {\n",
              "          const element = document.querySelector('#df-e4c71f1d-e196-47b6-8642-fd7e8169be30');\n",
              "          const dataTable =\n",
              "            await google.colab.kernel.invokeFunction('convertToInteractive',\n",
              "                                                     [key], {});\n",
              "          if (!dataTable) return;\n",
              "\n",
              "          const docLinkHtml = 'Like what you see? Visit the ' +\n",
              "            '<a target=\"_blank\" href=https://colab.research.google.com/notebooks/data_table.ipynb>data table notebook</a>'\n",
              "            + ' to learn more about interactive tables.';\n",
              "          element.innerHTML = '';\n",
              "          dataTable['output_type'] = 'display_data';\n",
              "          await google.colab.output.renderOutput(dataTable, element);\n",
              "          const docLink = document.createElement('div');\n",
              "          docLink.innerHTML = docLinkHtml;\n",
              "          element.appendChild(docLink);\n",
              "        }\n",
              "      </script>\n",
              "    </div>\n",
              "  </div>\n",
              "  "
            ]
          },
          "metadata": {},
          "execution_count": 302
        }
      ]
    },
    {
      "cell_type": "code",
      "source": [
        "from sklearn import preprocessing\n",
        "number = preprocessing.LabelEncoder()\n",
        "x['nps_cat'] = number.fit_transform(x.nps_cat)\n",
        "x['L1'] = number.fit_transform(x.L1)\n",
        "x['L2'] = number.fit_transform(x.L2)\n",
        "x['L3'] = number.fit_transform(x.L3)\n",
        "x['sentiment'] = number.fit_transform(x.sentiment)\n",
        "x['FAR'] = number.fit_transform(x.FAR)\n",
        "\n",
        "\n"
      ],
      "metadata": {
        "id": "UjqQRDIdFHbc"
      },
      "id": "UjqQRDIdFHbc",
      "execution_count": null,
      "outputs": []
    },
    {
      "cell_type": "code",
      "source": [
        "x"
      ],
      "metadata": {
        "colab": {
          "base_uri": "https://localhost:8080/",
          "height": 424
        },
        "id": "vPW6-HxOhclL",
        "outputId": "027a4842-6fe6-4fd3-bcdb-b907491f6685"
      },
      "id": "vPW6-HxOhclL",
      "execution_count": null,
      "outputs": [
        {
          "output_type": "execute_result",
          "data": {
            "text/plain": [
              "      nps_cat  L1   L2   L3  sentiment  FAR\n",
              "0           1   1   55  235          0    0\n",
              "1           2  27  160  228          1    0\n",
              "2           2   2    7  147          1    0\n",
              "3           2   7  127   94          0    0\n",
              "4           1  27  142  177          1    0\n",
              "...       ...  ..  ...  ...        ...  ...\n",
              "6019        0  23   38  194          1    0\n",
              "6020        2  17  100  235          1    0\n",
              "6021        2  12   21  219          1    0\n",
              "6022        2  23   38  156          1    0\n",
              "6023        0  12  113  122          0    0\n",
              "\n",
              "[6024 rows x 6 columns]"
            ],
            "text/html": [
              "\n",
              "  <div id=\"df-ec361866-b3fe-435f-b7ed-08e53c70b70a\">\n",
              "    <div class=\"colab-df-container\">\n",
              "      <div>\n",
              "<style scoped>\n",
              "    .dataframe tbody tr th:only-of-type {\n",
              "        vertical-align: middle;\n",
              "    }\n",
              "\n",
              "    .dataframe tbody tr th {\n",
              "        vertical-align: top;\n",
              "    }\n",
              "\n",
              "    .dataframe thead th {\n",
              "        text-align: right;\n",
              "    }\n",
              "</style>\n",
              "<table border=\"1\" class=\"dataframe\">\n",
              "  <thead>\n",
              "    <tr style=\"text-align: right;\">\n",
              "      <th></th>\n",
              "      <th>nps_cat</th>\n",
              "      <th>L1</th>\n",
              "      <th>L2</th>\n",
              "      <th>L3</th>\n",
              "      <th>sentiment</th>\n",
              "      <th>FAR</th>\n",
              "    </tr>\n",
              "  </thead>\n",
              "  <tbody>\n",
              "    <tr>\n",
              "      <th>0</th>\n",
              "      <td>1</td>\n",
              "      <td>1</td>\n",
              "      <td>55</td>\n",
              "      <td>235</td>\n",
              "      <td>0</td>\n",
              "      <td>0</td>\n",
              "    </tr>\n",
              "    <tr>\n",
              "      <th>1</th>\n",
              "      <td>2</td>\n",
              "      <td>27</td>\n",
              "      <td>160</td>\n",
              "      <td>228</td>\n",
              "      <td>1</td>\n",
              "      <td>0</td>\n",
              "    </tr>\n",
              "    <tr>\n",
              "      <th>2</th>\n",
              "      <td>2</td>\n",
              "      <td>2</td>\n",
              "      <td>7</td>\n",
              "      <td>147</td>\n",
              "      <td>1</td>\n",
              "      <td>0</td>\n",
              "    </tr>\n",
              "    <tr>\n",
              "      <th>3</th>\n",
              "      <td>2</td>\n",
              "      <td>7</td>\n",
              "      <td>127</td>\n",
              "      <td>94</td>\n",
              "      <td>0</td>\n",
              "      <td>0</td>\n",
              "    </tr>\n",
              "    <tr>\n",
              "      <th>4</th>\n",
              "      <td>1</td>\n",
              "      <td>27</td>\n",
              "      <td>142</td>\n",
              "      <td>177</td>\n",
              "      <td>1</td>\n",
              "      <td>0</td>\n",
              "    </tr>\n",
              "    <tr>\n",
              "      <th>...</th>\n",
              "      <td>...</td>\n",
              "      <td>...</td>\n",
              "      <td>...</td>\n",
              "      <td>...</td>\n",
              "      <td>...</td>\n",
              "      <td>...</td>\n",
              "    </tr>\n",
              "    <tr>\n",
              "      <th>6019</th>\n",
              "      <td>0</td>\n",
              "      <td>23</td>\n",
              "      <td>38</td>\n",
              "      <td>194</td>\n",
              "      <td>1</td>\n",
              "      <td>0</td>\n",
              "    </tr>\n",
              "    <tr>\n",
              "      <th>6020</th>\n",
              "      <td>2</td>\n",
              "      <td>17</td>\n",
              "      <td>100</td>\n",
              "      <td>235</td>\n",
              "      <td>1</td>\n",
              "      <td>0</td>\n",
              "    </tr>\n",
              "    <tr>\n",
              "      <th>6021</th>\n",
              "      <td>2</td>\n",
              "      <td>12</td>\n",
              "      <td>21</td>\n",
              "      <td>219</td>\n",
              "      <td>1</td>\n",
              "      <td>0</td>\n",
              "    </tr>\n",
              "    <tr>\n",
              "      <th>6022</th>\n",
              "      <td>2</td>\n",
              "      <td>23</td>\n",
              "      <td>38</td>\n",
              "      <td>156</td>\n",
              "      <td>1</td>\n",
              "      <td>0</td>\n",
              "    </tr>\n",
              "    <tr>\n",
              "      <th>6023</th>\n",
              "      <td>0</td>\n",
              "      <td>12</td>\n",
              "      <td>113</td>\n",
              "      <td>122</td>\n",
              "      <td>0</td>\n",
              "      <td>0</td>\n",
              "    </tr>\n",
              "  </tbody>\n",
              "</table>\n",
              "<p>6024 rows × 6 columns</p>\n",
              "</div>\n",
              "      <button class=\"colab-df-convert\" onclick=\"convertToInteractive('df-ec361866-b3fe-435f-b7ed-08e53c70b70a')\"\n",
              "              title=\"Convert this dataframe to an interactive table.\"\n",
              "              style=\"display:none;\">\n",
              "        \n",
              "  <svg xmlns=\"http://www.w3.org/2000/svg\" height=\"24px\"viewBox=\"0 0 24 24\"\n",
              "       width=\"24px\">\n",
              "    <path d=\"M0 0h24v24H0V0z\" fill=\"none\"/>\n",
              "    <path d=\"M18.56 5.44l.94 2.06.94-2.06 2.06-.94-2.06-.94-.94-2.06-.94 2.06-2.06.94zm-11 1L8.5 8.5l.94-2.06 2.06-.94-2.06-.94L8.5 2.5l-.94 2.06-2.06.94zm10 10l.94 2.06.94-2.06 2.06-.94-2.06-.94-.94-2.06-.94 2.06-2.06.94z\"/><path d=\"M17.41 7.96l-1.37-1.37c-.4-.4-.92-.59-1.43-.59-.52 0-1.04.2-1.43.59L10.3 9.45l-7.72 7.72c-.78.78-.78 2.05 0 2.83L4 21.41c.39.39.9.59 1.41.59.51 0 1.02-.2 1.41-.59l7.78-7.78 2.81-2.81c.8-.78.8-2.07 0-2.86zM5.41 20L4 18.59l7.72-7.72 1.47 1.35L5.41 20z\"/>\n",
              "  </svg>\n",
              "      </button>\n",
              "      \n",
              "  <style>\n",
              "    .colab-df-container {\n",
              "      display:flex;\n",
              "      flex-wrap:wrap;\n",
              "      gap: 12px;\n",
              "    }\n",
              "\n",
              "    .colab-df-convert {\n",
              "      background-color: #E8F0FE;\n",
              "      border: none;\n",
              "      border-radius: 50%;\n",
              "      cursor: pointer;\n",
              "      display: none;\n",
              "      fill: #1967D2;\n",
              "      height: 32px;\n",
              "      padding: 0 0 0 0;\n",
              "      width: 32px;\n",
              "    }\n",
              "\n",
              "    .colab-df-convert:hover {\n",
              "      background-color: #E2EBFA;\n",
              "      box-shadow: 0px 1px 2px rgba(60, 64, 67, 0.3), 0px 1px 3px 1px rgba(60, 64, 67, 0.15);\n",
              "      fill: #174EA6;\n",
              "    }\n",
              "\n",
              "    [theme=dark] .colab-df-convert {\n",
              "      background-color: #3B4455;\n",
              "      fill: #D2E3FC;\n",
              "    }\n",
              "\n",
              "    [theme=dark] .colab-df-convert:hover {\n",
              "      background-color: #434B5C;\n",
              "      box-shadow: 0px 1px 3px 1px rgba(0, 0, 0, 0.15);\n",
              "      filter: drop-shadow(0px 1px 2px rgba(0, 0, 0, 0.3));\n",
              "      fill: #FFFFFF;\n",
              "    }\n",
              "  </style>\n",
              "\n",
              "      <script>\n",
              "        const buttonEl =\n",
              "          document.querySelector('#df-ec361866-b3fe-435f-b7ed-08e53c70b70a button.colab-df-convert');\n",
              "        buttonEl.style.display =\n",
              "          google.colab.kernel.accessAllowed ? 'block' : 'none';\n",
              "\n",
              "        async function convertToInteractive(key) {\n",
              "          const element = document.querySelector('#df-ec361866-b3fe-435f-b7ed-08e53c70b70a');\n",
              "          const dataTable =\n",
              "            await google.colab.kernel.invokeFunction('convertToInteractive',\n",
              "                                                     [key], {});\n",
              "          if (!dataTable) return;\n",
              "\n",
              "          const docLinkHtml = 'Like what you see? Visit the ' +\n",
              "            '<a target=\"_blank\" href=https://colab.research.google.com/notebooks/data_table.ipynb>data table notebook</a>'\n",
              "            + ' to learn more about interactive tables.';\n",
              "          element.innerHTML = '';\n",
              "          dataTable['output_type'] = 'display_data';\n",
              "          await google.colab.output.renderOutput(dataTable, element);\n",
              "          const docLink = document.createElement('div');\n",
              "          docLink.innerHTML = docLinkHtml;\n",
              "          element.appendChild(docLink);\n",
              "        }\n",
              "      </script>\n",
              "    </div>\n",
              "  </div>\n",
              "  "
            ]
          },
          "metadata": {},
          "execution_count": 304
        }
      ]
    },
    {
      "cell_type": "markdown",
      "source": [
        "Using vader lexicon to assign a score for review text data and using it for prediction"
      ],
      "metadata": {
        "id": "Qmpvy3YGn1T6"
      },
      "id": "Qmpvy3YGn1T6"
    },
    {
      "cell_type": "code",
      "source": [
        "import nltk\n",
        "nltk.download('vader_lexicon')"
      ],
      "metadata": {
        "colab": {
          "base_uri": "https://localhost:8080/"
        },
        "id": "3laxIF6dhnR2",
        "outputId": "ca988bf1-495c-4797-f4b0-8d9454f7e745"
      },
      "id": "3laxIF6dhnR2",
      "execution_count": null,
      "outputs": [
        {
          "output_type": "stream",
          "name": "stderr",
          "text": [
            "[nltk_data] Downloading package vader_lexicon to /root/nltk_data...\n",
            "[nltk_data]   Package vader_lexicon is already up-to-date!\n"
          ]
        },
        {
          "output_type": "execute_result",
          "data": {
            "text/plain": [
              "True"
            ]
          },
          "metadata": {},
          "execution_count": 305
        }
      ]
    },
    {
      "cell_type": "code",
      "source": [
        "from nltk.sentiment.vader import SentimentIntensityAnalyzer\n",
        "sent = SentimentIntensityAnalyzer()\n",
        "\n",
        "polarity = [round(sent.polarity_scores(i)['compound'], 2) for i in dp['additional_comments']]\n",
        "dp['sentiment_score'] = polarity\n",
        "dp"
      ],
      "metadata": {
        "colab": {
          "base_uri": "https://localhost:8080/",
          "height": 887
        },
        "id": "GJTgzRHshcdp",
        "outputId": "95882bbd-4b48-4184-c38d-af3a2916d6a5"
      },
      "id": "GJTgzRHshcdp",
      "execution_count": null,
      "outputs": [
        {
          "output_type": "execute_result",
          "data": {
            "text/plain": [
              "      nps_score    nps_cat                   L1  \\\n",
              "0             7    Passive  Application Process   \n",
              "1             9   Promoter            Servicing   \n",
              "2             9   Promoter               Branch   \n",
              "3            10   Promoter        Communication   \n",
              "4             8    Passive            Servicing   \n",
              "...         ...        ...                  ...   \n",
              "6019          6  Detractor              Renewal   \n",
              "6020          9   Promoter      Medical Related   \n",
              "6021          9   Promoter                 Exit   \n",
              "6022          9   Promoter              Renewal   \n",
              "6023          4  Detractor                 Exit   \n",
              "\n",
              "                                                     L2  \\\n",
              "0                                   Document collection   \n",
              "1                                               Website   \n",
              "2                                             Behaviour   \n",
              "3     Premium Paid Certificate / Renewal Receipt / T...   \n",
              "4                                         Sales Related   \n",
              "...                                                 ...   \n",
              "6019                 Communication - SMS - Not Received   \n",
              "6020                                              Other   \n",
              "6021                                             Claims   \n",
              "6022                 Communication - SMS - Not Received   \n",
              "6023                         Payout related - Surrender   \n",
              "\n",
              "                                                     L3           sentiment  \\\n",
              "0                                                   NaN  Netural / Negative   \n",
              "1        Website Experience - Service options available            Positive   \n",
              "2                                    Operations related            Positive   \n",
              "3                                                 Email  Netural / Negative   \n",
              "4     Post Sales Support - No contact by Agent with ...            Positive   \n",
              "...                                                 ...                 ...   \n",
              "6019                                   Renewal reminder            Positive   \n",
              "6020                                                NaN            Positive   \n",
              "6021       Too much time taken to receive claims amount            Positive   \n",
              "6022             Payment confirmation / acknowledgement            Positive   \n",
              "6023        Low Surrender Value vs customer expectation  Netural / Negative   \n",
              "\n",
              "                                    additional_comments FAR closure_col  \\\n",
              "0      All the documents required for policy issuanc...  No         NaN   \n",
              "1      Customer: I like website services, it is user...  No         NaN   \n",
              "2      I am happy with your â€œAhmednagar,Maharashtr...  No         NaN   \n",
              "3      please send us our policy statements regularl...  No         NaN   \n",
              "4      the advisor service is good, very helpful, so...  No         NaN   \n",
              "...                                                 ...  ..         ...   \n",
              "6019  your service is good like I am getting premium...  No         NaN   \n",
              "6020  Your service is good like post issuance medica...  No         NaN   \n",
              "6021  your service is prompt like we had claim and i...  No         NaN   \n",
              "6022  Your services are good like after paid the pre...  No         NaN   \n",
              "6023  Your surrender charges is so high so even not ...  No         NaN   \n",
              "\n",
              "     Transaction Type  Transaction Branch Source of Feedback Sales Channel  \\\n",
              "0          Onboarding                 NaN        Direct Call            DM   \n",
              "1          Onboarding                 NaN        Direct Call           TPD   \n",
              "2              ONLINE               132.0        Direct Call           DSF   \n",
              "3              ONLINE               886.0        Direct Call           DSF   \n",
              "4     Renewal Premium               950.0        Direct Call           DSF   \n",
              "...               ...                 ...                ...           ...   \n",
              "6019  Renewal Premium               135.0        Direct Call           DSF   \n",
              "6020  Renewal Premium               629.0        Direct Call           DSF   \n",
              "6021           ONLINE                 NaN        Direct Call           TPD   \n",
              "6022  Renewal Premium               969.0        Direct Call           DSF   \n",
              "6023           ONLINE                 NaN        Direct Call           TPD   \n",
              "\n",
              "     DSF NewZone      DSF NewReg  sentiment_score  \n",
              "0            NaN             NaN             0.00  \n",
              "1              0               0             0.69  \n",
              "2         West-1    Pune  Region             0.89  \n",
              "3        North-2   Kanpur region             0.64  \n",
              "4        North-1   Jaipur Region             0.79  \n",
              "...          ...             ...              ...  \n",
              "6019      West-1    Pune  Region             0.81  \n",
              "6020     Central  Indore  Region             0.81  \n",
              "6021           0               0             0.36  \n",
              "6022     North-1   Jaipur Region             0.81  \n",
              "6023           0               0            -0.27  \n",
              "\n",
              "[6024 rows x 16 columns]"
            ],
            "text/html": [
              "\n",
              "  <div id=\"df-04e642df-187a-40d8-9c81-a911f06dd115\">\n",
              "    <div class=\"colab-df-container\">\n",
              "      <div>\n",
              "<style scoped>\n",
              "    .dataframe tbody tr th:only-of-type {\n",
              "        vertical-align: middle;\n",
              "    }\n",
              "\n",
              "    .dataframe tbody tr th {\n",
              "        vertical-align: top;\n",
              "    }\n",
              "\n",
              "    .dataframe thead th {\n",
              "        text-align: right;\n",
              "    }\n",
              "</style>\n",
              "<table border=\"1\" class=\"dataframe\">\n",
              "  <thead>\n",
              "    <tr style=\"text-align: right;\">\n",
              "      <th></th>\n",
              "      <th>nps_score</th>\n",
              "      <th>nps_cat</th>\n",
              "      <th>L1</th>\n",
              "      <th>L2</th>\n",
              "      <th>L3</th>\n",
              "      <th>sentiment</th>\n",
              "      <th>additional_comments</th>\n",
              "      <th>FAR</th>\n",
              "      <th>closure_col</th>\n",
              "      <th>Transaction Type</th>\n",
              "      <th>Transaction Branch</th>\n",
              "      <th>Source of Feedback</th>\n",
              "      <th>Sales Channel</th>\n",
              "      <th>DSF NewZone</th>\n",
              "      <th>DSF NewReg</th>\n",
              "      <th>sentiment_score</th>\n",
              "    </tr>\n",
              "  </thead>\n",
              "  <tbody>\n",
              "    <tr>\n",
              "      <th>0</th>\n",
              "      <td>7</td>\n",
              "      <td>Passive</td>\n",
              "      <td>Application Process</td>\n",
              "      <td>Document collection</td>\n",
              "      <td>NaN</td>\n",
              "      <td>Netural / Negative</td>\n",
              "      <td>All the documents required for policy issuanc...</td>\n",
              "      <td>No</td>\n",
              "      <td>NaN</td>\n",
              "      <td>Onboarding</td>\n",
              "      <td>NaN</td>\n",
              "      <td>Direct Call</td>\n",
              "      <td>DM</td>\n",
              "      <td>NaN</td>\n",
              "      <td>NaN</td>\n",
              "      <td>0.00</td>\n",
              "    </tr>\n",
              "    <tr>\n",
              "      <th>1</th>\n",
              "      <td>9</td>\n",
              "      <td>Promoter</td>\n",
              "      <td>Servicing</td>\n",
              "      <td>Website</td>\n",
              "      <td>Website Experience - Service options available</td>\n",
              "      <td>Positive</td>\n",
              "      <td>Customer: I like website services, it is user...</td>\n",
              "      <td>No</td>\n",
              "      <td>NaN</td>\n",
              "      <td>Onboarding</td>\n",
              "      <td>NaN</td>\n",
              "      <td>Direct Call</td>\n",
              "      <td>TPD</td>\n",
              "      <td>0</td>\n",
              "      <td>0</td>\n",
              "      <td>0.69</td>\n",
              "    </tr>\n",
              "    <tr>\n",
              "      <th>2</th>\n",
              "      <td>9</td>\n",
              "      <td>Promoter</td>\n",
              "      <td>Branch</td>\n",
              "      <td>Behaviour</td>\n",
              "      <td>Operations related</td>\n",
              "      <td>Positive</td>\n",
              "      <td>I am happy with your â€œAhmednagar,Maharashtr...</td>\n",
              "      <td>No</td>\n",
              "      <td>NaN</td>\n",
              "      <td>ONLINE</td>\n",
              "      <td>132.0</td>\n",
              "      <td>Direct Call</td>\n",
              "      <td>DSF</td>\n",
              "      <td>West-1</td>\n",
              "      <td>Pune  Region</td>\n",
              "      <td>0.89</td>\n",
              "    </tr>\n",
              "    <tr>\n",
              "      <th>3</th>\n",
              "      <td>10</td>\n",
              "      <td>Promoter</td>\n",
              "      <td>Communication</td>\n",
              "      <td>Premium Paid Certificate / Renewal Receipt / T...</td>\n",
              "      <td>Email</td>\n",
              "      <td>Netural / Negative</td>\n",
              "      <td>please send us our policy statements regularl...</td>\n",
              "      <td>No</td>\n",
              "      <td>NaN</td>\n",
              "      <td>ONLINE</td>\n",
              "      <td>886.0</td>\n",
              "      <td>Direct Call</td>\n",
              "      <td>DSF</td>\n",
              "      <td>North-2</td>\n",
              "      <td>Kanpur region</td>\n",
              "      <td>0.64</td>\n",
              "    </tr>\n",
              "    <tr>\n",
              "      <th>4</th>\n",
              "      <td>8</td>\n",
              "      <td>Passive</td>\n",
              "      <td>Servicing</td>\n",
              "      <td>Sales Related</td>\n",
              "      <td>Post Sales Support - No contact by Agent with ...</td>\n",
              "      <td>Positive</td>\n",
              "      <td>the advisor service is good, very helpful, so...</td>\n",
              "      <td>No</td>\n",
              "      <td>NaN</td>\n",
              "      <td>Renewal Premium</td>\n",
              "      <td>950.0</td>\n",
              "      <td>Direct Call</td>\n",
              "      <td>DSF</td>\n",
              "      <td>North-1</td>\n",
              "      <td>Jaipur Region</td>\n",
              "      <td>0.79</td>\n",
              "    </tr>\n",
              "    <tr>\n",
              "      <th>...</th>\n",
              "      <td>...</td>\n",
              "      <td>...</td>\n",
              "      <td>...</td>\n",
              "      <td>...</td>\n",
              "      <td>...</td>\n",
              "      <td>...</td>\n",
              "      <td>...</td>\n",
              "      <td>...</td>\n",
              "      <td>...</td>\n",
              "      <td>...</td>\n",
              "      <td>...</td>\n",
              "      <td>...</td>\n",
              "      <td>...</td>\n",
              "      <td>...</td>\n",
              "      <td>...</td>\n",
              "      <td>...</td>\n",
              "    </tr>\n",
              "    <tr>\n",
              "      <th>6019</th>\n",
              "      <td>6</td>\n",
              "      <td>Detractor</td>\n",
              "      <td>Renewal</td>\n",
              "      <td>Communication - SMS - Not Received</td>\n",
              "      <td>Renewal reminder</td>\n",
              "      <td>Positive</td>\n",
              "      <td>your service is good like I am getting premium...</td>\n",
              "      <td>No</td>\n",
              "      <td>NaN</td>\n",
              "      <td>Renewal Premium</td>\n",
              "      <td>135.0</td>\n",
              "      <td>Direct Call</td>\n",
              "      <td>DSF</td>\n",
              "      <td>West-1</td>\n",
              "      <td>Pune  Region</td>\n",
              "      <td>0.81</td>\n",
              "    </tr>\n",
              "    <tr>\n",
              "      <th>6020</th>\n",
              "      <td>9</td>\n",
              "      <td>Promoter</td>\n",
              "      <td>Medical Related</td>\n",
              "      <td>Other</td>\n",
              "      <td>NaN</td>\n",
              "      <td>Positive</td>\n",
              "      <td>Your service is good like post issuance medica...</td>\n",
              "      <td>No</td>\n",
              "      <td>NaN</td>\n",
              "      <td>Renewal Premium</td>\n",
              "      <td>629.0</td>\n",
              "      <td>Direct Call</td>\n",
              "      <td>DSF</td>\n",
              "      <td>Central</td>\n",
              "      <td>Indore  Region</td>\n",
              "      <td>0.81</td>\n",
              "    </tr>\n",
              "    <tr>\n",
              "      <th>6021</th>\n",
              "      <td>9</td>\n",
              "      <td>Promoter</td>\n",
              "      <td>Exit</td>\n",
              "      <td>Claims</td>\n",
              "      <td>Too much time taken to receive claims amount</td>\n",
              "      <td>Positive</td>\n",
              "      <td>your service is prompt like we had claim and i...</td>\n",
              "      <td>No</td>\n",
              "      <td>NaN</td>\n",
              "      <td>ONLINE</td>\n",
              "      <td>NaN</td>\n",
              "      <td>Direct Call</td>\n",
              "      <td>TPD</td>\n",
              "      <td>0</td>\n",
              "      <td>0</td>\n",
              "      <td>0.36</td>\n",
              "    </tr>\n",
              "    <tr>\n",
              "      <th>6022</th>\n",
              "      <td>9</td>\n",
              "      <td>Promoter</td>\n",
              "      <td>Renewal</td>\n",
              "      <td>Communication - SMS - Not Received</td>\n",
              "      <td>Payment confirmation / acknowledgement</td>\n",
              "      <td>Positive</td>\n",
              "      <td>Your services are good like after paid the pre...</td>\n",
              "      <td>No</td>\n",
              "      <td>NaN</td>\n",
              "      <td>Renewal Premium</td>\n",
              "      <td>969.0</td>\n",
              "      <td>Direct Call</td>\n",
              "      <td>DSF</td>\n",
              "      <td>North-1</td>\n",
              "      <td>Jaipur Region</td>\n",
              "      <td>0.81</td>\n",
              "    </tr>\n",
              "    <tr>\n",
              "      <th>6023</th>\n",
              "      <td>4</td>\n",
              "      <td>Detractor</td>\n",
              "      <td>Exit</td>\n",
              "      <td>Payout related - Surrender</td>\n",
              "      <td>Low Surrender Value vs customer expectation</td>\n",
              "      <td>Netural / Negative</td>\n",
              "      <td>Your surrender charges is so high so even not ...</td>\n",
              "      <td>No</td>\n",
              "      <td>NaN</td>\n",
              "      <td>ONLINE</td>\n",
              "      <td>NaN</td>\n",
              "      <td>Direct Call</td>\n",
              "      <td>TPD</td>\n",
              "      <td>0</td>\n",
              "      <td>0</td>\n",
              "      <td>-0.27</td>\n",
              "    </tr>\n",
              "  </tbody>\n",
              "</table>\n",
              "<p>6024 rows × 16 columns</p>\n",
              "</div>\n",
              "      <button class=\"colab-df-convert\" onclick=\"convertToInteractive('df-04e642df-187a-40d8-9c81-a911f06dd115')\"\n",
              "              title=\"Convert this dataframe to an interactive table.\"\n",
              "              style=\"display:none;\">\n",
              "        \n",
              "  <svg xmlns=\"http://www.w3.org/2000/svg\" height=\"24px\"viewBox=\"0 0 24 24\"\n",
              "       width=\"24px\">\n",
              "    <path d=\"M0 0h24v24H0V0z\" fill=\"none\"/>\n",
              "    <path d=\"M18.56 5.44l.94 2.06.94-2.06 2.06-.94-2.06-.94-.94-2.06-.94 2.06-2.06.94zm-11 1L8.5 8.5l.94-2.06 2.06-.94-2.06-.94L8.5 2.5l-.94 2.06-2.06.94zm10 10l.94 2.06.94-2.06 2.06-.94-2.06-.94-.94-2.06-.94 2.06-2.06.94z\"/><path d=\"M17.41 7.96l-1.37-1.37c-.4-.4-.92-.59-1.43-.59-.52 0-1.04.2-1.43.59L10.3 9.45l-7.72 7.72c-.78.78-.78 2.05 0 2.83L4 21.41c.39.39.9.59 1.41.59.51 0 1.02-.2 1.41-.59l7.78-7.78 2.81-2.81c.8-.78.8-2.07 0-2.86zM5.41 20L4 18.59l7.72-7.72 1.47 1.35L5.41 20z\"/>\n",
              "  </svg>\n",
              "      </button>\n",
              "      \n",
              "  <style>\n",
              "    .colab-df-container {\n",
              "      display:flex;\n",
              "      flex-wrap:wrap;\n",
              "      gap: 12px;\n",
              "    }\n",
              "\n",
              "    .colab-df-convert {\n",
              "      background-color: #E8F0FE;\n",
              "      border: none;\n",
              "      border-radius: 50%;\n",
              "      cursor: pointer;\n",
              "      display: none;\n",
              "      fill: #1967D2;\n",
              "      height: 32px;\n",
              "      padding: 0 0 0 0;\n",
              "      width: 32px;\n",
              "    }\n",
              "\n",
              "    .colab-df-convert:hover {\n",
              "      background-color: #E2EBFA;\n",
              "      box-shadow: 0px 1px 2px rgba(60, 64, 67, 0.3), 0px 1px 3px 1px rgba(60, 64, 67, 0.15);\n",
              "      fill: #174EA6;\n",
              "    }\n",
              "\n",
              "    [theme=dark] .colab-df-convert {\n",
              "      background-color: #3B4455;\n",
              "      fill: #D2E3FC;\n",
              "    }\n",
              "\n",
              "    [theme=dark] .colab-df-convert:hover {\n",
              "      background-color: #434B5C;\n",
              "      box-shadow: 0px 1px 3px 1px rgba(0, 0, 0, 0.15);\n",
              "      filter: drop-shadow(0px 1px 2px rgba(0, 0, 0, 0.3));\n",
              "      fill: #FFFFFF;\n",
              "    }\n",
              "  </style>\n",
              "\n",
              "      <script>\n",
              "        const buttonEl =\n",
              "          document.querySelector('#df-04e642df-187a-40d8-9c81-a911f06dd115 button.colab-df-convert');\n",
              "        buttonEl.style.display =\n",
              "          google.colab.kernel.accessAllowed ? 'block' : 'none';\n",
              "\n",
              "        async function convertToInteractive(key) {\n",
              "          const element = document.querySelector('#df-04e642df-187a-40d8-9c81-a911f06dd115');\n",
              "          const dataTable =\n",
              "            await google.colab.kernel.invokeFunction('convertToInteractive',\n",
              "                                                     [key], {});\n",
              "          if (!dataTable) return;\n",
              "\n",
              "          const docLinkHtml = 'Like what you see? Visit the ' +\n",
              "            '<a target=\"_blank\" href=https://colab.research.google.com/notebooks/data_table.ipynb>data table notebook</a>'\n",
              "            + ' to learn more about interactive tables.';\n",
              "          element.innerHTML = '';\n",
              "          dataTable['output_type'] = 'display_data';\n",
              "          await google.colab.output.renderOutput(dataTable, element);\n",
              "          const docLink = document.createElement('div');\n",
              "          docLink.innerHTML = docLinkHtml;\n",
              "          element.appendChild(docLink);\n",
              "        }\n",
              "      </script>\n",
              "    </div>\n",
              "  </div>\n",
              "  "
            ]
          },
          "metadata": {},
          "execution_count": 306
        }
      ]
    },
    {
      "cell_type": "code",
      "source": [
        "x[\"senti_score\"]=dp.sentiment_score"
      ],
      "metadata": {
        "id": "TgQp2pvwhcYD"
      },
      "id": "TgQp2pvwhcYD",
      "execution_count": null,
      "outputs": []
    },
    {
      "cell_type": "code",
      "source": [
        "y=dp.nps_score"
      ],
      "metadata": {
        "id": "wAi9WxgFhcSJ"
      },
      "id": "wAi9WxgFhcSJ",
      "execution_count": null,
      "outputs": []
    },
    {
      "cell_type": "code",
      "source": [
        "x"
      ],
      "metadata": {
        "colab": {
          "base_uri": "https://localhost:8080/",
          "height": 424
        },
        "id": "oEFPt_mohcMX",
        "outputId": "a39249cf-86a8-43da-8b60-bbe516a2e239"
      },
      "id": "oEFPt_mohcMX",
      "execution_count": null,
      "outputs": [
        {
          "output_type": "execute_result",
          "data": {
            "text/plain": [
              "      nps_cat  L1   L2   L3  sentiment  FAR  senti_score\n",
              "0           1   1   55  235          0    0         0.00\n",
              "1           2  27  160  228          1    0         0.69\n",
              "2           2   2    7  147          1    0         0.89\n",
              "3           2   7  127   94          0    0         0.64\n",
              "4           1  27  142  177          1    0         0.79\n",
              "...       ...  ..  ...  ...        ...  ...          ...\n",
              "6019        0  23   38  194          1    0         0.81\n",
              "6020        2  17  100  235          1    0         0.81\n",
              "6021        2  12   21  219          1    0         0.36\n",
              "6022        2  23   38  156          1    0         0.81\n",
              "6023        0  12  113  122          0    0        -0.27\n",
              "\n",
              "[6024 rows x 7 columns]"
            ],
            "text/html": [
              "\n",
              "  <div id=\"df-e7dfd001-d230-4bfb-95c4-39a3ef72fa38\">\n",
              "    <div class=\"colab-df-container\">\n",
              "      <div>\n",
              "<style scoped>\n",
              "    .dataframe tbody tr th:only-of-type {\n",
              "        vertical-align: middle;\n",
              "    }\n",
              "\n",
              "    .dataframe tbody tr th {\n",
              "        vertical-align: top;\n",
              "    }\n",
              "\n",
              "    .dataframe thead th {\n",
              "        text-align: right;\n",
              "    }\n",
              "</style>\n",
              "<table border=\"1\" class=\"dataframe\">\n",
              "  <thead>\n",
              "    <tr style=\"text-align: right;\">\n",
              "      <th></th>\n",
              "      <th>nps_cat</th>\n",
              "      <th>L1</th>\n",
              "      <th>L2</th>\n",
              "      <th>L3</th>\n",
              "      <th>sentiment</th>\n",
              "      <th>FAR</th>\n",
              "      <th>senti_score</th>\n",
              "    </tr>\n",
              "  </thead>\n",
              "  <tbody>\n",
              "    <tr>\n",
              "      <th>0</th>\n",
              "      <td>1</td>\n",
              "      <td>1</td>\n",
              "      <td>55</td>\n",
              "      <td>235</td>\n",
              "      <td>0</td>\n",
              "      <td>0</td>\n",
              "      <td>0.00</td>\n",
              "    </tr>\n",
              "    <tr>\n",
              "      <th>1</th>\n",
              "      <td>2</td>\n",
              "      <td>27</td>\n",
              "      <td>160</td>\n",
              "      <td>228</td>\n",
              "      <td>1</td>\n",
              "      <td>0</td>\n",
              "      <td>0.69</td>\n",
              "    </tr>\n",
              "    <tr>\n",
              "      <th>2</th>\n",
              "      <td>2</td>\n",
              "      <td>2</td>\n",
              "      <td>7</td>\n",
              "      <td>147</td>\n",
              "      <td>1</td>\n",
              "      <td>0</td>\n",
              "      <td>0.89</td>\n",
              "    </tr>\n",
              "    <tr>\n",
              "      <th>3</th>\n",
              "      <td>2</td>\n",
              "      <td>7</td>\n",
              "      <td>127</td>\n",
              "      <td>94</td>\n",
              "      <td>0</td>\n",
              "      <td>0</td>\n",
              "      <td>0.64</td>\n",
              "    </tr>\n",
              "    <tr>\n",
              "      <th>4</th>\n",
              "      <td>1</td>\n",
              "      <td>27</td>\n",
              "      <td>142</td>\n",
              "      <td>177</td>\n",
              "      <td>1</td>\n",
              "      <td>0</td>\n",
              "      <td>0.79</td>\n",
              "    </tr>\n",
              "    <tr>\n",
              "      <th>...</th>\n",
              "      <td>...</td>\n",
              "      <td>...</td>\n",
              "      <td>...</td>\n",
              "      <td>...</td>\n",
              "      <td>...</td>\n",
              "      <td>...</td>\n",
              "      <td>...</td>\n",
              "    </tr>\n",
              "    <tr>\n",
              "      <th>6019</th>\n",
              "      <td>0</td>\n",
              "      <td>23</td>\n",
              "      <td>38</td>\n",
              "      <td>194</td>\n",
              "      <td>1</td>\n",
              "      <td>0</td>\n",
              "      <td>0.81</td>\n",
              "    </tr>\n",
              "    <tr>\n",
              "      <th>6020</th>\n",
              "      <td>2</td>\n",
              "      <td>17</td>\n",
              "      <td>100</td>\n",
              "      <td>235</td>\n",
              "      <td>1</td>\n",
              "      <td>0</td>\n",
              "      <td>0.81</td>\n",
              "    </tr>\n",
              "    <tr>\n",
              "      <th>6021</th>\n",
              "      <td>2</td>\n",
              "      <td>12</td>\n",
              "      <td>21</td>\n",
              "      <td>219</td>\n",
              "      <td>1</td>\n",
              "      <td>0</td>\n",
              "      <td>0.36</td>\n",
              "    </tr>\n",
              "    <tr>\n",
              "      <th>6022</th>\n",
              "      <td>2</td>\n",
              "      <td>23</td>\n",
              "      <td>38</td>\n",
              "      <td>156</td>\n",
              "      <td>1</td>\n",
              "      <td>0</td>\n",
              "      <td>0.81</td>\n",
              "    </tr>\n",
              "    <tr>\n",
              "      <th>6023</th>\n",
              "      <td>0</td>\n",
              "      <td>12</td>\n",
              "      <td>113</td>\n",
              "      <td>122</td>\n",
              "      <td>0</td>\n",
              "      <td>0</td>\n",
              "      <td>-0.27</td>\n",
              "    </tr>\n",
              "  </tbody>\n",
              "</table>\n",
              "<p>6024 rows × 7 columns</p>\n",
              "</div>\n",
              "      <button class=\"colab-df-convert\" onclick=\"convertToInteractive('df-e7dfd001-d230-4bfb-95c4-39a3ef72fa38')\"\n",
              "              title=\"Convert this dataframe to an interactive table.\"\n",
              "              style=\"display:none;\">\n",
              "        \n",
              "  <svg xmlns=\"http://www.w3.org/2000/svg\" height=\"24px\"viewBox=\"0 0 24 24\"\n",
              "       width=\"24px\">\n",
              "    <path d=\"M0 0h24v24H0V0z\" fill=\"none\"/>\n",
              "    <path d=\"M18.56 5.44l.94 2.06.94-2.06 2.06-.94-2.06-.94-.94-2.06-.94 2.06-2.06.94zm-11 1L8.5 8.5l.94-2.06 2.06-.94-2.06-.94L8.5 2.5l-.94 2.06-2.06.94zm10 10l.94 2.06.94-2.06 2.06-.94-2.06-.94-.94-2.06-.94 2.06-2.06.94z\"/><path d=\"M17.41 7.96l-1.37-1.37c-.4-.4-.92-.59-1.43-.59-.52 0-1.04.2-1.43.59L10.3 9.45l-7.72 7.72c-.78.78-.78 2.05 0 2.83L4 21.41c.39.39.9.59 1.41.59.51 0 1.02-.2 1.41-.59l7.78-7.78 2.81-2.81c.8-.78.8-2.07 0-2.86zM5.41 20L4 18.59l7.72-7.72 1.47 1.35L5.41 20z\"/>\n",
              "  </svg>\n",
              "      </button>\n",
              "      \n",
              "  <style>\n",
              "    .colab-df-container {\n",
              "      display:flex;\n",
              "      flex-wrap:wrap;\n",
              "      gap: 12px;\n",
              "    }\n",
              "\n",
              "    .colab-df-convert {\n",
              "      background-color: #E8F0FE;\n",
              "      border: none;\n",
              "      border-radius: 50%;\n",
              "      cursor: pointer;\n",
              "      display: none;\n",
              "      fill: #1967D2;\n",
              "      height: 32px;\n",
              "      padding: 0 0 0 0;\n",
              "      width: 32px;\n",
              "    }\n",
              "\n",
              "    .colab-df-convert:hover {\n",
              "      background-color: #E2EBFA;\n",
              "      box-shadow: 0px 1px 2px rgba(60, 64, 67, 0.3), 0px 1px 3px 1px rgba(60, 64, 67, 0.15);\n",
              "      fill: #174EA6;\n",
              "    }\n",
              "\n",
              "    [theme=dark] .colab-df-convert {\n",
              "      background-color: #3B4455;\n",
              "      fill: #D2E3FC;\n",
              "    }\n",
              "\n",
              "    [theme=dark] .colab-df-convert:hover {\n",
              "      background-color: #434B5C;\n",
              "      box-shadow: 0px 1px 3px 1px rgba(0, 0, 0, 0.15);\n",
              "      filter: drop-shadow(0px 1px 2px rgba(0, 0, 0, 0.3));\n",
              "      fill: #FFFFFF;\n",
              "    }\n",
              "  </style>\n",
              "\n",
              "      <script>\n",
              "        const buttonEl =\n",
              "          document.querySelector('#df-e7dfd001-d230-4bfb-95c4-39a3ef72fa38 button.colab-df-convert');\n",
              "        buttonEl.style.display =\n",
              "          google.colab.kernel.accessAllowed ? 'block' : 'none';\n",
              "\n",
              "        async function convertToInteractive(key) {\n",
              "          const element = document.querySelector('#df-e7dfd001-d230-4bfb-95c4-39a3ef72fa38');\n",
              "          const dataTable =\n",
              "            await google.colab.kernel.invokeFunction('convertToInteractive',\n",
              "                                                     [key], {});\n",
              "          if (!dataTable) return;\n",
              "\n",
              "          const docLinkHtml = 'Like what you see? Visit the ' +\n",
              "            '<a target=\"_blank\" href=https://colab.research.google.com/notebooks/data_table.ipynb>data table notebook</a>'\n",
              "            + ' to learn more about interactive tables.';\n",
              "          element.innerHTML = '';\n",
              "          dataTable['output_type'] = 'display_data';\n",
              "          await google.colab.output.renderOutput(dataTable, element);\n",
              "          const docLink = document.createElement('div');\n",
              "          docLink.innerHTML = docLinkHtml;\n",
              "          element.appendChild(docLink);\n",
              "        }\n",
              "      </script>\n",
              "    </div>\n",
              "  </div>\n",
              "  "
            ]
          },
          "metadata": {},
          "execution_count": 309
        }
      ]
    },
    {
      "cell_type": "code",
      "source": [
        "from sklearn.model_selection import train_test_split\n",
        "X_train0, X_test0, y_train0, y_test0 = train_test_split(x, y, test_size=0.33, random_state=42)"
      ],
      "metadata": {
        "id": "5ipZYSnLhcHI"
      },
      "id": "5ipZYSnLhcHI",
      "execution_count": null,
      "outputs": []
    },
    {
      "cell_type": "markdown",
      "source": [
        "Using random forest for predicting NPS score"
      ],
      "metadata": {
        "id": "KH79DzKAoJWF"
      },
      "id": "KH79DzKAoJWF"
    },
    {
      "cell_type": "code",
      "source": [
        "from sklearn.ensemble import RandomForestClassifier\n",
        "from sklearn.metrics import accuracy_score\n",
        "\n",
        "rf = RandomForestClassifier(max_depth=10, random_state=10)\n",
        "rf.fit(X_train0, y_train0) \n",
        "y_pred_rf0=rf.predict(X_test0)\n",
        "acc0=accuracy_score(y_pred_rf0,y_test0)\n",
        "acc0"
      ],
      "metadata": {
        "colab": {
          "base_uri": "https://localhost:8080/"
        },
        "id": "b_tWOSPBhcBU",
        "outputId": "cb8b2e7a-92d2-4cfb-d61e-1c9af5838dc4"
      },
      "id": "b_tWOSPBhcBU",
      "execution_count": null,
      "outputs": [
        {
          "output_type": "execute_result",
          "data": {
            "text/plain": [
              "0.5513078470824949"
            ]
          },
          "metadata": {},
          "execution_count": 311
        }
      ]
    },
    {
      "cell_type": "code",
      "source": [
        "x[\"nps_cat\"] = x[\"nps_cat\"] /x[\"nps_cat\"].abs().max()\n",
        "x[\"L1\"] = x[\"L1\"] /x[\"L1\"].abs().max()\n",
        "x[\"L2\"] = x[\"L2\"] /x[\"L2\"].abs().max()\n",
        "x[\"L3\"] = x[\"L3\"] /x[\"L3\"].abs().max()\n",
        "x[\"FAR\"] = x[\"FAR\"] /x[\"FAR\"].abs().max()"
      ],
      "metadata": {
        "id": "MDIfgmdghb60"
      },
      "id": "MDIfgmdghb60",
      "execution_count": null,
      "outputs": []
    },
    {
      "cell_type": "code",
      "source": [
        "x"
      ],
      "metadata": {
        "colab": {
          "base_uri": "https://localhost:8080/",
          "height": 424
        },
        "id": "3S7iYhuMh4a3",
        "outputId": "e8fca978-a531-4fe3-aebd-59de80fe8051"
      },
      "id": "3S7iYhuMh4a3",
      "execution_count": null,
      "outputs": [
        {
          "output_type": "execute_result",
          "data": {
            "text/plain": [
              "      nps_cat        L1        L2        L3  sentiment  FAR  senti_score\n",
              "0         0.5  0.034483  0.333333  1.000000          0  0.0         0.00\n",
              "1         1.0  0.931034  0.969697  0.970213          1  0.0         0.69\n",
              "2         1.0  0.068966  0.042424  0.625532          1  0.0         0.89\n",
              "3         1.0  0.241379  0.769697  0.400000          0  0.0         0.64\n",
              "4         0.5  0.931034  0.860606  0.753191          1  0.0         0.79\n",
              "...       ...       ...       ...       ...        ...  ...          ...\n",
              "6019      0.0  0.793103  0.230303  0.825532          1  0.0         0.81\n",
              "6020      1.0  0.586207  0.606061  1.000000          1  0.0         0.81\n",
              "6021      1.0  0.413793  0.127273  0.931915          1  0.0         0.36\n",
              "6022      1.0  0.793103  0.230303  0.663830          1  0.0         0.81\n",
              "6023      0.0  0.413793  0.684848  0.519149          0  0.0        -0.27\n",
              "\n",
              "[6024 rows x 7 columns]"
            ],
            "text/html": [
              "\n",
              "  <div id=\"df-68d6c940-b0d6-4ff2-b980-6299a5ec40a4\">\n",
              "    <div class=\"colab-df-container\">\n",
              "      <div>\n",
              "<style scoped>\n",
              "    .dataframe tbody tr th:only-of-type {\n",
              "        vertical-align: middle;\n",
              "    }\n",
              "\n",
              "    .dataframe tbody tr th {\n",
              "        vertical-align: top;\n",
              "    }\n",
              "\n",
              "    .dataframe thead th {\n",
              "        text-align: right;\n",
              "    }\n",
              "</style>\n",
              "<table border=\"1\" class=\"dataframe\">\n",
              "  <thead>\n",
              "    <tr style=\"text-align: right;\">\n",
              "      <th></th>\n",
              "      <th>nps_cat</th>\n",
              "      <th>L1</th>\n",
              "      <th>L2</th>\n",
              "      <th>L3</th>\n",
              "      <th>sentiment</th>\n",
              "      <th>FAR</th>\n",
              "      <th>senti_score</th>\n",
              "    </tr>\n",
              "  </thead>\n",
              "  <tbody>\n",
              "    <tr>\n",
              "      <th>0</th>\n",
              "      <td>0.5</td>\n",
              "      <td>0.034483</td>\n",
              "      <td>0.333333</td>\n",
              "      <td>1.000000</td>\n",
              "      <td>0</td>\n",
              "      <td>0.0</td>\n",
              "      <td>0.00</td>\n",
              "    </tr>\n",
              "    <tr>\n",
              "      <th>1</th>\n",
              "      <td>1.0</td>\n",
              "      <td>0.931034</td>\n",
              "      <td>0.969697</td>\n",
              "      <td>0.970213</td>\n",
              "      <td>1</td>\n",
              "      <td>0.0</td>\n",
              "      <td>0.69</td>\n",
              "    </tr>\n",
              "    <tr>\n",
              "      <th>2</th>\n",
              "      <td>1.0</td>\n",
              "      <td>0.068966</td>\n",
              "      <td>0.042424</td>\n",
              "      <td>0.625532</td>\n",
              "      <td>1</td>\n",
              "      <td>0.0</td>\n",
              "      <td>0.89</td>\n",
              "    </tr>\n",
              "    <tr>\n",
              "      <th>3</th>\n",
              "      <td>1.0</td>\n",
              "      <td>0.241379</td>\n",
              "      <td>0.769697</td>\n",
              "      <td>0.400000</td>\n",
              "      <td>0</td>\n",
              "      <td>0.0</td>\n",
              "      <td>0.64</td>\n",
              "    </tr>\n",
              "    <tr>\n",
              "      <th>4</th>\n",
              "      <td>0.5</td>\n",
              "      <td>0.931034</td>\n",
              "      <td>0.860606</td>\n",
              "      <td>0.753191</td>\n",
              "      <td>1</td>\n",
              "      <td>0.0</td>\n",
              "      <td>0.79</td>\n",
              "    </tr>\n",
              "    <tr>\n",
              "      <th>...</th>\n",
              "      <td>...</td>\n",
              "      <td>...</td>\n",
              "      <td>...</td>\n",
              "      <td>...</td>\n",
              "      <td>...</td>\n",
              "      <td>...</td>\n",
              "      <td>...</td>\n",
              "    </tr>\n",
              "    <tr>\n",
              "      <th>6019</th>\n",
              "      <td>0.0</td>\n",
              "      <td>0.793103</td>\n",
              "      <td>0.230303</td>\n",
              "      <td>0.825532</td>\n",
              "      <td>1</td>\n",
              "      <td>0.0</td>\n",
              "      <td>0.81</td>\n",
              "    </tr>\n",
              "    <tr>\n",
              "      <th>6020</th>\n",
              "      <td>1.0</td>\n",
              "      <td>0.586207</td>\n",
              "      <td>0.606061</td>\n",
              "      <td>1.000000</td>\n",
              "      <td>1</td>\n",
              "      <td>0.0</td>\n",
              "      <td>0.81</td>\n",
              "    </tr>\n",
              "    <tr>\n",
              "      <th>6021</th>\n",
              "      <td>1.0</td>\n",
              "      <td>0.413793</td>\n",
              "      <td>0.127273</td>\n",
              "      <td>0.931915</td>\n",
              "      <td>1</td>\n",
              "      <td>0.0</td>\n",
              "      <td>0.36</td>\n",
              "    </tr>\n",
              "    <tr>\n",
              "      <th>6022</th>\n",
              "      <td>1.0</td>\n",
              "      <td>0.793103</td>\n",
              "      <td>0.230303</td>\n",
              "      <td>0.663830</td>\n",
              "      <td>1</td>\n",
              "      <td>0.0</td>\n",
              "      <td>0.81</td>\n",
              "    </tr>\n",
              "    <tr>\n",
              "      <th>6023</th>\n",
              "      <td>0.0</td>\n",
              "      <td>0.413793</td>\n",
              "      <td>0.684848</td>\n",
              "      <td>0.519149</td>\n",
              "      <td>0</td>\n",
              "      <td>0.0</td>\n",
              "      <td>-0.27</td>\n",
              "    </tr>\n",
              "  </tbody>\n",
              "</table>\n",
              "<p>6024 rows × 7 columns</p>\n",
              "</div>\n",
              "      <button class=\"colab-df-convert\" onclick=\"convertToInteractive('df-68d6c940-b0d6-4ff2-b980-6299a5ec40a4')\"\n",
              "              title=\"Convert this dataframe to an interactive table.\"\n",
              "              style=\"display:none;\">\n",
              "        \n",
              "  <svg xmlns=\"http://www.w3.org/2000/svg\" height=\"24px\"viewBox=\"0 0 24 24\"\n",
              "       width=\"24px\">\n",
              "    <path d=\"M0 0h24v24H0V0z\" fill=\"none\"/>\n",
              "    <path d=\"M18.56 5.44l.94 2.06.94-2.06 2.06-.94-2.06-.94-.94-2.06-.94 2.06-2.06.94zm-11 1L8.5 8.5l.94-2.06 2.06-.94-2.06-.94L8.5 2.5l-.94 2.06-2.06.94zm10 10l.94 2.06.94-2.06 2.06-.94-2.06-.94-.94-2.06-.94 2.06-2.06.94z\"/><path d=\"M17.41 7.96l-1.37-1.37c-.4-.4-.92-.59-1.43-.59-.52 0-1.04.2-1.43.59L10.3 9.45l-7.72 7.72c-.78.78-.78 2.05 0 2.83L4 21.41c.39.39.9.59 1.41.59.51 0 1.02-.2 1.41-.59l7.78-7.78 2.81-2.81c.8-.78.8-2.07 0-2.86zM5.41 20L4 18.59l7.72-7.72 1.47 1.35L5.41 20z\"/>\n",
              "  </svg>\n",
              "      </button>\n",
              "      \n",
              "  <style>\n",
              "    .colab-df-container {\n",
              "      display:flex;\n",
              "      flex-wrap:wrap;\n",
              "      gap: 12px;\n",
              "    }\n",
              "\n",
              "    .colab-df-convert {\n",
              "      background-color: #E8F0FE;\n",
              "      border: none;\n",
              "      border-radius: 50%;\n",
              "      cursor: pointer;\n",
              "      display: none;\n",
              "      fill: #1967D2;\n",
              "      height: 32px;\n",
              "      padding: 0 0 0 0;\n",
              "      width: 32px;\n",
              "    }\n",
              "\n",
              "    .colab-df-convert:hover {\n",
              "      background-color: #E2EBFA;\n",
              "      box-shadow: 0px 1px 2px rgba(60, 64, 67, 0.3), 0px 1px 3px 1px rgba(60, 64, 67, 0.15);\n",
              "      fill: #174EA6;\n",
              "    }\n",
              "\n",
              "    [theme=dark] .colab-df-convert {\n",
              "      background-color: #3B4455;\n",
              "      fill: #D2E3FC;\n",
              "    }\n",
              "\n",
              "    [theme=dark] .colab-df-convert:hover {\n",
              "      background-color: #434B5C;\n",
              "      box-shadow: 0px 1px 3px 1px rgba(0, 0, 0, 0.15);\n",
              "      filter: drop-shadow(0px 1px 2px rgba(0, 0, 0, 0.3));\n",
              "      fill: #FFFFFF;\n",
              "    }\n",
              "  </style>\n",
              "\n",
              "      <script>\n",
              "        const buttonEl =\n",
              "          document.querySelector('#df-68d6c940-b0d6-4ff2-b980-6299a5ec40a4 button.colab-df-convert');\n",
              "        buttonEl.style.display =\n",
              "          google.colab.kernel.accessAllowed ? 'block' : 'none';\n",
              "\n",
              "        async function convertToInteractive(key) {\n",
              "          const element = document.querySelector('#df-68d6c940-b0d6-4ff2-b980-6299a5ec40a4');\n",
              "          const dataTable =\n",
              "            await google.colab.kernel.invokeFunction('convertToInteractive',\n",
              "                                                     [key], {});\n",
              "          if (!dataTable) return;\n",
              "\n",
              "          const docLinkHtml = 'Like what you see? Visit the ' +\n",
              "            '<a target=\"_blank\" href=https://colab.research.google.com/notebooks/data_table.ipynb>data table notebook</a>'\n",
              "            + ' to learn more about interactive tables.';\n",
              "          element.innerHTML = '';\n",
              "          dataTable['output_type'] = 'display_data';\n",
              "          await google.colab.output.renderOutput(dataTable, element);\n",
              "          const docLink = document.createElement('div');\n",
              "          docLink.innerHTML = docLinkHtml;\n",
              "          element.appendChild(docLink);\n",
              "        }\n",
              "      </script>\n",
              "    </div>\n",
              "  </div>\n",
              "  "
            ]
          },
          "metadata": {},
          "execution_count": 313
        }
      ]
    },
    {
      "cell_type": "code",
      "source": [
        "from sklearn.ensemble import RandomForestClassifier\n",
        "from sklearn.metrics import accuracy_score\n",
        "\n",
        "rf = RandomForestClassifier(max_depth=10, random_state=10)\n",
        "rf.fit(X_train0, y_train0) \n",
        "y_pred_rf0=rf.predict(X_test0)\n",
        "acc0=accuracy_score(y_pred_rf0,y_test0)\n",
        "acc0"
      ],
      "metadata": {
        "colab": {
          "base_uri": "https://localhost:8080/"
        },
        "id": "UVUwIGosh4T9",
        "outputId": "2fe9e753-5b11-4a4e-c985-bc6f39af484f"
      },
      "id": "UVUwIGosh4T9",
      "execution_count": null,
      "outputs": [
        {
          "output_type": "execute_result",
          "data": {
            "text/plain": [
              "0.5513078470824949"
            ]
          },
          "metadata": {},
          "execution_count": 314
        }
      ]
    },
    {
      "cell_type": "code",
      "source": [],
      "metadata": {
        "id": "7U8KO-Pqh4Lp"
      },
      "id": "7U8KO-Pqh4Lp",
      "execution_count": null,
      "outputs": []
    },
    {
      "cell_type": "markdown",
      "source": [
        "using NLP"
      ],
      "metadata": {
        "id": "4MXsopIRpHGq"
      },
      "id": "4MXsopIRpHGq"
    },
    {
      "cell_type": "code",
      "execution_count": null,
      "id": "39406a77",
      "metadata": {
        "_cell_guid": "b1076dfc-b9ad-4769-8c92-a6c4dae69d19",
        "_uuid": "8f2839f25d086af736a60e9eeb907d3b93b6e0e5",
        "execution": {
          "iopub.execute_input": "2021-11-13T16:30:04.487990Z",
          "iopub.status.busy": "2021-11-13T16:30:04.486194Z",
          "iopub.status.idle": "2021-11-13T16:30:04.511749Z",
          "shell.execute_reply": "2021-11-13T16:30:04.510368Z",
          "shell.execute_reply.started": "2021-11-13T16:17:58.996356Z"
        },
        "papermill": {
          "duration": 0.074392,
          "end_time": "2021-11-13T16:30:04.512054",
          "exception": false,
          "start_time": "2021-11-13T16:30:04.437662",
          "status": "completed"
        },
        "tags": [],
        "id": "39406a77"
      },
      "outputs": [],
      "source": [
        "import numpy as np \n",
        "import pandas as pd"
      ]
    },
    {
      "cell_type": "code",
      "source": [
        "import spacy.cli\n",
        "spacy.cli.download(\"en_core_web_lg\")"
      ],
      "metadata": {
        "colab": {
          "base_uri": "https://localhost:8080/"
        },
        "id": "JnV8yLWAgCGB",
        "outputId": "b8159d52-ecb1-4762-81ae-5c7c04467c16"
      },
      "id": "JnV8yLWAgCGB",
      "execution_count": null,
      "outputs": [
        {
          "output_type": "stream",
          "name": "stdout",
          "text": [
            "\u001b[38;5;2m✔ Download and installation successful\u001b[0m\n",
            "You can now load the package via spacy.load('en_core_web_lg')\n"
          ]
        }
      ]
    },
    {
      "cell_type": "code",
      "execution_count": null,
      "id": "e5bc4de9",
      "metadata": {
        "execution": {
          "iopub.execute_input": "2021-11-13T16:30:04.606516Z",
          "iopub.status.busy": "2021-11-13T16:30:04.605523Z",
          "iopub.status.idle": "2021-11-13T16:30:20.864453Z",
          "shell.execute_reply": "2021-11-13T16:30:20.865046Z",
          "shell.execute_reply.started": "2021-11-13T16:17:59.037691Z"
        },
        "papermill": {
          "duration": 16.306798,
          "end_time": "2021-11-13T16:30:20.865242",
          "exception": false,
          "start_time": "2021-11-13T16:30:04.558444",
          "status": "completed"
        },
        "tags": [],
        "id": "e5bc4de9"
      },
      "outputs": [],
      "source": [
        "import re\n",
        "import string\n",
        "import pandas as pd\n",
        "import matplotlib.pyplot as plt\n",
        "import seaborn as sns\n",
        "import pickle\n",
        "import spacy\n",
        "nlp = spacy.load(\"en_core_web_lg\")\n",
        "from sklearn.base import TransformerMixin, BaseEstimator\n",
        "from sklearn.model_selection import train_test_split\n",
        "from sklearn.feature_extraction.text import TfidfVectorizer\n",
        "from sklearn.calibration import CalibratedClassifierCV\n",
        "from imblearn.under_sampling import InstanceHardnessThreshold\n",
        "from sklearn.svm import LinearSVC\n",
        "from sklearn.preprocessing import MinMaxScaler\n",
        "from sklearn.feature_selection import SelectFromModel\n",
        "from sklearn.linear_model import LogisticRegression, SGDClassifier\n",
        "from sklearn.ensemble import VotingClassifier\n",
        "from sklearn.naive_bayes import MultinomialNB, ComplementNB\n",
        "from sklearn.svm import LinearSVC\n",
        "from sklearn.model_selection import cross_val_score\n",
        "from sklearn.metrics import classification_report\n",
        "from sklearn.model_selection import train_test_split\n",
        "from sklearn.metrics import confusion_matrix\n",
        "from sklearn.utils.multiclass import unique_labels\n",
        "from sklearn.feature_selection import SelectFromModel\n",
        "from imblearn.pipeline import Pipeline"
      ]
    },
    {
      "cell_type": "code",
      "source": [],
      "metadata": {
        "id": "zjZqSvSovAMe"
      },
      "id": "zjZqSvSovAMe",
      "execution_count": null,
      "outputs": []
    },
    {
      "cell_type": "code",
      "source": [
        "import warnings\n",
        "warnings.filterwarnings(\"ignore\")"
      ],
      "metadata": {
        "id": "PUVpVbWxgcCV"
      },
      "id": "PUVpVbWxgcCV",
      "execution_count": null,
      "outputs": []
    },
    {
      "cell_type": "code",
      "source": [
        "from google.colab import drive\n",
        "drive.mount('/content/drive')"
      ],
      "metadata": {
        "colab": {
          "base_uri": "https://localhost:8080/"
        },
        "id": "yCQkoasvd9MA",
        "outputId": "704a0337-0dfd-4cf2-c530-87fa6bea0339"
      },
      "id": "yCQkoasvd9MA",
      "execution_count": null,
      "outputs": [
        {
          "output_type": "stream",
          "name": "stdout",
          "text": [
            "Drive already mounted at /content/drive; to attempt to forcibly remount, call drive.mount(\"/content/drive\", force_remount=True).\n"
          ]
        }
      ]
    },
    {
      "cell_type": "code",
      "execution_count": null,
      "id": "db6dcfd8",
      "metadata": {
        "execution": {
          "iopub.execute_input": "2021-11-13T16:30:21.049711Z",
          "iopub.status.busy": "2021-11-13T16:30:21.048666Z",
          "iopub.status.idle": "2021-11-13T16:30:25.721826Z",
          "shell.execute_reply": "2021-11-13T16:30:25.722487Z",
          "shell.execute_reply.started": "2021-11-13T16:18:14.852220Z"
        },
        "papermill": {
          "duration": 4.72281,
          "end_time": "2021-11-13T16:30:25.722678",
          "exception": false,
          "start_time": "2021-11-13T16:30:20.999868",
          "status": "completed"
        },
        "tags": [],
        "colab": {
          "base_uri": "https://localhost:8080/",
          "height": 206
        },
        "id": "db6dcfd8",
        "outputId": "a20215f3-1bcf-455b-f308-5b2e320e4ce2"
      },
      "outputs": [
        {
          "output_type": "execute_result",
          "data": {
            "text/plain": [
              "                                                text    target\n",
              "0   \"Miss.suparna\" who is senior of my advisor \"M...   Passive\n",
              "1   All the documents required for policy issuanc...   Passive\n",
              "2   Customer: I like website services, it is user...  Promoter\n",
              "3   I am happy with your \"Ahmednagar,Maharashtra\"...  Promoter\n",
              "4   please send us our policy statements regularl...  Promoter"
            ],
            "text/html": [
              "\n",
              "  <div id=\"df-79d1efc8-5991-40e9-9290-bb385156a94c\">\n",
              "    <div class=\"colab-df-container\">\n",
              "      <div>\n",
              "<style scoped>\n",
              "    .dataframe tbody tr th:only-of-type {\n",
              "        vertical-align: middle;\n",
              "    }\n",
              "\n",
              "    .dataframe tbody tr th {\n",
              "        vertical-align: top;\n",
              "    }\n",
              "\n",
              "    .dataframe thead th {\n",
              "        text-align: right;\n",
              "    }\n",
              "</style>\n",
              "<table border=\"1\" class=\"dataframe\">\n",
              "  <thead>\n",
              "    <tr style=\"text-align: right;\">\n",
              "      <th></th>\n",
              "      <th>text</th>\n",
              "      <th>target</th>\n",
              "    </tr>\n",
              "  </thead>\n",
              "  <tbody>\n",
              "    <tr>\n",
              "      <th>0</th>\n",
              "      <td>\"Miss.suparna\" who is senior of my advisor \"M...</td>\n",
              "      <td>Passive</td>\n",
              "    </tr>\n",
              "    <tr>\n",
              "      <th>1</th>\n",
              "      <td>All the documents required for policy issuanc...</td>\n",
              "      <td>Passive</td>\n",
              "    </tr>\n",
              "    <tr>\n",
              "      <th>2</th>\n",
              "      <td>Customer: I like website services, it is user...</td>\n",
              "      <td>Promoter</td>\n",
              "    </tr>\n",
              "    <tr>\n",
              "      <th>3</th>\n",
              "      <td>I am happy with your \"Ahmednagar,Maharashtra\"...</td>\n",
              "      <td>Promoter</td>\n",
              "    </tr>\n",
              "    <tr>\n",
              "      <th>4</th>\n",
              "      <td>please send us our policy statements regularl...</td>\n",
              "      <td>Promoter</td>\n",
              "    </tr>\n",
              "  </tbody>\n",
              "</table>\n",
              "</div>\n",
              "      <button class=\"colab-df-convert\" onclick=\"convertToInteractive('df-79d1efc8-5991-40e9-9290-bb385156a94c')\"\n",
              "              title=\"Convert this dataframe to an interactive table.\"\n",
              "              style=\"display:none;\">\n",
              "        \n",
              "  <svg xmlns=\"http://www.w3.org/2000/svg\" height=\"24px\"viewBox=\"0 0 24 24\"\n",
              "       width=\"24px\">\n",
              "    <path d=\"M0 0h24v24H0V0z\" fill=\"none\"/>\n",
              "    <path d=\"M18.56 5.44l.94 2.06.94-2.06 2.06-.94-2.06-.94-.94-2.06-.94 2.06-2.06.94zm-11 1L8.5 8.5l.94-2.06 2.06-.94-2.06-.94L8.5 2.5l-.94 2.06-2.06.94zm10 10l.94 2.06.94-2.06 2.06-.94-2.06-.94-.94-2.06-.94 2.06-2.06.94z\"/><path d=\"M17.41 7.96l-1.37-1.37c-.4-.4-.92-.59-1.43-.59-.52 0-1.04.2-1.43.59L10.3 9.45l-7.72 7.72c-.78.78-.78 2.05 0 2.83L4 21.41c.39.39.9.59 1.41.59.51 0 1.02-.2 1.41-.59l7.78-7.78 2.81-2.81c.8-.78.8-2.07 0-2.86zM5.41 20L4 18.59l7.72-7.72 1.47 1.35L5.41 20z\"/>\n",
              "  </svg>\n",
              "      </button>\n",
              "      \n",
              "  <style>\n",
              "    .colab-df-container {\n",
              "      display:flex;\n",
              "      flex-wrap:wrap;\n",
              "      gap: 12px;\n",
              "    }\n",
              "\n",
              "    .colab-df-convert {\n",
              "      background-color: #E8F0FE;\n",
              "      border: none;\n",
              "      border-radius: 50%;\n",
              "      cursor: pointer;\n",
              "      display: none;\n",
              "      fill: #1967D2;\n",
              "      height: 32px;\n",
              "      padding: 0 0 0 0;\n",
              "      width: 32px;\n",
              "    }\n",
              "\n",
              "    .colab-df-convert:hover {\n",
              "      background-color: #E2EBFA;\n",
              "      box-shadow: 0px 1px 2px rgba(60, 64, 67, 0.3), 0px 1px 3px 1px rgba(60, 64, 67, 0.15);\n",
              "      fill: #174EA6;\n",
              "    }\n",
              "\n",
              "    [theme=dark] .colab-df-convert {\n",
              "      background-color: #3B4455;\n",
              "      fill: #D2E3FC;\n",
              "    }\n",
              "\n",
              "    [theme=dark] .colab-df-convert:hover {\n",
              "      background-color: #434B5C;\n",
              "      box-shadow: 0px 1px 3px 1px rgba(0, 0, 0, 0.15);\n",
              "      filter: drop-shadow(0px 1px 2px rgba(0, 0, 0, 0.3));\n",
              "      fill: #FFFFFF;\n",
              "    }\n",
              "  </style>\n",
              "\n",
              "      <script>\n",
              "        const buttonEl =\n",
              "          document.querySelector('#df-79d1efc8-5991-40e9-9290-bb385156a94c button.colab-df-convert');\n",
              "        buttonEl.style.display =\n",
              "          google.colab.kernel.accessAllowed ? 'block' : 'none';\n",
              "\n",
              "        async function convertToInteractive(key) {\n",
              "          const element = document.querySelector('#df-79d1efc8-5991-40e9-9290-bb385156a94c');\n",
              "          const dataTable =\n",
              "            await google.colab.kernel.invokeFunction('convertToInteractive',\n",
              "                                                     [key], {});\n",
              "          if (!dataTable) return;\n",
              "\n",
              "          const docLinkHtml = 'Like what you see? Visit the ' +\n",
              "            '<a target=\"_blank\" href=https://colab.research.google.com/notebooks/data_table.ipynb>data table notebook</a>'\n",
              "            + ' to learn more about interactive tables.';\n",
              "          element.innerHTML = '';\n",
              "          dataTable['output_type'] = 'display_data';\n",
              "          await google.colab.output.renderOutput(dataTable, element);\n",
              "          const docLink = document.createElement('div');\n",
              "          docLink.innerHTML = docLinkHtml;\n",
              "          element.appendChild(docLink);\n",
              "        }\n",
              "      </script>\n",
              "    </div>\n",
              "  </div>\n",
              "  "
            ]
          },
          "metadata": {},
          "execution_count": 320
        }
      ],
      "source": [
        "data=pd.read_csv(\"/content/drive/MyDrive/project_x/nps_nlp_final.csv\")\n",
        "data.head()"
      ]
    },
    {
      "cell_type": "code",
      "source": [
        "data.head()"
      ],
      "metadata": {
        "colab": {
          "base_uri": "https://localhost:8080/",
          "height": 206
        },
        "id": "IGsG2QsMljHS",
        "outputId": "e1148e53-8b16-488c-d53a-3d3bf5b8a681"
      },
      "id": "IGsG2QsMljHS",
      "execution_count": null,
      "outputs": [
        {
          "output_type": "execute_result",
          "data": {
            "text/plain": [
              "                                                text    target\n",
              "0   \"Miss.suparna\" who is senior of my advisor \"M...   Passive\n",
              "1   All the documents required for policy issuanc...   Passive\n",
              "2   Customer: I like website services, it is user...  Promoter\n",
              "3   I am happy with your \"Ahmednagar,Maharashtra\"...  Promoter\n",
              "4   please send us our policy statements regularl...  Promoter"
            ],
            "text/html": [
              "\n",
              "  <div id=\"df-f936dfb8-e332-494e-bb5e-04035cc84ed6\">\n",
              "    <div class=\"colab-df-container\">\n",
              "      <div>\n",
              "<style scoped>\n",
              "    .dataframe tbody tr th:only-of-type {\n",
              "        vertical-align: middle;\n",
              "    }\n",
              "\n",
              "    .dataframe tbody tr th {\n",
              "        vertical-align: top;\n",
              "    }\n",
              "\n",
              "    .dataframe thead th {\n",
              "        text-align: right;\n",
              "    }\n",
              "</style>\n",
              "<table border=\"1\" class=\"dataframe\">\n",
              "  <thead>\n",
              "    <tr style=\"text-align: right;\">\n",
              "      <th></th>\n",
              "      <th>text</th>\n",
              "      <th>target</th>\n",
              "    </tr>\n",
              "  </thead>\n",
              "  <tbody>\n",
              "    <tr>\n",
              "      <th>0</th>\n",
              "      <td>\"Miss.suparna\" who is senior of my advisor \"M...</td>\n",
              "      <td>Passive</td>\n",
              "    </tr>\n",
              "    <tr>\n",
              "      <th>1</th>\n",
              "      <td>All the documents required for policy issuanc...</td>\n",
              "      <td>Passive</td>\n",
              "    </tr>\n",
              "    <tr>\n",
              "      <th>2</th>\n",
              "      <td>Customer: I like website services, it is user...</td>\n",
              "      <td>Promoter</td>\n",
              "    </tr>\n",
              "    <tr>\n",
              "      <th>3</th>\n",
              "      <td>I am happy with your \"Ahmednagar,Maharashtra\"...</td>\n",
              "      <td>Promoter</td>\n",
              "    </tr>\n",
              "    <tr>\n",
              "      <th>4</th>\n",
              "      <td>please send us our policy statements regularl...</td>\n",
              "      <td>Promoter</td>\n",
              "    </tr>\n",
              "  </tbody>\n",
              "</table>\n",
              "</div>\n",
              "      <button class=\"colab-df-convert\" onclick=\"convertToInteractive('df-f936dfb8-e332-494e-bb5e-04035cc84ed6')\"\n",
              "              title=\"Convert this dataframe to an interactive table.\"\n",
              "              style=\"display:none;\">\n",
              "        \n",
              "  <svg xmlns=\"http://www.w3.org/2000/svg\" height=\"24px\"viewBox=\"0 0 24 24\"\n",
              "       width=\"24px\">\n",
              "    <path d=\"M0 0h24v24H0V0z\" fill=\"none\"/>\n",
              "    <path d=\"M18.56 5.44l.94 2.06.94-2.06 2.06-.94-2.06-.94-.94-2.06-.94 2.06-2.06.94zm-11 1L8.5 8.5l.94-2.06 2.06-.94-2.06-.94L8.5 2.5l-.94 2.06-2.06.94zm10 10l.94 2.06.94-2.06 2.06-.94-2.06-.94-.94-2.06-.94 2.06-2.06.94z\"/><path d=\"M17.41 7.96l-1.37-1.37c-.4-.4-.92-.59-1.43-.59-.52 0-1.04.2-1.43.59L10.3 9.45l-7.72 7.72c-.78.78-.78 2.05 0 2.83L4 21.41c.39.39.9.59 1.41.59.51 0 1.02-.2 1.41-.59l7.78-7.78 2.81-2.81c.8-.78.8-2.07 0-2.86zM5.41 20L4 18.59l7.72-7.72 1.47 1.35L5.41 20z\"/>\n",
              "  </svg>\n",
              "      </button>\n",
              "      \n",
              "  <style>\n",
              "    .colab-df-container {\n",
              "      display:flex;\n",
              "      flex-wrap:wrap;\n",
              "      gap: 12px;\n",
              "    }\n",
              "\n",
              "    .colab-df-convert {\n",
              "      background-color: #E8F0FE;\n",
              "      border: none;\n",
              "      border-radius: 50%;\n",
              "      cursor: pointer;\n",
              "      display: none;\n",
              "      fill: #1967D2;\n",
              "      height: 32px;\n",
              "      padding: 0 0 0 0;\n",
              "      width: 32px;\n",
              "    }\n",
              "\n",
              "    .colab-df-convert:hover {\n",
              "      background-color: #E2EBFA;\n",
              "      box-shadow: 0px 1px 2px rgba(60, 64, 67, 0.3), 0px 1px 3px 1px rgba(60, 64, 67, 0.15);\n",
              "      fill: #174EA6;\n",
              "    }\n",
              "\n",
              "    [theme=dark] .colab-df-convert {\n",
              "      background-color: #3B4455;\n",
              "      fill: #D2E3FC;\n",
              "    }\n",
              "\n",
              "    [theme=dark] .colab-df-convert:hover {\n",
              "      background-color: #434B5C;\n",
              "      box-shadow: 0px 1px 3px 1px rgba(0, 0, 0, 0.15);\n",
              "      filter: drop-shadow(0px 1px 2px rgba(0, 0, 0, 0.3));\n",
              "      fill: #FFFFFF;\n",
              "    }\n",
              "  </style>\n",
              "\n",
              "      <script>\n",
              "        const buttonEl =\n",
              "          document.querySelector('#df-f936dfb8-e332-494e-bb5e-04035cc84ed6 button.colab-df-convert');\n",
              "        buttonEl.style.display =\n",
              "          google.colab.kernel.accessAllowed ? 'block' : 'none';\n",
              "\n",
              "        async function convertToInteractive(key) {\n",
              "          const element = document.querySelector('#df-f936dfb8-e332-494e-bb5e-04035cc84ed6');\n",
              "          const dataTable =\n",
              "            await google.colab.kernel.invokeFunction('convertToInteractive',\n",
              "                                                     [key], {});\n",
              "          if (!dataTable) return;\n",
              "\n",
              "          const docLinkHtml = 'Like what you see? Visit the ' +\n",
              "            '<a target=\"_blank\" href=https://colab.research.google.com/notebooks/data_table.ipynb>data table notebook</a>'\n",
              "            + ' to learn more about interactive tables.';\n",
              "          element.innerHTML = '';\n",
              "          dataTable['output_type'] = 'display_data';\n",
              "          await google.colab.output.renderOutput(dataTable, element);\n",
              "          const docLink = document.createElement('div');\n",
              "          docLink.innerHTML = docLinkHtml;\n",
              "          element.appendChild(docLink);\n",
              "        }\n",
              "      </script>\n",
              "    </div>\n",
              "  </div>\n",
              "  "
            ]
          },
          "metadata": {},
          "execution_count": 321
        }
      ]
    },
    {
      "cell_type": "code",
      "execution_count": null,
      "id": "e47dfdeb",
      "metadata": {
        "execution": {
          "iopub.execute_input": "2021-11-13T16:30:25.878383Z",
          "iopub.status.busy": "2021-11-13T16:30:25.877382Z",
          "iopub.status.idle": "2021-11-13T16:30:25.883798Z",
          "shell.execute_reply": "2021-11-13T16:30:25.883131Z",
          "shell.execute_reply.started": "2021-11-13T16:18:19.235848Z"
        },
        "papermill": {
          "duration": 0.054365,
          "end_time": "2021-11-13T16:30:25.883935",
          "exception": false,
          "start_time": "2021-11-13T16:30:25.829570",
          "status": "completed"
        },
        "tags": [],
        "colab": {
          "base_uri": "https://localhost:8080/"
        },
        "id": "e47dfdeb",
        "outputId": "f605b446-c20a-4488-9c60-055afe4ce538"
      },
      "outputs": [
        {
          "output_type": "execute_result",
          "data": {
            "text/plain": [
              "(6025, 2)"
            ]
          },
          "metadata": {},
          "execution_count": 322
        }
      ],
      "source": [
        "data.shape"
      ]
    },
    {
      "cell_type": "code",
      "execution_count": null,
      "id": "d34d9716",
      "metadata": {
        "execution": {
          "iopub.execute_input": "2021-11-13T16:30:25.981975Z",
          "iopub.status.busy": "2021-11-13T16:30:25.980964Z",
          "iopub.status.idle": "2021-11-13T16:30:26.002943Z",
          "shell.execute_reply": "2021-11-13T16:30:26.002235Z",
          "shell.execute_reply.started": "2021-11-13T16:18:19.242756Z"
        },
        "papermill": {
          "duration": 0.073644,
          "end_time": "2021-11-13T16:30:26.003105",
          "exception": false,
          "start_time": "2021-11-13T16:30:25.929461",
          "status": "completed"
        },
        "tags": [],
        "id": "d34d9716"
      },
      "outputs": [],
      "source": [
        "data_split=np.array_split(data,20)\n",
        "df=data_split[0].copy()\n",
        "df2=data_split[1].copy()\n",
        "df3=data_split[2]\n",
        "df4=data_split[3]\n",
        "df5=data_split[4]\n",
        "df6=data_split[5]"
      ]
    },
    {
      "cell_type": "code",
      "execution_count": null,
      "id": "f5e82635",
      "metadata": {
        "execution": {
          "iopub.execute_input": "2021-11-13T16:30:26.113681Z",
          "iopub.status.busy": "2021-11-13T16:30:26.106254Z",
          "iopub.status.idle": "2021-11-13T16:30:26.116093Z",
          "shell.execute_reply": "2021-11-13T16:30:26.115105Z",
          "shell.execute_reply.started": "2021-11-13T16:18:19.279434Z"
        },
        "papermill": {
          "duration": 0.067062,
          "end_time": "2021-11-13T16:30:26.116339",
          "exception": false,
          "start_time": "2021-11-13T16:30:26.049277",
          "status": "completed"
        },
        "tags": [],
        "id": "f5e82635"
      },
      "outputs": [],
      "source": [
        "df=df.rename(columns={\"class\":\"target\"})"
      ]
    },
    {
      "cell_type": "code",
      "execution_count": null,
      "id": "b9d41fe1",
      "metadata": {
        "execution": {
          "iopub.execute_input": "2021-11-13T16:30:26.235963Z",
          "iopub.status.busy": "2021-11-13T16:30:26.234687Z",
          "iopub.status.idle": "2021-11-13T16:30:26.238170Z",
          "shell.execute_reply": "2021-11-13T16:30:26.238642Z",
          "shell.execute_reply.started": "2021-11-13T16:18:19.290249Z"
        },
        "papermill": {
          "duration": 0.064285,
          "end_time": "2021-11-13T16:30:26.238814",
          "exception": false,
          "start_time": "2021-11-13T16:30:26.174529",
          "status": "completed"
        },
        "tags": [],
        "colab": {
          "base_uri": "https://localhost:8080/",
          "height": 206
        },
        "id": "b9d41fe1",
        "outputId": "eb973b37-96ac-4fda-db4d-d1665e24f922"
      },
      "outputs": [
        {
          "output_type": "execute_result",
          "data": {
            "text/plain": [
              "                                                text    target\n",
              "0   \"Miss.suparna\" who is senior of my advisor \"M...   Passive\n",
              "1   All the documents required for policy issuanc...   Passive\n",
              "2   Customer: I like website services, it is user...  Promoter\n",
              "3   I am happy with your \"Ahmednagar,Maharashtra\"...  Promoter\n",
              "4   please send us our policy statements regularl...  Promoter"
            ],
            "text/html": [
              "\n",
              "  <div id=\"df-606c77a5-5d9f-425d-8b97-fd3a2d6bd492\">\n",
              "    <div class=\"colab-df-container\">\n",
              "      <div>\n",
              "<style scoped>\n",
              "    .dataframe tbody tr th:only-of-type {\n",
              "        vertical-align: middle;\n",
              "    }\n",
              "\n",
              "    .dataframe tbody tr th {\n",
              "        vertical-align: top;\n",
              "    }\n",
              "\n",
              "    .dataframe thead th {\n",
              "        text-align: right;\n",
              "    }\n",
              "</style>\n",
              "<table border=\"1\" class=\"dataframe\">\n",
              "  <thead>\n",
              "    <tr style=\"text-align: right;\">\n",
              "      <th></th>\n",
              "      <th>text</th>\n",
              "      <th>target</th>\n",
              "    </tr>\n",
              "  </thead>\n",
              "  <tbody>\n",
              "    <tr>\n",
              "      <th>0</th>\n",
              "      <td>\"Miss.suparna\" who is senior of my advisor \"M...</td>\n",
              "      <td>Passive</td>\n",
              "    </tr>\n",
              "    <tr>\n",
              "      <th>1</th>\n",
              "      <td>All the documents required for policy issuanc...</td>\n",
              "      <td>Passive</td>\n",
              "    </tr>\n",
              "    <tr>\n",
              "      <th>2</th>\n",
              "      <td>Customer: I like website services, it is user...</td>\n",
              "      <td>Promoter</td>\n",
              "    </tr>\n",
              "    <tr>\n",
              "      <th>3</th>\n",
              "      <td>I am happy with your \"Ahmednagar,Maharashtra\"...</td>\n",
              "      <td>Promoter</td>\n",
              "    </tr>\n",
              "    <tr>\n",
              "      <th>4</th>\n",
              "      <td>please send us our policy statements regularl...</td>\n",
              "      <td>Promoter</td>\n",
              "    </tr>\n",
              "  </tbody>\n",
              "</table>\n",
              "</div>\n",
              "      <button class=\"colab-df-convert\" onclick=\"convertToInteractive('df-606c77a5-5d9f-425d-8b97-fd3a2d6bd492')\"\n",
              "              title=\"Convert this dataframe to an interactive table.\"\n",
              "              style=\"display:none;\">\n",
              "        \n",
              "  <svg xmlns=\"http://www.w3.org/2000/svg\" height=\"24px\"viewBox=\"0 0 24 24\"\n",
              "       width=\"24px\">\n",
              "    <path d=\"M0 0h24v24H0V0z\" fill=\"none\"/>\n",
              "    <path d=\"M18.56 5.44l.94 2.06.94-2.06 2.06-.94-2.06-.94-.94-2.06-.94 2.06-2.06.94zm-11 1L8.5 8.5l.94-2.06 2.06-.94-2.06-.94L8.5 2.5l-.94 2.06-2.06.94zm10 10l.94 2.06.94-2.06 2.06-.94-2.06-.94-.94-2.06-.94 2.06-2.06.94z\"/><path d=\"M17.41 7.96l-1.37-1.37c-.4-.4-.92-.59-1.43-.59-.52 0-1.04.2-1.43.59L10.3 9.45l-7.72 7.72c-.78.78-.78 2.05 0 2.83L4 21.41c.39.39.9.59 1.41.59.51 0 1.02-.2 1.41-.59l7.78-7.78 2.81-2.81c.8-.78.8-2.07 0-2.86zM5.41 20L4 18.59l7.72-7.72 1.47 1.35L5.41 20z\"/>\n",
              "  </svg>\n",
              "      </button>\n",
              "      \n",
              "  <style>\n",
              "    .colab-df-container {\n",
              "      display:flex;\n",
              "      flex-wrap:wrap;\n",
              "      gap: 12px;\n",
              "    }\n",
              "\n",
              "    .colab-df-convert {\n",
              "      background-color: #E8F0FE;\n",
              "      border: none;\n",
              "      border-radius: 50%;\n",
              "      cursor: pointer;\n",
              "      display: none;\n",
              "      fill: #1967D2;\n",
              "      height: 32px;\n",
              "      padding: 0 0 0 0;\n",
              "      width: 32px;\n",
              "    }\n",
              "\n",
              "    .colab-df-convert:hover {\n",
              "      background-color: #E2EBFA;\n",
              "      box-shadow: 0px 1px 2px rgba(60, 64, 67, 0.3), 0px 1px 3px 1px rgba(60, 64, 67, 0.15);\n",
              "      fill: #174EA6;\n",
              "    }\n",
              "\n",
              "    [theme=dark] .colab-df-convert {\n",
              "      background-color: #3B4455;\n",
              "      fill: #D2E3FC;\n",
              "    }\n",
              "\n",
              "    [theme=dark] .colab-df-convert:hover {\n",
              "      background-color: #434B5C;\n",
              "      box-shadow: 0px 1px 3px 1px rgba(0, 0, 0, 0.15);\n",
              "      filter: drop-shadow(0px 1px 2px rgba(0, 0, 0, 0.3));\n",
              "      fill: #FFFFFF;\n",
              "    }\n",
              "  </style>\n",
              "\n",
              "      <script>\n",
              "        const buttonEl =\n",
              "          document.querySelector('#df-606c77a5-5d9f-425d-8b97-fd3a2d6bd492 button.colab-df-convert');\n",
              "        buttonEl.style.display =\n",
              "          google.colab.kernel.accessAllowed ? 'block' : 'none';\n",
              "\n",
              "        async function convertToInteractive(key) {\n",
              "          const element = document.querySelector('#df-606c77a5-5d9f-425d-8b97-fd3a2d6bd492');\n",
              "          const dataTable =\n",
              "            await google.colab.kernel.invokeFunction('convertToInteractive',\n",
              "                                                     [key], {});\n",
              "          if (!dataTable) return;\n",
              "\n",
              "          const docLinkHtml = 'Like what you see? Visit the ' +\n",
              "            '<a target=\"_blank\" href=https://colab.research.google.com/notebooks/data_table.ipynb>data table notebook</a>'\n",
              "            + ' to learn more about interactive tables.';\n",
              "          element.innerHTML = '';\n",
              "          dataTable['output_type'] = 'display_data';\n",
              "          await google.colab.output.renderOutput(dataTable, element);\n",
              "          const docLink = document.createElement('div');\n",
              "          docLink.innerHTML = docLinkHtml;\n",
              "          element.appendChild(docLink);\n",
              "        }\n",
              "      </script>\n",
              "    </div>\n",
              "  </div>\n",
              "  "
            ]
          },
          "metadata": {},
          "execution_count": 325
        }
      ],
      "source": [
        "df.head()"
      ]
    },
    {
      "cell_type": "code",
      "execution_count": null,
      "id": "0f3a1578",
      "metadata": {
        "execution": {
          "iopub.execute_input": "2021-11-13T16:30:26.550746Z",
          "iopub.status.busy": "2021-11-13T16:30:26.549943Z",
          "iopub.status.idle": "2021-11-13T16:30:26.802383Z",
          "shell.execute_reply": "2021-11-13T16:30:26.802996Z",
          "shell.execute_reply.started": "2021-11-13T16:18:19.345253Z"
        },
        "papermill": {
          "duration": 0.304318,
          "end_time": "2021-11-13T16:30:26.803171",
          "exception": false,
          "start_time": "2021-11-13T16:30:26.498853",
          "status": "completed"
        },
        "tags": [],
        "colab": {
          "base_uri": "https://localhost:8080/",
          "height": 282
        },
        "id": "0f3a1578",
        "outputId": "0bdc9eb6-8bfc-4e17-f5b3-241d879882ab"
      },
      "outputs": [
        {
          "output_type": "execute_result",
          "data": {
            "text/plain": [
              "<matplotlib.axes._subplots.AxesSubplot at 0x7fa78b689650>"
            ]
          },
          "metadata": {},
          "execution_count": 326
        },
        {
          "output_type": "display_data",
          "data": {
            "text/plain": [
              "<Figure size 432x288 with 1 Axes>"
            ],
            "image/png": "[encoded data removed]"
          },
          "metadata": {
            "needs_background": "light"
          }
        }
      ],
      "source": [
        "df.target.value_counts().plot.barh()"
      ]
    },
    {
      "cell_type": "code",
      "execution_count": null,
      "id": "1af7dda6",
      "metadata": {
        "execution": {
          "iopub.execute_input": "2021-11-13T16:30:27.424715Z",
          "iopub.status.busy": "2021-11-13T16:30:27.204257Z",
          "iopub.status.idle": "2021-11-13T16:30:27.428064Z",
          "shell.execute_reply": "2021-11-13T16:30:27.427513Z",
          "shell.execute_reply.started": "2021-11-13T16:18:19.547544Z"
        },
        "papermill": {
          "duration": 0.274767,
          "end_time": "2021-11-13T16:30:27.428223",
          "exception": false,
          "start_time": "2021-11-13T16:30:27.153456",
          "status": "completed"
        },
        "tags": [],
        "id": "1af7dda6"
      },
      "outputs": [],
      "source": [
        "class TextPreprocessor(TransformerMixin):\n",
        "    def __init__(self, text_attribute):\n",
        "        self.text_attribute = text_attribute\n",
        "        \n",
        "    def transform(self,X, *_):\n",
        "        X_copy=X.copy()\n",
        "        X_copy[self.text_attribute]=X_copy[self.text_attribute].apply(self._preprocess_text)\n",
        "        return X_copy\n",
        "    \n",
        "    def _preprocess_text(self,text):\n",
        "        return self._lemmatize(self._leave_letters_only(self._clean(text)))\n",
        "    \n",
        "    def _clean(self,text):\n",
        "        bad_symbols='!\"#%&\\'*+,-<=>?[\\\\]^_`{|}~'\n",
        "        text_without_symbols=text.translate(str.maketrans('','',bad_symbols))\n",
        "\n",
        "        text_without_bad_words=''\n",
        "        for line in text_without_symbols.split('\\n'):\n",
        "            if not line.lower().startswith('from:') and not line.lower().endswith('writes:'):\n",
        "                text_without_bad_words +=line + '\\n'\n",
        "\n",
        "        clean_text=text_without_bad_words\n",
        "        email_regex=r'([a-zA-Z0-9_.+-]+@[a-zA-Z0-9-]+\\.[a-zA-Z0-9-.]+)'\n",
        "        regexes_to_remove=[email_regex, r'Subject:', r'Re:']\n",
        "        for r in regexes_to_remove:\n",
        "            clean_text=re.sub(r,'', clean_text)\n",
        "        return clean_text\n",
        "    \n",
        "    def _leave_letters_only(self, text):\n",
        "        text_without_punctuation = text.translate(str.maketrans('', '', string.punctuation))\n",
        "        return ' '.join(re.findall(\"[a-zA-Z]+\", text_without_punctuation))\n",
        "    \n",
        "    def _lemmatize(self,text):\n",
        "        doc=nlp(text)\n",
        "        words=[x.lemma_ for x in [y for y in doc if not y.is_stop and y.pos_ != 'PUNCT' \n",
        "                                    and y.pos_ != 'PART' and y.pos_ != 'X']]\n",
        "        return ' '.join(words)\n",
        "    \n",
        "    def fit(self, *_):\n",
        "        return self"
      ]
    },
    {
      "cell_type": "code",
      "execution_count": null,
      "id": "f2533c6a",
      "metadata": {
        "execution": {
          "iopub.execute_input": "2021-11-13T16:30:27.529044Z",
          "iopub.status.busy": "2021-11-13T16:30:27.528307Z",
          "iopub.status.idle": "2021-11-13T16:35:49.071149Z",
          "shell.execute_reply": "2021-11-13T16:35:49.070547Z",
          "shell.execute_reply.started": "2021-11-13T16:18:19.765174Z"
        },
        "papermill": {
          "duration": 321.593986,
          "end_time": "2021-11-13T16:35:49.071308",
          "exception": false,
          "start_time": "2021-11-13T16:30:27.477322",
          "status": "completed"
        },
        "tags": [],
        "id": "f2533c6a"
      },
      "outputs": [],
      "source": [
        "text_preprocessor=TextPreprocessor(text_attribute='text')\n",
        "df_preprocessed=text_preprocessor.transform(df)"
      ]
    },
    {
      "cell_type": "code",
      "execution_count": null,
      "id": "f4b0fc42",
      "metadata": {
        "execution": {
          "iopub.execute_input": "2021-11-13T16:35:49.265089Z",
          "iopub.status.busy": "2021-11-13T16:35:49.264117Z",
          "iopub.status.idle": "2021-11-13T16:35:49.273779Z",
          "shell.execute_reply": "2021-11-13T16:35:49.274259Z",
          "shell.execute_reply.started": "2021-11-13T16:23:36.267190Z"
        },
        "papermill": {
          "duration": 0.061526,
          "end_time": "2021-11-13T16:35:49.274435",
          "exception": false,
          "start_time": "2021-11-13T16:35:49.212909",
          "status": "completed"
        },
        "tags": [],
        "id": "f4b0fc42"
      },
      "outputs": [],
      "source": [
        "train,test=train_test_split(df_preprocessed,test_size=0.3)"
      ]
    },
    {
      "cell_type": "code",
      "execution_count": null,
      "id": "5aae360e",
      "metadata": {
        "execution": {
          "iopub.execute_input": "2021-11-13T16:35:49.416251Z",
          "iopub.status.busy": "2021-11-13T16:35:49.405734Z",
          "iopub.status.idle": "2021-11-13T16:35:50.219235Z",
          "shell.execute_reply": "2021-11-13T16:35:50.218525Z",
          "shell.execute_reply.started": "2021-11-13T16:23:36.278651Z"
        },
        "papermill": {
          "duration": 0.897559,
          "end_time": "2021-11-13T16:35:50.219382",
          "exception": false,
          "start_time": "2021-11-13T16:35:49.321823",
          "status": "completed"
        },
        "tags": [],
        "id": "5aae360e"
      },
      "outputs": [],
      "source": [
        "tfidf_vectorizer=TfidfVectorizer(analyzer=\"word\",max_features=10000)\n",
        "X_tfidf_train=tfidf_vectorizer.fit_transform(train['text'])\n",
        "X_tfidf_test=tfidf_vectorizer.transform(test['text'])"
      ]
    },
    {
      "cell_type": "code",
      "execution_count": null,
      "id": "6a6b834b",
      "metadata": {
        "execution": {
          "iopub.execute_input": "2021-11-13T16:35:50.324797Z",
          "iopub.status.busy": "2021-11-13T16:35:50.324103Z",
          "iopub.status.idle": "2021-11-13T16:35:50.326388Z",
          "shell.execute_reply": "2021-11-13T16:35:50.326984Z",
          "shell.execute_reply.started": "2021-11-13T16:23:37.139502Z"
        },
        "papermill": {
          "duration": 0.057169,
          "end_time": "2021-11-13T16:35:50.327244",
          "exception": false,
          "start_time": "2021-11-13T16:35:50.270075",
          "status": "completed"
        },
        "tags": [],
        "id": "6a6b834b"
      },
      "outputs": [],
      "source": [
        "y=train['target']\n",
        "y_test=test['target']"
      ]
    },
    {
      "cell_type": "code",
      "execution_count": null,
      "id": "f40a8907",
      "metadata": {
        "execution": {
          "iopub.execute_input": "2021-11-13T16:35:50.428149Z",
          "iopub.status.busy": "2021-11-13T16:35:50.427421Z",
          "iopub.status.idle": "2021-11-13T16:35:50.429369Z",
          "shell.execute_reply": "2021-11-13T16:35:50.430036Z",
          "shell.execute_reply.started": "2021-11-13T16:23:37.148321Z"
        },
        "papermill": {
          "duration": 0.055116,
          "end_time": "2021-11-13T16:35:50.430203",
          "exception": false,
          "start_time": "2021-11-13T16:35:50.375087",
          "status": "completed"
        },
        "tags": [],
        "id": "f40a8907"
      },
      "outputs": [],
      "source": [
        "X,y=X_tfidf_train,y\n",
        "X_test,y_test=X_tfidf_test,y_test"
      ]
    },
    {
      "cell_type": "markdown",
      "id": "c575023c",
      "metadata": {
        "papermill": {
          "duration": 0.047362,
          "end_time": "2021-11-13T16:35:50.528196",
          "exception": false,
          "start_time": "2021-11-13T16:35:50.480834",
          "status": "completed"
        },
        "tags": [],
        "id": "c575023c"
      },
      "source": [
        "##Feature Scaling"
      ]
    },
    {
      "cell_type": "code",
      "execution_count": null,
      "id": "891e7f38",
      "metadata": {
        "execution": {
          "iopub.execute_input": "2021-11-13T16:35:50.626807Z",
          "iopub.status.busy": "2021-11-13T16:35:50.626154Z",
          "iopub.status.idle": "2021-11-13T16:35:52.436283Z",
          "shell.execute_reply": "2021-11-13T16:35:52.436858Z",
          "shell.execute_reply.started": "2021-11-13T16:23:37.159243Z"
        },
        "papermill": {
          "duration": 1.861039,
          "end_time": "2021-11-13T16:35:52.437041",
          "exception": false,
          "start_time": "2021-11-13T16:35:50.576002",
          "status": "completed"
        },
        "tags": [],
        "id": "891e7f38"
      },
      "outputs": [],
      "source": [
        "scaler=MinMaxScaler()\n",
        "X_norm=scaler.fit_transform(X.toarray())\n",
        "X_test_norm=scaler.transform(X_test.toarray())"
      ]
    },
    {
      "cell_type": "markdown",
      "id": "bb1c2bd2",
      "metadata": {
        "papermill": {
          "duration": 0.048222,
          "end_time": "2021-11-13T16:35:52.535189",
          "exception": false,
          "start_time": "2021-11-13T16:35:52.486967",
          "status": "completed"
        },
        "tags": [],
        "id": "bb1c2bd2"
      },
      "source": [
        "## Feature Selection"
      ]
    },
    {
      "cell_type": "code",
      "execution_count": null,
      "id": "7b84dba1",
      "metadata": {
        "execution": {
          "iopub.execute_input": "2021-11-13T16:35:52.636515Z",
          "iopub.status.busy": "2021-11-13T16:35:52.635770Z",
          "iopub.status.idle": "2021-11-13T16:35:54.873840Z",
          "shell.execute_reply": "2021-11-13T16:35:54.873233Z",
          "shell.execute_reply.started": "2021-11-13T16:23:38.936200Z"
        },
        "papermill": {
          "duration": 2.289437,
          "end_time": "2021-11-13T16:35:54.873981",
          "exception": false,
          "start_time": "2021-11-13T16:35:52.584544",
          "status": "completed"
        },
        "tags": [],
        "id": "7b84dba1"
      },
      "outputs": [],
      "source": [
        "lsvc=LinearSVC(C=100,penalty='l1',max_iter=500,dual=False)\n",
        "lsvc.fit(X_norm,y)\n",
        "fs=SelectFromModel(lsvc,prefit=True)\n",
        "X_sel=fs.transform(X_norm)\n",
        "X_test_sel=fs.transform(X_test_norm)"
      ]
    },
    {
      "cell_type": "code",
      "execution_count": null,
      "id": "892031e9",
      "metadata": {
        "execution": {
          "iopub.execute_input": "2021-11-13T16:35:54.975363Z",
          "iopub.status.busy": "2021-11-13T16:35:54.974265Z",
          "iopub.status.idle": "2021-11-13T16:35:54.980107Z",
          "shell.execute_reply": "2021-11-13T16:35:54.980694Z",
          "shell.execute_reply.started": "2021-11-13T16:23:40.982075Z"
        },
        "papermill": {
          "duration": 0.058823,
          "end_time": "2021-11-13T16:35:54.980863",
          "exception": false,
          "start_time": "2021-11-13T16:35:54.922040",
          "status": "completed"
        },
        "tags": [],
        "id": "892031e9"
      },
      "outputs": [],
      "source": [
        "from IPython.display import Markdown, display\n",
        "def show_top10_features(classifier, feature_names, categories):\n",
        "    for i,category in enumerate(categories):\n",
        "        top10=np.argsort(classifier.coef_[0, i])[-100:]"
      ]
    },
    {
      "cell_type": "code",
      "execution_count": null,
      "id": "08850fd7",
      "metadata": {
        "execution": {
          "iopub.execute_input": "2021-11-13T16:35:55.081975Z",
          "iopub.status.busy": "2021-11-13T16:35:55.080916Z",
          "iopub.status.idle": "2021-11-13T16:35:55.107958Z",
          "shell.execute_reply": "2021-11-13T16:35:55.108524Z",
          "shell.execute_reply.started": "2021-11-13T16:23:40.989400Z"
        },
        "papermill": {
          "duration": 0.079371,
          "end_time": "2021-11-13T16:35:55.108696",
          "exception": false,
          "start_time": "2021-11-13T16:35:55.029325",
          "status": "completed"
        },
        "tags": [],
        "id": "08850fd7"
      },
      "outputs": [],
      "source": [
        "feature_names=np.array(tfidf_vectorizer.get_feature_names())\n",
        "show_top10_features(lsvc,feature_names, lsvc.classes_)"
      ]
    },
    {
      "cell_type": "code",
      "execution_count": null,
      "id": "b08b904f",
      "metadata": {
        "execution": {
          "iopub.execute_input": "2021-11-13T16:35:55.210077Z",
          "iopub.status.busy": "2021-11-13T16:35:55.209091Z",
          "iopub.status.idle": "2021-11-13T16:35:55.215210Z",
          "shell.execute_reply": "2021-11-13T16:35:55.215754Z",
          "shell.execute_reply.started": "2021-11-13T16:23:41.023942Z"
        },
        "papermill": {
          "duration": 0.058628,
          "end_time": "2021-11-13T16:35:55.215925",
          "exception": false,
          "start_time": "2021-11-13T16:35:55.157297",
          "status": "completed"
        },
        "tags": [],
        "id": "b08b904f",
        "outputId": "37308f72-e7ce-425c-d1fd-27766d9f64b6",
        "colab": {
          "base_uri": "https://localhost:8080/"
        }
      },
      "outputs": [
        {
          "output_type": "stream",
          "name": "stdout",
          "text": [
            "New dataset shape:  (211, 204)\n",
            "Reduced Number of Features:  77\n"
          ]
        }
      ],
      "source": [
        "print(\"New dataset shape: \",X_sel.shape)\n",
        "print(\"Reduced Number of Features: \",X_norm.shape[1]-X_sel.shape[1])"
      ]
    },
    {
      "cell_type": "markdown",
      "id": "cac1f359",
      "metadata": {
        "papermill": {
          "duration": 0.049383,
          "end_time": "2021-11-13T16:35:55.315384",
          "exception": false,
          "start_time": "2021-11-13T16:35:55.266001",
          "status": "completed"
        },
        "tags": [],
        "id": "cac1f359"
      },
      "source": [
        "## Predictive Models"
      ]
    },
    {
      "cell_type": "code",
      "execution_count": null,
      "id": "7f09c644",
      "metadata": {
        "execution": {
          "iopub.execute_input": "2021-11-13T16:35:55.423257Z",
          "iopub.status.busy": "2021-11-13T16:35:55.422211Z",
          "iopub.status.idle": "2021-11-13T16:35:55.426719Z",
          "shell.execute_reply": "2021-11-13T16:35:55.427175Z",
          "shell.execute_reply.started": "2021-11-13T16:23:41.030868Z"
        },
        "papermill": {
          "duration": 0.06281,
          "end_time": "2021-11-13T16:35:55.427348",
          "exception": false,
          "start_time": "2021-11-13T16:35:55.364538",
          "status": "completed"
        },
        "tags": [],
        "id": "7f09c644"
      },
      "outputs": [],
      "source": [
        "def print_confusion_matrix(confusion_matrix, \n",
        "                           class_names, \n",
        "                           figsize=(8,8), \n",
        "                           fontsize=12,\n",
        "                           ylabel='True label',\n",
        "                           xlabel='Predicted label'):\n",
        "    df_cm = pd.DataFrame(\n",
        "        confusion_matrix, index=class_names, columns=class_names, \n",
        "    )\n",
        "    fig = plt.figure(figsize=figsize)\n",
        "    try:\n",
        "        heatmap = sns.heatmap(df_cm, annot=True, fmt=\"d\")\n",
        "    except ValueError:\n",
        "        raise ValueError(\"Confusion matrix values must be integers.\")\n",
        "    heatmap.yaxis.set_ticklabels(heatmap.yaxis.get_ticklabels(), rotation=0, ha='right',fontsize=fontsize)\n",
        "    heatmap.xaxis.set_ticklabels(heatmap.xaxis.get_ticklabels(), rotation=45, ha='right',fontsize=fontsize)\n",
        "    plt.ylabel(ylabel)\n",
        "    plt.xlabel(xlabel)"
      ]
    },
    {
      "cell_type": "code",
      "execution_count": null,
      "id": "b8940992",
      "metadata": {
        "execution": {
          "iopub.execute_input": "2021-11-13T16:35:55.536123Z",
          "iopub.status.busy": "2021-11-13T16:35:55.535021Z",
          "iopub.status.idle": "2021-11-13T16:35:55.536942Z",
          "shell.execute_reply": "2021-11-13T16:35:55.537437Z",
          "shell.execute_reply.started": "2021-11-13T16:23:41.043756Z"
        },
        "papermill": {
          "duration": 0.061077,
          "end_time": "2021-11-13T16:35:55.537618",
          "exception": false,
          "start_time": "2021-11-13T16:35:55.476541",
          "status": "completed"
        },
        "tags": [],
        "id": "b8940992"
      },
      "outputs": [],
      "source": [
        "def evaluate_model(model, X, y, X_test, y_test, target_names=None):\n",
        "    scores = cross_val_score(model, X, y, cv=5, scoring='accuracy')\n",
        "    scores_test = cross_val_score(model, X_test, y_test, cv=5, scoring='accuracy')\n",
        "    \n",
        "    print(\"Accuracy: %0.2f (+/- %0.2f)\" % (scores.mean(), scores.std()))\n",
        "    print(\"Accuracy test: %0.2f (+/- %0.2f)\" % (scores_test.mean(), scores_test.std()))\n",
        "    \n",
        "    print(\"Test classification report: \")\n",
        "    if target_names is None:\n",
        "        target_names = model.classes_\n",
        "    print(classification_report(y_test, model.predict(X_test), target_names=target_names))\n",
        "    print(\"Test confusion matrix: \")\n",
        "    print_confusion_matrix(confusion_matrix(y_test, model.predict(X_test)), class_names=target_names)"
      ]
    },
    {
      "cell_type": "markdown",
      "id": "cf6b8582",
      "metadata": {
        "papermill": {
          "duration": 0.048568,
          "end_time": "2021-11-13T16:35:55.732415",
          "exception": false,
          "start_time": "2021-11-13T16:35:55.683847",
          "status": "completed"
        },
        "tags": [],
        "id": "cf6b8582"
      },
      "source": [
        "## Multinomial Naive Bayes"
      ]
    },
    {
      "cell_type": "code",
      "execution_count": null,
      "id": "dcbd60e1",
      "metadata": {
        "execution": {
          "iopub.execute_input": "2021-11-13T16:35:55.838456Z",
          "iopub.status.busy": "2021-11-13T16:35:55.836869Z",
          "iopub.status.idle": "2021-11-13T16:35:58.435161Z",
          "shell.execute_reply": "2021-11-13T16:35:58.435669Z",
          "shell.execute_reply.started": "2021-11-13T16:23:41.060538Z"
        },
        "papermill": {
          "duration": 2.654459,
          "end_time": "2021-11-13T16:35:58.435853",
          "exception": false,
          "start_time": "2021-11-13T16:35:55.781394",
          "status": "completed"
        },
        "tags": [],
        "id": "dcbd60e1",
        "outputId": "a2b3d862-3790-476e-86df-ce7cf35a1b55",
        "colab": {
          "base_uri": "https://localhost:8080/",
          "height": 780
        }
      },
      "outputs": [
        {
          "output_type": "stream",
          "name": "stdout",
          "text": [
            "Accuracy: 0.53 (+/- 0.06)\n",
            "Accuracy test: 0.44 (+/- 0.04)\n",
            "Test classification report: \n",
            "              precision    recall  f1-score   support\n",
            "\n",
            "   Detractor       0.33      0.12      0.17        17\n",
            "     Passive       0.45      0.26      0.33        34\n",
            "    Promoter       0.52      0.85      0.65        40\n",
            "\n",
            "    accuracy                           0.49        91\n",
            "   macro avg       0.44      0.41      0.38        91\n",
            "weighted avg       0.46      0.49      0.44        91\n",
            "\n",
            "Test confusion matrix: \n"
          ]
        },
        {
          "output_type": "display_data",
          "data": {
            "text/plain": [
              "<Figure size 576x576 with 2 Axes>"
            ],
            "image/png": "[encoded data removed]"
          },
          "metadata": {
            "needs_background": "light"
          }
        }
      ],
      "source": [
        "mb=MultinomialNB()\n",
        "mb.fit(X_sel, y)\n",
        "evaluate_model(mb,X_sel,y,X_test_sel,y_test)"
      ]
    },
    {
      "cell_type": "markdown",
      "id": "17b179a2",
      "metadata": {
        "papermill": {
          "duration": 0.05339,
          "end_time": "2021-11-13T16:36:01.276063",
          "exception": false,
          "start_time": "2021-11-13T16:36:01.222673",
          "status": "completed"
        },
        "tags": [],
        "id": "17b179a2"
      },
      "source": [
        "## Logistic Regression"
      ]
    },
    {
      "cell_type": "code",
      "execution_count": null,
      "id": "f965f18c",
      "metadata": {
        "execution": {
          "iopub.execute_input": "2021-11-13T16:36:01.389705Z",
          "iopub.status.busy": "2021-11-13T16:36:01.388996Z",
          "iopub.status.idle": "2021-11-13T16:36:04.733210Z",
          "shell.execute_reply": "2021-11-13T16:36:04.733746Z",
          "shell.execute_reply.started": "2021-11-13T16:23:46.069709Z"
        },
        "papermill": {
          "duration": 3.404382,
          "end_time": "2021-11-13T16:36:04.733920",
          "exception": false,
          "start_time": "2021-11-13T16:36:01.329538",
          "status": "completed"
        },
        "tags": [],
        "id": "f965f18c",
        "outputId": "3a3a887b-707f-473a-ee30-1cc13210f794",
        "colab": {
          "base_uri": "https://localhost:8080/",
          "height": 780
        }
      },
      "outputs": [
        {
          "output_type": "stream",
          "name": "stdout",
          "text": [
            "Accuracy: 0.56 (+/- 0.04)\n",
            "Accuracy test: 0.38 (+/- 0.05)\n",
            "Test classification report: \n",
            "              precision    recall  f1-score   support\n",
            "\n",
            "   Detractor       0.43      0.18      0.25        17\n",
            "     Passive       0.47      0.41      0.44        34\n",
            "    Promoter       0.57      0.78      0.66        40\n",
            "\n",
            "    accuracy                           0.53        91\n",
            "   macro avg       0.49      0.45      0.45        91\n",
            "weighted avg       0.51      0.53      0.50        91\n",
            "\n",
            "Test confusion matrix: \n"
          ]
        },
        {
          "output_type": "display_data",
          "data": {
            "text/plain": [
              "<Figure size 576x576 with 2 Axes>"
            ],
            "image/png": "[encoded data removed]"
          },
          "metadata": {
            "needs_background": "light"
          }
        }
      ],
      "source": [
        "lr=LogisticRegression(multi_class='ovr',solver='liblinear',C=10,penalty='l2')\n",
        "lr.fit(X_sel,y)\n",
        "evaluate_model(lr,X_sel,y,X_test_sel,y_test)"
      ]
    },
    {
      "cell_type": "markdown",
      "id": "cab2c0e1",
      "metadata": {
        "papermill": {
          "duration": 0.059491,
          "end_time": "2021-11-13T16:36:14.867267",
          "exception": false,
          "start_time": "2021-11-13T16:36:14.807776",
          "status": "completed"
        },
        "tags": [],
        "id": "cab2c0e1"
      },
      "source": [
        "## SGDClassifier"
      ]
    },
    {
      "cell_type": "code",
      "execution_count": null,
      "id": "200671ec",
      "metadata": {
        "execution": {
          "iopub.execute_input": "2021-11-13T16:36:14.993595Z",
          "iopub.status.busy": "2021-11-13T16:36:14.992729Z",
          "iopub.status.idle": "2021-11-13T16:36:33.222747Z",
          "shell.execute_reply": "2021-11-13T16:36:33.221730Z",
          "shell.execute_reply.started": "2021-11-13T16:23:58.347262Z"
        },
        "papermill": {
          "duration": 18.295749,
          "end_time": "2021-11-13T16:36:33.222896",
          "exception": false,
          "start_time": "2021-11-13T16:36:14.927147",
          "status": "completed"
        },
        "tags": [],
        "id": "200671ec",
        "outputId": "066769c7-3337-4ea0-a8b0-1f086298a69f",
        "colab": {
          "base_uri": "https://localhost:8080/",
          "height": 780
        }
      },
      "outputs": [
        {
          "output_type": "stream",
          "name": "stdout",
          "text": [
            "Accuracy: 0.50 (+/- 0.02)\n",
            "Accuracy test: 0.34 (+/- 0.05)\n",
            "Test classification report: \n",
            "              precision    recall  f1-score   support\n",
            "\n",
            "   Detractor       0.22      0.12      0.15        17\n",
            "     Passive       0.45      0.41      0.43        34\n",
            "    Promoter       0.55      0.70      0.62        40\n",
            "\n",
            "    accuracy                           0.48        91\n",
            "   macro avg       0.41      0.41      0.40        91\n",
            "weighted avg       0.45      0.48      0.46        91\n",
            "\n",
            "Test confusion matrix: \n"
          ]
        },
        {
          "output_type": "display_data",
          "data": {
            "text/plain": [
              "<Figure size 576x576 with 2 Axes>"
            ],
            "image/png": "[encoded data removed]"
          },
          "metadata": {
            "needs_background": "light"
          }
        }
      ],
      "source": [
        "sgd=SGDClassifier(alpha=.0001, max_iter=50, loss='log',penalty=\"elasticnet\", n_jobs=-1)\n",
        "sgd.fit(X_sel,y)\n",
        "evaluate_model(sgd, X_sel, y, X_test_sel, y_test)"
      ]
    },
    {
      "cell_type": "markdown",
      "id": "e1f4c044",
      "metadata": {
        "papermill": {
          "duration": 0.063164,
          "end_time": "2021-11-13T16:36:33.348190",
          "exception": false,
          "start_time": "2021-11-13T16:36:33.285026",
          "status": "completed"
        },
        "tags": [],
        "id": "e1f4c044"
      },
      "source": [
        "## Soft Voting"
      ]
    },
    {
      "cell_type": "code",
      "execution_count": null,
      "id": "2ea02530",
      "metadata": {
        "execution": {
          "iopub.execute_input": "2021-11-13T16:36:33.475088Z",
          "iopub.status.busy": "2021-11-13T16:36:33.474407Z",
          "iopub.status.idle": "2021-11-13T16:36:56.467828Z",
          "shell.execute_reply": "2021-11-13T16:36:56.467260Z",
          "shell.execute_reply.started": "2021-11-13T16:24:14.408656Z"
        },
        "papermill": {
          "duration": 23.058406,
          "end_time": "2021-11-13T16:36:56.467977",
          "exception": false,
          "start_time": "2021-11-13T16:36:33.409571",
          "status": "completed"
        },
        "tags": [],
        "id": "2ea02530",
        "colab": {
          "base_uri": "https://localhost:8080/",
          "height": 784
        },
        "outputId": "5cc76ac4-9ea3-4e10-e63c-b1ea6930850c"
      },
      "outputs": [
        {
          "output_type": "stream",
          "name": "stdout",
          "text": [
            "Accuracy: 0.54 (+/- 0.01)\n",
            "Accuracy test: 0.38 (+/- 0.05)\n",
            "Test classification report: \n",
            "              precision    recall  f1-score   support\n",
            "\n",
            "   Detractor       0.33      0.18      0.23        17\n",
            "     Passive       0.47      0.41      0.44        34\n",
            "    Promoter       0.58      0.75      0.65        40\n",
            "\n",
            "    accuracy                           0.52        91\n",
            "   macro avg       0.46      0.45      0.44        91\n",
            "weighted avg       0.49      0.52      0.49        91\n",
            "\n",
            "Test confusion matrix: \n"
          ]
        },
        {
          "output_type": "display_data",
          "data": {
            "text/plain": [
              "<Figure size 576x576 with 2 Axes>"
            ],
            "image/png": "[encoded data removed]"
          },
          "metadata": {
            "needs_background": "light"
          }
        }
      ],
      "source": [
        "vclf_sgd=VotingClassifier(estimators=[\n",
        "        ('lr',LogisticRegression(multi_class='ovr',solver='liblinear',C=10,penalty='l2')),\n",
        "        ('mb',MultinomialNB()),\n",
        "        ('sgd',SGDClassifier(alpha=.0001,max_iter=50,loss='log',penalty=\"elasticnet\"))],voting='soft',n_jobs=-1)\n",
        "vclf_sgd.fit(X_sel,y)\n",
        "evaluate_model(vclf_sgd,X_sel,y,X_test_sel,y_test)"
      ]
    },
    {
      "cell_type": "markdown",
      "id": "9c7c6a27",
      "metadata": {
        "papermill": {
          "duration": 0.064043,
          "end_time": "2021-11-13T16:36:56.596398",
          "exception": false,
          "start_time": "2021-11-13T16:36:56.532355",
          "status": "completed"
        },
        "tags": [],
        "id": "9c7c6a27"
      },
      "source": [
        "#Creating Pipeline"
      ]
    },
    {
      "cell_type": "code",
      "execution_count": null,
      "id": "efaed215",
      "metadata": {
        "execution": {
          "iopub.execute_input": "2021-11-13T16:36:56.738337Z",
          "iopub.status.busy": "2021-11-13T16:36:56.737631Z",
          "iopub.status.idle": "2021-11-13T16:36:56.739340Z",
          "shell.execute_reply": "2021-11-13T16:36:56.739842Z",
          "shell.execute_reply.started": "2021-11-13T16:24:35.370254Z"
        },
        "papermill": {
          "duration": 0.079183,
          "end_time": "2021-11-13T16:36:56.740016",
          "exception": false,
          "start_time": "2021-11-13T16:36:56.660833",
          "status": "completed"
        },
        "tags": [],
        "id": "efaed215"
      },
      "outputs": [],
      "source": [
        "class TextPreprocessor(BaseEstimator,TransformerMixin):\n",
        "    def __init__(self, text_attribute):\n",
        "        self.text_attribute = text_attribute\n",
        "    \n",
        "    def fit(self,X,y=None):\n",
        "        return self\n",
        "        \n",
        "    def transform(self,X, *_):\n",
        "        X_copy = X.copy()\n",
        "        return X_copy[self.text_attribute].apply(self._preprocess_text)\n",
        "    \n",
        "    def _preprocess_text(self, text):\n",
        "        return self._lemmatize(self._leave_letters_only(self._clean(text)))\n",
        "    \n",
        "    def _clean(self, text):\n",
        "        bad_symbols='!\"#%&\\'*+,-<=>?[\\\\]^_`{|}~'\n",
        "        text_without_symbols = text.translate(str.maketrans('', '', bad_symbols))\n",
        "\n",
        "        text_without_bad_words=''\n",
        "        for line in text_without_symbols.split('\\n'):\n",
        "            if not line.lower().startswith('from:') and not line.lower().endswith('writes:'):\n",
        "                text_without_bad_words += line + '\\n'\n",
        "\n",
        "        clean_text=text_without_bad_words\n",
        "        email_regex=r'([a-zA-Z0-9_.+-]+@[a-zA-Z0-9-]+\\.[a-zA-Z0-9-.]+)'\n",
        "        regexes_to_remove=[email_regex, r'Subject:', r'Re:']\n",
        "        for r in regexes_to_remove:\n",
        "            clean_tex=re.sub(r,'',clean_text)\n",
        "        return clean_text\n",
        "    \n",
        "    def _leave_letters_only(self,text):\n",
        "        text_without_punctuation=text.translate(str.maketrans('','',string.punctuation))\n",
        "        return ' '.join(re.findall(\"[a-zA-Z]+\", text_without_punctuation))\n",
        "    \n",
        "    def _lemmatize(self, text):\n",
        "        doc=nlp(text)\n",
        "        words=[x.lemma_ for x in [y for y in doc if not y.is_stop and y.pos_ != 'PUNCT' and y.pos_ != 'PART' and y.pos_ != 'X']]\n",
        "        return ' '.join(words)"
      ]
    },
    {
      "cell_type": "code",
      "execution_count": null,
      "id": "d00e1c4d",
      "metadata": {
        "execution": {
          "iopub.execute_input": "2021-11-13T16:36:56.871244Z",
          "iopub.status.busy": "2021-11-13T16:36:56.870576Z",
          "iopub.status.idle": "2021-11-13T16:36:56.875122Z",
          "shell.execute_reply": "2021-11-13T16:36:56.875672Z",
          "shell.execute_reply.started": "2021-11-13T16:24:35.385341Z"
        },
        "papermill": {
          "duration": 0.071331,
          "end_time": "2021-11-13T16:36:56.875844",
          "exception": false,
          "start_time": "2021-11-13T16:36:56.804513",
          "status": "completed"
        },
        "tags": [],
        "id": "d00e1c4d"
      },
      "outputs": [],
      "source": [
        "class DenseTransformer(TransformerMixin):\n",
        "    def fit(self,X,y=None, **fit_params):\n",
        "        return self\n",
        "\n",
        "    def transform(self,X,y=None, **fit_params):\n",
        "        return X.todense()"
      ]
    },
    {
      "cell_type": "code",
      "execution_count": null,
      "id": "8f484116",
      "metadata": {
        "execution": {
          "iopub.execute_input": "2021-11-13T16:36:57.009605Z",
          "iopub.status.busy": "2021-11-13T16:36:57.008885Z",
          "iopub.status.idle": "2021-11-13T16:36:57.017225Z",
          "shell.execute_reply": "2021-11-13T16:36:57.016559Z",
          "shell.execute_reply.started": "2021-11-13T16:24:35.405301Z"
        },
        "papermill": {
          "duration": 0.076643,
          "end_time": "2021-11-13T16:36:57.017392",
          "exception": false,
          "start_time": "2021-11-13T16:36:56.940749",
          "status": "completed"
        },
        "tags": [],
        "id": "8f484116"
      },
      "outputs": [],
      "source": [
        "text_classification_pipeline=Pipeline([\n",
        "    ('text_preprocessor',TextPreprocessor(text_attribute='text')),\n",
        "    ('vectorizer',TfidfVectorizer(analyzer = \"word\", max_features=10000)),\n",
        "    ('todense_converter',DenseTransformer()),\n",
        "    ('scaler',MinMaxScaler()),\n",
        "    ('classifier',VotingClassifier(estimators=[\n",
        "                        ('lr',LogisticRegression(multi_class='ovr', solver = 'liblinear', C=10, penalty = 'l2')),\n",
        "                        ('mb',MultinomialNB()),\n",
        "                        ('sgd',SGDClassifier(alpha=.0001, max_iter=50, loss='log', penalty=\"elasticnet\"))], voting='soft', n_jobs=-1))])"
      ]
    },
    {
      "cell_type": "markdown",
      "id": "7250256c",
      "metadata": {
        "papermill": {
          "duration": 0.063201,
          "end_time": "2021-11-13T16:36:57.283540",
          "exception": false,
          "start_time": "2021-11-13T16:36:57.220339",
          "status": "completed"
        },
        "tags": [],
        "id": "7250256c"
      },
      "source": [
        "# Testing Cases"
      ]
    },
    {
      "cell_type": "code",
      "execution_count": null,
      "id": "937e0d75",
      "metadata": {
        "execution": {
          "iopub.execute_input": "2021-11-13T16:36:57.557325Z",
          "iopub.status.busy": "2021-11-13T16:36:57.556680Z",
          "iopub.status.idle": "2021-11-13T16:36:57.571377Z",
          "shell.execute_reply": "2021-11-13T16:36:57.570713Z",
          "shell.execute_reply.started": "2021-11-13T16:25:19.259677Z"
        },
        "papermill": {
          "duration": 0.081311,
          "end_time": "2021-11-13T16:36:57.571545",
          "exception": false,
          "start_time": "2021-11-13T16:36:57.490234",
          "status": "completed"
        },
        "tags": [],
        "id": "937e0d75",
        "colab": {
          "base_uri": "https://localhost:8080/",
          "height": 206
        },
        "outputId": "ccfecbfd-e547-4eb7-ca9d-71066d585d1d"
      },
      "outputs": [
        {
          "output_type": "execute_result",
          "data": {
            "text/plain": [
              "                                                  text\n",
              "302  Agent  collects the cheque and reminds about t...\n",
              "303  Agent  personally visited the customer to inqu...\n",
              "304          Agent always inform about premium payment\n",
              "305  agent always remind customer before 10 days fo...\n",
              "306  agent always reminds about premium payment to ..."
            ],
            "text/html": [
              "\n",
              "  <div id=\"df-0bbfed3f-612c-4a35-ac4d-710c464f5e98\">\n",
              "    <div class=\"colab-df-container\">\n",
              "      <div>\n",
              "<style scoped>\n",
              "    .dataframe tbody tr th:only-of-type {\n",
              "        vertical-align: middle;\n",
              "    }\n",
              "\n",
              "    .dataframe tbody tr th {\n",
              "        vertical-align: top;\n",
              "    }\n",
              "\n",
              "    .dataframe thead th {\n",
              "        text-align: right;\n",
              "    }\n",
              "</style>\n",
              "<table border=\"1\" class=\"dataframe\">\n",
              "  <thead>\n",
              "    <tr style=\"text-align: right;\">\n",
              "      <th></th>\n",
              "      <th>text</th>\n",
              "    </tr>\n",
              "  </thead>\n",
              "  <tbody>\n",
              "    <tr>\n",
              "      <th>302</th>\n",
              "      <td>Agent  collects the cheque and reminds about t...</td>\n",
              "    </tr>\n",
              "    <tr>\n",
              "      <th>303</th>\n",
              "      <td>Agent  personally visited the customer to inqu...</td>\n",
              "    </tr>\n",
              "    <tr>\n",
              "      <th>304</th>\n",
              "      <td>Agent always inform about premium payment</td>\n",
              "    </tr>\n",
              "    <tr>\n",
              "      <th>305</th>\n",
              "      <td>agent always remind customer before 10 days fo...</td>\n",
              "    </tr>\n",
              "    <tr>\n",
              "      <th>306</th>\n",
              "      <td>agent always reminds about premium payment to ...</td>\n",
              "    </tr>\n",
              "  </tbody>\n",
              "</table>\n",
              "</div>\n",
              "      <button class=\"colab-df-convert\" onclick=\"convertToInteractive('df-0bbfed3f-612c-4a35-ac4d-710c464f5e98')\"\n",
              "              title=\"Convert this dataframe to an interactive table.\"\n",
              "              style=\"display:none;\">\n",
              "        \n",
              "  <svg xmlns=\"http://www.w3.org/2000/svg\" height=\"24px\"viewBox=\"0 0 24 24\"\n",
              "       width=\"24px\">\n",
              "    <path d=\"M0 0h24v24H0V0z\" fill=\"none\"/>\n",
              "    <path d=\"M18.56 5.44l.94 2.06.94-2.06 2.06-.94-2.06-.94-.94-2.06-.94 2.06-2.06.94zm-11 1L8.5 8.5l.94-2.06 2.06-.94-2.06-.94L8.5 2.5l-.94 2.06-2.06.94zm10 10l.94 2.06.94-2.06 2.06-.94-2.06-.94-.94-2.06-.94 2.06-2.06.94z\"/><path d=\"M17.41 7.96l-1.37-1.37c-.4-.4-.92-.59-1.43-.59-.52 0-1.04.2-1.43.59L10.3 9.45l-7.72 7.72c-.78.78-.78 2.05 0 2.83L4 21.41c.39.39.9.59 1.41.59.51 0 1.02-.2 1.41-.59l7.78-7.78 2.81-2.81c.8-.78.8-2.07 0-2.86zM5.41 20L4 18.59l7.72-7.72 1.47 1.35L5.41 20z\"/>\n",
              "  </svg>\n",
              "      </button>\n",
              "      \n",
              "  <style>\n",
              "    .colab-df-container {\n",
              "      display:flex;\n",
              "      flex-wrap:wrap;\n",
              "      gap: 12px;\n",
              "    }\n",
              "\n",
              "    .colab-df-convert {\n",
              "      background-color: #E8F0FE;\n",
              "      border: none;\n",
              "      border-radius: 50%;\n",
              "      cursor: pointer;\n",
              "      display: none;\n",
              "      fill: #1967D2;\n",
              "      height: 32px;\n",
              "      padding: 0 0 0 0;\n",
              "      width: 32px;\n",
              "    }\n",
              "\n",
              "    .colab-df-convert:hover {\n",
              "      background-color: #E2EBFA;\n",
              "      box-shadow: 0px 1px 2px rgba(60, 64, 67, 0.3), 0px 1px 3px 1px rgba(60, 64, 67, 0.15);\n",
              "      fill: #174EA6;\n",
              "    }\n",
              "\n",
              "    [theme=dark] .colab-df-convert {\n",
              "      background-color: #3B4455;\n",
              "      fill: #D2E3FC;\n",
              "    }\n",
              "\n",
              "    [theme=dark] .colab-df-convert:hover {\n",
              "      background-color: #434B5C;\n",
              "      box-shadow: 0px 1px 3px 1px rgba(0, 0, 0, 0.15);\n",
              "      filter: drop-shadow(0px 1px 2px rgba(0, 0, 0, 0.3));\n",
              "      fill: #FFFFFF;\n",
              "    }\n",
              "  </style>\n",
              "\n",
              "      <script>\n",
              "        const buttonEl =\n",
              "          document.querySelector('#df-0bbfed3f-612c-4a35-ac4d-710c464f5e98 button.colab-df-convert');\n",
              "        buttonEl.style.display =\n",
              "          google.colab.kernel.accessAllowed ? 'block' : 'none';\n",
              "\n",
              "        async function convertToInteractive(key) {\n",
              "          const element = document.querySelector('#df-0bbfed3f-612c-4a35-ac4d-710c464f5e98');\n",
              "          const dataTable =\n",
              "            await google.colab.kernel.invokeFunction('convertToInteractive',\n",
              "                                                     [key], {});\n",
              "          if (!dataTable) return;\n",
              "\n",
              "          const docLinkHtml = 'Like what you see? Visit the ' +\n",
              "            '<a target=\"_blank\" href=https://colab.research.google.com/notebooks/data_table.ipynb>data table notebook</a>'\n",
              "            + ' to learn more about interactive tables.';\n",
              "          element.innerHTML = '';\n",
              "          dataTable['output_type'] = 'display_data';\n",
              "          await google.colab.output.renderOutput(dataTable, element);\n",
              "          const docLink = document.createElement('div');\n",
              "          docLink.innerHTML = docLinkHtml;\n",
              "          element.appendChild(docLink);\n",
              "        }\n",
              "      </script>\n",
              "    </div>\n",
              "  </div>\n",
              "  "
            ]
          },
          "metadata": {},
          "execution_count": 347
        }
      ],
      "source": [
        "X_p=df2.drop(columns=[\"target\"])\n",
        "y_p=df2['target']\n",
        "X_p.head()"
      ]
    },
    {
      "cell_type": "code",
      "source": [
        "pipeline=text_classification_pipeline\n",
        "pipeline.fit(X_p,y_p)"
      ],
      "metadata": {
        "colab": {
          "base_uri": "https://localhost:8080/"
        },
        "id": "zAiwqIi8snxX",
        "outputId": "fa74ad23-cdd4-4210-95e2-fdd742099967"
      },
      "id": "zAiwqIi8snxX",
      "execution_count": null,
      "outputs": [
        {
          "output_type": "execute_result",
          "data": {
            "text/plain": [
              "Pipeline(steps=[('text_preprocessor', TextPreprocessor(text_attribute='text')),\n",
              "                ('vectorizer', TfidfVectorizer(max_features=10000)),\n",
              "                ('todense_converter',\n",
              "                 <__main__.DenseTransformer object at 0x7fa76cd5c250>),\n",
              "                ('scaler', MinMaxScaler()),\n",
              "                ('classifier',\n",
              "                 VotingClassifier(estimators=[('lr',\n",
              "                                               LogisticRegression(C=10,\n",
              "                                                                  multi_class='ovr',\n",
              "                                                                  solver='liblinear')),\n",
              "                                              ('mb', MultinomialNB()),\n",
              "                                              ('sgd',\n",
              "                                               SGDClassifier(loss='log',\n",
              "                                                             max_iter=50,\n",
              "                                                             penalty='elasticnet'))],\n",
              "                                  n_jobs=-1, voting='soft'))])"
            ]
          },
          "metadata": {},
          "execution_count": 348
        }
      ]
    },
    {
      "cell_type": "code",
      "source": [
        "y_pred=pipeline.predict(X_p)"
      ],
      "metadata": {
        "id": "Z72_nBgvsp4-"
      },
      "id": "Z72_nBgvsp4-",
      "execution_count": null,
      "outputs": []
    },
    {
      "cell_type": "code",
      "source": [
        "data=['i have had a bad experience in this company']\n",
        "X_p_test=pd.DataFrame(data,columns=['text'])\n",
        "X_p_test"
      ],
      "metadata": {
        "colab": {
          "base_uri": "https://localhost:8080/",
          "height": 81
        },
        "id": "bvFdaQDjVOE0",
        "outputId": "bf1a589f-d882-4dba-99b4-a9bbaaf7580e"
      },
      "id": "bvFdaQDjVOE0",
      "execution_count": null,
      "outputs": [
        {
          "output_type": "execute_result",
          "data": {
            "text/plain": [
              "                                          text\n",
              "0  i have had a bad experience in this company"
            ],
            "text/html": [
              "\n",
              "  <div id=\"df-5a5b6d25-3b85-4cab-9665-a9c0afd51ebb\">\n",
              "    <div class=\"colab-df-container\">\n",
              "      <div>\n",
              "<style scoped>\n",
              "    .dataframe tbody tr th:only-of-type {\n",
              "        vertical-align: middle;\n",
              "    }\n",
              "\n",
              "    .dataframe tbody tr th {\n",
              "        vertical-align: top;\n",
              "    }\n",
              "\n",
              "    .dataframe thead th {\n",
              "        text-align: right;\n",
              "    }\n",
              "</style>\n",
              "<table border=\"1\" class=\"dataframe\">\n",
              "  <thead>\n",
              "    <tr style=\"text-align: right;\">\n",
              "      <th></th>\n",
              "      <th>text</th>\n",
              "    </tr>\n",
              "  </thead>\n",
              "  <tbody>\n",
              "    <tr>\n",
              "      <th>0</th>\n",
              "      <td>i have had a bad experience in this company</td>\n",
              "    </tr>\n",
              "  </tbody>\n",
              "</table>\n",
              "</div>\n",
              "      <button class=\"colab-df-convert\" onclick=\"convertToInteractive('df-5a5b6d25-3b85-4cab-9665-a9c0afd51ebb')\"\n",
              "              title=\"Convert this dataframe to an interactive table.\"\n",
              "              style=\"display:none;\">\n",
              "        \n",
              "  <svg xmlns=\"http://www.w3.org/2000/svg\" height=\"24px\"viewBox=\"0 0 24 24\"\n",
              "       width=\"24px\">\n",
              "    <path d=\"M0 0h24v24H0V0z\" fill=\"none\"/>\n",
              "    <path d=\"M18.56 5.44l.94 2.06.94-2.06 2.06-.94-2.06-.94-.94-2.06-.94 2.06-2.06.94zm-11 1L8.5 8.5l.94-2.06 2.06-.94-2.06-.94L8.5 2.5l-.94 2.06-2.06.94zm10 10l.94 2.06.94-2.06 2.06-.94-2.06-.94-.94-2.06-.94 2.06-2.06.94z\"/><path d=\"M17.41 7.96l-1.37-1.37c-.4-.4-.92-.59-1.43-.59-.52 0-1.04.2-1.43.59L10.3 9.45l-7.72 7.72c-.78.78-.78 2.05 0 2.83L4 21.41c.39.39.9.59 1.41.59.51 0 1.02-.2 1.41-.59l7.78-7.78 2.81-2.81c.8-.78.8-2.07 0-2.86zM5.41 20L4 18.59l7.72-7.72 1.47 1.35L5.41 20z\"/>\n",
              "  </svg>\n",
              "      </button>\n",
              "      \n",
              "  <style>\n",
              "    .colab-df-container {\n",
              "      display:flex;\n",
              "      flex-wrap:wrap;\n",
              "      gap: 12px;\n",
              "    }\n",
              "\n",
              "    .colab-df-convert {\n",
              "      background-color: #E8F0FE;\n",
              "      border: none;\n",
              "      border-radius: 50%;\n",
              "      cursor: pointer;\n",
              "      display: none;\n",
              "      fill: #1967D2;\n",
              "      height: 32px;\n",
              "      padding: 0 0 0 0;\n",
              "      width: 32px;\n",
              "    }\n",
              "\n",
              "    .colab-df-convert:hover {\n",
              "      background-color: #E2EBFA;\n",
              "      box-shadow: 0px 1px 2px rgba(60, 64, 67, 0.3), 0px 1px 3px 1px rgba(60, 64, 67, 0.15);\n",
              "      fill: #174EA6;\n",
              "    }\n",
              "\n",
              "    [theme=dark] .colab-df-convert {\n",
              "      background-color: #3B4455;\n",
              "      fill: #D2E3FC;\n",
              "    }\n",
              "\n",
              "    [theme=dark] .colab-df-convert:hover {\n",
              "      background-color: #434B5C;\n",
              "      box-shadow: 0px 1px 3px 1px rgba(0, 0, 0, 0.15);\n",
              "      filter: drop-shadow(0px 1px 2px rgba(0, 0, 0, 0.3));\n",
              "      fill: #FFFFFF;\n",
              "    }\n",
              "  </style>\n",
              "\n",
              "      <script>\n",
              "        const buttonEl =\n",
              "          document.querySelector('#df-5a5b6d25-3b85-4cab-9665-a9c0afd51ebb button.colab-df-convert');\n",
              "        buttonEl.style.display =\n",
              "          google.colab.kernel.accessAllowed ? 'block' : 'none';\n",
              "\n",
              "        async function convertToInteractive(key) {\n",
              "          const element = document.querySelector('#df-5a5b6d25-3b85-4cab-9665-a9c0afd51ebb');\n",
              "          const dataTable =\n",
              "            await google.colab.kernel.invokeFunction('convertToInteractive',\n",
              "                                                     [key], {});\n",
              "          if (!dataTable) return;\n",
              "\n",
              "          const docLinkHtml = 'Like what you see? Visit the ' +\n",
              "            '<a target=\"_blank\" href=https://colab.research.google.com/notebooks/data_table.ipynb>data table notebook</a>'\n",
              "            + ' to learn more about interactive tables.';\n",
              "          element.innerHTML = '';\n",
              "          dataTable['output_type'] = 'display_data';\n",
              "          await google.colab.output.renderOutput(dataTable, element);\n",
              "          const docLink = document.createElement('div');\n",
              "          docLink.innerHTML = docLinkHtml;\n",
              "          element.appendChild(docLink);\n",
              "        }\n",
              "      </script>\n",
              "    </div>\n",
              "  </div>\n",
              "  "
            ]
          },
          "metadata": {},
          "execution_count": 350
        }
      ]
    },
    {
      "cell_type": "code",
      "source": [
        "y_test_pred=pipeline.predict(X_p_test)\n",
        "print(\"PREDICTION:\",y_test_pred)"
      ],
      "metadata": {
        "id": "qSAXHv0bytAR",
        "colab": {
          "base_uri": "https://localhost:8080/"
        },
        "outputId": "f459bede-3bff-4b8e-975c-95e6b98fbc8d"
      },
      "id": "qSAXHv0bytAR",
      "execution_count": null,
      "outputs": [
        {
          "output_type": "stream",
          "name": "stdout",
          "text": [
            "PREDICTION: ['Passive']\n"
          ]
        }
      ]
    },
    {
      "cell_type": "code",
      "source": [],
      "metadata": {
        "id": "bvM9x_3AXinu"
      },
      "id": "bvM9x_3AXinu",
      "execution_count": null,
      "outputs": []
    },
    {
      "cell_type": "code",
      "source": [],
      "metadata": {
        "id": "wXvLEk23Xi6j"
      },
      "id": "wXvLEk23Xi6j",
      "execution_count": null,
      "outputs": []
    }
  ],
  "metadata": {
    "kernelspec": {
      "display_name": "Python 3",
      "language": "python",
      "name": "python3"
    },
    "language_info": {
      "codemirror_mode": {
        "name": "ipython",
        "version": 3
      },
      "file_extension": ".py",
      "mimetype": "text/x-python",
      "name": "python",
      "nbconvert_exporter": "python",
      "pygments_lexer": "ipython3",
      "version": "3.7.10"
    },
    "papermill": {
      "default_parameters": {},
      "duration": 1327.453843,
      "end_time": "2021-11-13T16:52:01.778085",
      "environment_variables": {},
      "exception": null,
      "input_path": "__notebook__.ipynb",
      "output_path": "__notebook__.ipynb",
      "parameters": {},
      "start_time": "2021-11-13T16:29:54.324242",
      "version": "2.3.3"
    },
    "colab": {
      "provenance": []
    }
  },
  "nbformat": 4,
  "nbformat_minor": 5
}